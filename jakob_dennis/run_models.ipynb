{
 "cells": [
  {
   "cell_type": "markdown",
   "metadata": {},
   "source": [
    "## Machine specific data"
   ]
  },
  {
   "cell_type": "code",
   "execution_count": 1,
   "metadata": {},
   "outputs": [],
   "source": [
    "PSIS_DIRECTORY = '../../assignments'\n",
    "DATA_PATH = '../../bepipred3.json'"
   ]
  },
  {
   "cell_type": "markdown",
   "metadata": {},
   "source": [
    "## Imports"
   ]
  },
  {
   "cell_type": "code",
   "execution_count": 2,
   "metadata": {},
   "outputs": [],
   "source": [
    "import json\n",
    "import numpy as np\n",
    "import pystan\n",
    "import matplotlib.pyplot as plt\n",
    "from scipy.special import logit, expit\n",
    "import sys\n",
    "from math import log\n",
    "\n",
    "sys.path.append(PSIS_DIRECTORY)\n",
    "import psis"
   ]
  },
  {
   "cell_type": "markdown",
   "metadata": {},
   "source": [
    "## Load data"
   ]
  },
  {
   "cell_type": "code",
   "execution_count": 3,
   "metadata": {},
   "outputs": [],
   "source": [
    "with open(DATA_PATH) as file:\n",
    "    data = json.load(file)"
   ]
  },
  {
   "cell_type": "code",
   "execution_count": 4,
   "metadata": {},
   "outputs": [
    {
     "name": "stdout",
     "output_type": "stream",
     "text": [
      "dict_keys(['asa', 'desc', 'disorder', 'epitope', 'id', 'interface', 'method', 'phi', 'preds', 'psi', 'q3', 'q3_prob', 'q8', 'q8_prob', 'rsa', 'seq'])\n"
     ]
    }
   ],
   "source": [
    "print(data[0].keys())"
   ]
  },
  {
   "cell_type": "code",
   "execution_count": 5,
   "metadata": {},
   "outputs": [],
   "source": [
    "# Check that all data has the same amino acids, predictions and labels\n",
    "for protein in data:\n",
    "    assert len(protein['epitope']) == len(protein['preds']) == len(protein['seq'])"
   ]
  },
  {
   "cell_type": "code",
   "execution_count": 6,
   "metadata": {},
   "outputs": [],
   "source": [
    "# Remove X from protein\n",
    "for protein in data:\n",
    "    if 'X' in protein['seq']:\n",
    "        x_positions = [i for i,n in enumerate(protein['seq']) if n == 'X']\n",
    "        for k, v in protein.items():\n",
    "            if not hasattr(v, \"__len__\") or len(v) != len(protein['seq']):\n",
    "                continue\n",
    "            newdata = [x for i,x in enumerate(v) if i not in x_positions]\n",
    "            if isinstance(v, str):\n",
    "                newdata = ''.join(newdata)\n",
    "            protein[k] = newdata"
   ]
  },
  {
   "cell_type": "markdown",
   "metadata": {},
   "source": [
    "## Null model"
   ]
  },
  {
   "cell_type": "code",
   "execution_count": 19,
   "metadata": {},
   "outputs": [
    {
     "data": {
      "text/plain": [
       "-13544.838853581236"
      ]
     },
     "execution_count": 19,
     "metadata": {},
     "output_type": "execute_result"
    }
   ],
   "source": [
    "n_epitopes = sum(sum(protein['epitope']) for protein in data)\n",
    "total_aminoacids = sum(len(protein['epitope']) for protein in data)\n",
    "logps = np.array([log(1 - n_epitopes / total_aminoacids), log(n_epitopes / total_aminoacids)])\n",
    "model_null_loglik = sum(logps[np.array(protein['epitope'])].sum() for protein in data)\n",
    "model_null_loglik"
   ]
  },
  {
   "cell_type": "markdown",
   "metadata": {},
   "source": [
    "## Model 0:\n",
    "\n",
    "Interpret BepiPred output as probabilities"
   ]
  },
  {
   "cell_type": "code",
   "execution_count": 21,
   "metadata": {},
   "outputs": [
    {
     "data": {
      "text/plain": [
       "-12883.652"
      ]
     },
     "execution_count": 21,
     "metadata": {},
     "output_type": "execute_result"
    }
   ],
   "source": [
    "epitopes = np.empty(total_aminoacids, dtype=np.int32)\n",
    "scores = np.empty(total_aminoacids, dtype=np.float32)\n",
    "\n",
    "index = 0\n",
    "for protein in data:\n",
    "    length = len(protein['epitope'])\n",
    "    epitopes[index:index+length] = protein['epitope']\n",
    "    scores[index:index+length] = protein['preds']\n",
    "    index += length\n",
    "    \n",
    "model_0_loglik = np.empty((1, len(scores)), dtype=np.float32)\n",
    "mask = epitopes == 1\n",
    "model_0_loglik[0, mask] = np.log(scores[mask])\n",
    "model_0_loglik[0, ~mask] = np.log(1 - scores[~mask])\n",
    "\n",
    "# No sampling, so we use the loglikelihood\n",
    "model_0_loglik.sum()"
   ]
  },
  {
   "cell_type": "markdown",
   "metadata": {},
   "source": [
    "## Model 1:\n",
    "\n",
    "Epitope status calculated as logistic regression of prediction:\n",
    "\n",
    "$ep = logit^{-1}(\\alpha + \\beta * pred)$"
   ]
  },
  {
   "cell_type": "code",
   "execution_count": 13,
   "metadata": {},
   "outputs": [],
   "source": [
    "with open('models/pooled.stan') as f:\n",
    "    model_1_code = f.read()"
   ]
  },
  {
   "cell_type": "code",
   "execution_count": 15,
   "metadata": {},
   "outputs": [],
   "source": [
    "epitopes = np.empty(total_aminoacids, dtype=np.int32)\n",
    "scores = np.empty(total_aminoacids, dtype=np.float32)\n",
    "\n",
    "index = 0\n",
    "for protein in data:\n",
    "    length = len(protein['epitope'])\n",
    "    epitopes[index:index+length] = protein['epitope']\n",
    "    scores[index:index+length] = protein['preds']\n",
    "    index += length\n",
    "    \n",
    "standata_1 = {'total_aa': total_aminoacids,\n",
    "        'epitopes': epitopes,\n",
    "        'scores': scores\n",
    "       }"
   ]
  },
  {
   "cell_type": "code",
   "execution_count": 16,
   "metadata": {},
   "outputs": [
    {
     "name": "stderr",
     "output_type": "stream",
     "text": [
      "INFO:pystan:COMPILING THE C++ CODE FOR MODEL Model_1_15dac7ff361ffbd44467ef7cae14a597 NOW.\n",
      "/miniconda3/envs/stan/lib/python3.7/site-packages/Cython/Compiler/Main.py:367: FutureWarning: Cython directive 'language_level' not set, using 2 for now (Py2). This will change in a later release! File: /var/folders/4j/9bxrl41n4fn8qvbk_crbzdq40000gp/T/tmp03kkz0s6/stanfit4Model_1_15dac7ff361ffbd44467ef7cae14a597_888587013372514854.pyx\n",
      "  tree = Parsing.p_module(s, pxd, full_module_name)\n"
     ]
    }
   ],
   "source": [
    "model_1 = pystan.StanModel(model_code=model_1_code, model_name='Model_1')"
   ]
  },
  {
   "cell_type": "code",
   "execution_count": 17,
   "metadata": {},
   "outputs": [],
   "source": [
    "fit_1 = model_1.sampling(data=standata_1)"
   ]
  },
  {
   "cell_type": "code",
   "execution_count": 22,
   "metadata": {},
   "outputs": [
    {
     "name": "stdout",
     "output_type": "stream",
     "text": [
      "Inference for Stan model: Model_1_15dac7ff361ffbd44467ef7cae14a597.\n",
      "4 chains, each with iter=2000; warmup=1000; thin=1; \n",
      "post-warmup draws per chain=1000, total post-warmup draws=4000.\n",
      "\n",
      "            mean se_mean     sd   2.5%    25%    50%    75%  97.5%  n_eff   Rhat\n",
      "params[1]  -3.58  1.5e-3   0.04  -3.66   -3.6  -3.58  -3.55   -3.5    787    1.0\n",
      "params[2]  12.63    0.01   0.38  11.91  12.37  12.63  12.87   13.4    794    1.0\n",
      "lp__      -1.3e4    0.03   1.06 -1.3e4 -1.3e4 -1.3e4 -1.3e4 -1.3e4   1073    1.0\n",
      "\n",
      "Samples were drawn using NUTS at Wed May  8 10:54:08 2019.\n",
      "For each parameter, n_eff is a crude measure of effective sample size,\n",
      "and Rhat is the potential scale reduction factor on split chains (at \n",
      "convergence, Rhat=1).\n"
     ]
    }
   ],
   "source": [
    "print(fit_1)"
   ]
  },
  {
   "cell_type": "code",
   "execution_count": 23,
   "metadata": {},
   "outputs": [],
   "source": [
    "# Calculate PSIS LOO\n",
    "extract_1 = fit_1.extract()\n",
    "n_obs = len(extract_1['params'])\n",
    "model_1_loglik = np.empty((n_obs, standata_1['total_aa']), dtype=np.float32)\n",
    "mask = standata_1['epitopes'] == 1\n",
    "for i in range(n_obs):\n",
    "    a, b = extract_1['params'][i]\n",
    "    ps = expit(a + b*standata_1['scores'])\n",
    "    ps[~mask] = 1-ps[~mask]\n",
    "    model_1_loglik[i] = np.log(ps)"
   ]
  },
  {
   "cell_type": "code",
   "execution_count": 24,
   "metadata": {},
   "outputs": [
    {
     "name": "stdout",
     "output_type": "stream",
     "text": [
      "-12992.173\n"
     ]
    }
   ],
   "source": [
    "model_1_loo, model_1_loos, model_1_ks = psis.psisloo(model_1_loglik)\n",
    "print(model_1_loo)"
   ]
  },
  {
   "cell_type": "markdown",
   "metadata": {},
   "source": [
    "## Model 2\n",
    "\n",
    "Hierarchical model distributing over the 20 amino acids: B[aa] ~N(m, s); p ~ expit(B[aa] + a*preds)"
   ]
  },
  {
   "cell_type": "code",
   "execution_count": 26,
   "metadata": {},
   "outputs": [],
   "source": [
    "with open('models/hierarchical.stan') as file:\n",
    "    model_2_code = file.read()"
   ]
  },
  {
   "cell_type": "code",
   "execution_count": 27,
   "metadata": {},
   "outputs": [
    {
     "name": "stderr",
     "output_type": "stream",
     "text": [
      "INFO:pystan:COMPILING THE C++ CODE FOR MODEL anon_model_841b9fd48e668bce07c190a6b29a43a7 NOW.\n",
      "/miniconda3/envs/stan/lib/python3.7/site-packages/Cython/Compiler/Main.py:367: FutureWarning: Cython directive 'language_level' not set, using 2 for now (Py2). This will change in a later release! File: /var/folders/4j/9bxrl41n4fn8qvbk_crbzdq40000gp/T/tmp2rvvvrw2/stanfit4anon_model_841b9fd48e668bce07c190a6b29a43a7_6356699967924853346.pyx\n",
      "  tree = Parsing.p_module(s, pxd, full_module_name)\n"
     ]
    }
   ],
   "source": [
    "model_2 = pystan.StanModel(model_code=model_2_code)"
   ]
  },
  {
   "cell_type": "code",
   "execution_count": 28,
   "metadata": {},
   "outputs": [],
   "source": [
    "aaset = set()\n",
    "for protein in data:\n",
    "    aaset.update(set(protein['seq']))\n",
    "aaindex = {aa:i+1 for i, aa in enumerate(aaset)} # STAN is 1-indexed\n",
    "i = 0\n",
    "aas = np.empty_like(scores, dtype=np.int32)\n",
    "for protein in data:\n",
    "    aas[i:i+len(protein['seq'])] = [aaindex[i] for i in protein['seq']]\n",
    "    i += len(protein['seq'])\n",
    "    \n",
    "classes = len(aaset)\n",
    "\n",
    "standata = {'total_aa': total_aminoacids,\n",
    "            'epitopes': epitopes,\n",
    "            'scores': scores,\n",
    "            'aa':aas,\n",
    "            'classes': classes\n",
    "            }"
   ]
  },
  {
   "cell_type": "code",
   "execution_count": 29,
   "metadata": {},
   "outputs": [
    {
     "name": "stderr",
     "output_type": "stream",
     "text": [
      "WARNING:pystan:9 of 4000 iterations ended with a divergence (0.225%).\n",
      "WARNING:pystan:Try running with adapt_delta larger than 0.8 to remove the divergences.\n"
     ]
    },
    {
     "name": "stdout",
     "output_type": "stream",
     "text": [
      "Inference for Stan model: anon_model_841b9fd48e668bce07c190a6b29a43a7.\n",
      "4 chains, each with iter=2000; warmup=1000; thin=1; \n",
      "post-warmup draws per chain=1000, total post-warmup draws=4000.\n",
      "\n",
      "             mean se_mean     sd   2.5%    25%    50%    75%  97.5%  n_eff   Rhat\n",
      "beta_mu     -3.57  1.6e-3   0.05  -3.66   -3.6  -3.57  -3.53  -3.47    839    1.0\n",
      "beta_sigma   0.09  9.7e-4   0.03   0.04   0.07   0.09   0.11   0.16    959    1.0\n",
      "alpha       12.55    0.01   0.39  11.78  12.29  12.55  12.81  13.33    843    1.0\n",
      "beta[1]     -3.66  2.0e-3   0.09  -3.86  -3.72  -3.65   -3.6   -3.5   2220    1.0\n",
      "beta[2]     -3.67  1.6e-3   0.07  -3.81  -3.71  -3.66  -3.62  -3.53   1948    1.0\n",
      "beta[3]     -3.66  1.5e-3   0.07   -3.8  -3.71  -3.66  -3.62  -3.54   1916    1.0\n",
      "beta[4]     -3.59  1.5e-3   0.07  -3.73  -3.64  -3.59  -3.54  -3.47   1910    1.0\n",
      "beta[5]     -3.66  1.9e-3   0.07   -3.8  -3.71  -3.66  -3.61  -3.52   1388    1.0\n",
      "beta[6]     -3.51  1.8e-3   0.07  -3.65  -3.56  -3.51  -3.46  -3.36   1633    1.0\n",
      "beta[7]     -3.61  1.7e-3   0.07  -3.76  -3.66  -3.61  -3.56  -3.48   1687    1.0\n",
      "beta[8]     -3.58  1.7e-3   0.07  -3.71  -3.62  -3.58  -3.53  -3.44   1641    1.0\n",
      "beta[9]     -3.58  1.5e-3   0.06   -3.7  -3.62  -3.58  -3.53  -3.45   1802    1.0\n",
      "beta[10]    -3.49  1.8e-3   0.07  -3.62  -3.54  -3.49  -3.45  -3.36   1426    1.0\n",
      "beta[11]    -3.59  1.5e-3   0.07  -3.73  -3.64  -3.59  -3.55  -3.46   2069    1.0\n",
      "beta[12]    -3.52  1.9e-3   0.08  -3.66  -3.57  -3.52  -3.47  -3.36   1597    1.0\n",
      "beta[13]    -3.57  1.8e-3   0.07   -3.7  -3.62  -3.57  -3.53  -3.45   1337    1.0\n",
      "beta[14]    -3.57  1.7e-3   0.07   -3.7  -3.61  -3.57  -3.52  -3.43   1612    1.0\n",
      "beta[15]    -3.51  1.6e-3   0.07  -3.65  -3.56  -3.51  -3.47  -3.38   1797    1.0\n",
      "beta[16]    -3.46  2.1e-3   0.07   -3.6  -3.51  -3.46  -3.41  -3.32   1203    1.0\n",
      "beta[17]    -3.51  1.9e-3   0.08  -3.67  -3.57  -3.52  -3.46  -3.35   1752    1.0\n",
      "beta[18]    -3.48  2.2e-3   0.09  -3.64  -3.54  -3.48  -3.42   -3.3   1694    1.0\n",
      "beta[19]    -3.52  1.7e-3   0.08  -3.67  -3.57  -3.52  -3.47  -3.37   1910    1.0\n",
      "beta[20]    -3.57  1.8e-3   0.09  -3.74  -3.63  -3.57  -3.51  -3.39   2379    1.0\n",
      "lp__       -1.3e4    0.17   4.61 -1.3e4 -1.3e4 -1.3e4 -1.3e4 -1.3e4    703    1.0\n",
      "\n",
      "Samples were drawn using NUTS at Wed May  8 10:58:47 2019.\n",
      "For each parameter, n_eff is a crude measure of effective sample size,\n",
      "and Rhat is the potential scale reduction factor on split chains (at \n",
      "convergence, Rhat=1).\n"
     ]
    }
   ],
   "source": [
    "fit_model_2 = model_2.sampling(data=standata)\n",
    "print(fit_model_2)"
   ]
  },
  {
   "cell_type": "code",
   "execution_count": 31,
   "metadata": {},
   "outputs": [],
   "source": [
    "# Calculate PSIS LOO\n",
    "extract_2 = fit_model_2.extract()\n",
    "n_obs = len(extract_1['params'])\n",
    "model_2_loglik = np.empty((n_obs, standata['total_aa']), dtype=np.float32)\n",
    "mask = standata['epitopes'] == 1\n",
    "for i in range(n_obs):\n",
    "    beta = extract_2['beta'][i][standata['aa'] - 1]\n",
    "    alpha = extract_2['alpha'][i]\n",
    "    ps = expit(beta + alpha*standata['scores'])\n",
    "    ps[~mask] = 1-ps[~mask]\n",
    "    model_2_loglik[i] = np.log(ps)"
   ]
  },
  {
   "cell_type": "code",
   "execution_count": 32,
   "metadata": {},
   "outputs": [
    {
     "name": "stdout",
     "output_type": "stream",
     "text": [
      "-12986.496\n"
     ]
    }
   ],
   "source": [
    "model_2_loo, model_2_loos, model_2_ks = psis.psisloo(model_2_loglik)\n",
    "print(model_2_loo)"
   ]
  },
  {
   "cell_type": "markdown",
   "metadata": {},
   "source": [
    "## Model 4\n",
    "\n",
    "p ~ expit(a + b*pred + c/length * pred)"
   ]
  },
  {
   "cell_type": "code",
   "execution_count": 33,
   "metadata": {},
   "outputs": [],
   "source": [
    "with open(\"models/length.stan\") as file:\n",
    "    model_4_code = file.read()"
   ]
  },
  {
   "cell_type": "code",
   "execution_count": 34,
   "metadata": {},
   "outputs": [
    {
     "name": "stderr",
     "output_type": "stream",
     "text": [
      "INFO:pystan:COMPILING THE C++ CODE FOR MODEL anon_model_6af29b92d2f70b85ab0d7a1cb227130d NOW.\n",
      "/miniconda3/envs/stan/lib/python3.7/site-packages/Cython/Compiler/Main.py:367: FutureWarning: Cython directive 'language_level' not set, using 2 for now (Py2). This will change in a later release! File: /var/folders/4j/9bxrl41n4fn8qvbk_crbzdq40000gp/T/tmp_tk3wn17/stanfit4anon_model_6af29b92d2f70b85ab0d7a1cb227130d_7700698942508902993.pyx\n",
      "  tree = Parsing.p_module(s, pxd, full_module_name)\n"
     ]
    }
   ],
   "source": [
    "model_4 = pystan.StanModel(model_code=model_4_code)"
   ]
  },
  {
   "cell_type": "code",
   "execution_count": 35,
   "metadata": {},
   "outputs": [],
   "source": [
    "inv_lens = np.empty(len(standata['aa']), dtype=np.float)\n",
    "index = 0\n",
    "for protein in data:\n",
    "    length = len(protein['seq'])\n",
    "    inv_lens[index:index+length] = 1/length\n",
    "    index += length\n",
    "    \n",
    "standata['inv_length'] = inv_lens"
   ]
  },
  {
   "cell_type": "code",
   "execution_count": 36,
   "metadata": {},
   "outputs": [
    {
     "name": "stdout",
     "output_type": "stream",
     "text": [
      "Inference for Stan model: anon_model_6af29b92d2f70b85ab0d7a1cb227130d.\n",
      "4 chains, each with iter=2000; warmup=1000; thin=1; \n",
      "post-warmup draws per chain=1000, total post-warmup draws=4000.\n",
      "\n",
      "             mean se_mean     sd   2.5%    25%    50%    75%  97.5%  n_eff   Rhat\n",
      "beta_mu     -4.11  2.3e-3   0.06  -4.23  -4.15  -4.11  -4.07   -4.0    639   1.01\n",
      "beta_sigma   0.14  7.6e-4   0.04   0.07   0.11   0.13   0.16   0.22   2211    1.0\n",
      "alpha        9.73    0.01   0.44   8.85   9.43   9.74  10.02  10.57    994   1.01\n",
      "beta[1]     -4.32  2.3e-3   0.12  -4.56  -4.39  -4.31  -4.24  -4.11   2572    1.0\n",
      "beta[2]     -4.31  1.9e-3   0.09  -4.48  -4.36   -4.3  -4.25  -4.15   1989    1.0\n",
      "beta[3]     -4.26  1.8e-3   0.07  -4.41  -4.31  -4.26  -4.21  -4.12   1645    1.0\n",
      "beta[4]     -4.16  2.0e-3   0.08  -4.32  -4.22  -4.16  -4.11  -4.02   1555    1.0\n",
      "beta[5]     -4.18  2.4e-3   0.08  -4.34  -4.24  -4.18  -4.13  -4.02   1188    1.0\n",
      "beta[6]     -4.02  2.3e-3   0.09  -4.18  -4.07  -4.01  -3.96  -3.85   1340    1.0\n",
      "beta[7]      -4.1  2.2e-3   0.08  -4.27  -4.16   -4.1  -4.04  -3.94   1412   1.01\n",
      "beta[8]      -4.1  2.4e-3   0.08  -4.26  -4.15   -4.1  -4.04  -3.95   1131   1.01\n",
      "beta[9]     -4.14  2.0e-3   0.07  -4.28  -4.19  -4.14  -4.09   -4.0   1453    1.0\n",
      "beta[10]    -4.02  1.9e-3   0.07  -4.17  -4.07  -4.02  -3.97  -3.88   1500    1.0\n",
      "beta[11]    -4.19  1.8e-3   0.08  -4.35  -4.24  -4.19  -4.14  -4.03   1998    1.0\n",
      "beta[12]    -4.02  2.2e-3   0.09  -4.19  -4.08  -4.02  -3.96  -3.84   1643    1.0\n",
      "beta[13]    -4.09  2.1e-3   0.08  -4.25  -4.14  -4.09  -4.04  -3.94   1359    1.0\n",
      "beta[14]    -4.07  2.2e-3   0.08  -4.23  -4.12  -4.07  -4.01  -3.91   1409    1.0\n",
      "beta[15]    -4.08  1.9e-3   0.08  -4.25  -4.14  -4.08  -4.03  -3.93   1879    1.0\n",
      "beta[16]    -3.91  2.4e-3   0.08  -4.08  -3.97  -3.91  -3.86  -3.74   1217    1.0\n",
      "beta[17]    -4.06  2.3e-3    0.1  -4.25  -4.12  -4.06  -3.99  -3.87   1737    1.0\n",
      "beta[18]    -3.97  2.4e-3   0.11  -4.18  -4.04  -3.97   -3.9  -3.75   2042    1.0\n",
      "beta[19]    -4.06  2.1e-3   0.09  -4.23  -4.12  -4.06   -4.0  -3.89   1771   1.01\n",
      "beta[20]    -4.16  2.5e-3   0.11  -4.39  -4.24  -4.16  -4.09  -3.95   1902    1.0\n",
      "gamma      178.52    0.12   6.16 166.66 174.37 178.53 182.53 190.95   2450    1.0\n",
      "lp__       -1.3e4    0.11    3.9 -1.3e4 -1.3e4 -1.3e4 -1.3e4 -1.3e4   1329    1.0\n",
      "\n",
      "Samples were drawn using NUTS at Wed May  8 11:05:22 2019.\n",
      "For each parameter, n_eff is a crude measure of effective sample size,\n",
      "and Rhat is the potential scale reduction factor on split chains (at \n",
      "convergence, Rhat=1).\n"
     ]
    }
   ],
   "source": [
    "fit_model_4 = model_4.sampling(data=standata)\n",
    "print(fit_model_4)"
   ]
  },
  {
   "cell_type": "code",
   "execution_count": 37,
   "metadata": {},
   "outputs": [],
   "source": [
    "# Calculate PSIS LOO\n",
    "extract_4 = fit_model_4.extract()\n",
    "n_obs = len(extract_4['gamma'])\n",
    "model_4_loglik = np.empty((n_obs, standata['total_aa']), dtype=np.float32)\n",
    "mask = standata['epitopes'] == 1\n",
    "for i in range(n_obs):\n",
    "    beta = extract_4['beta'][i][standata['aa'] - 1]\n",
    "    alpha = extract_4['alpha'][i]\n",
    "    gamma = extract_4['gamma'][i]\n",
    "    ps = expit(beta + alpha*standata['scores'] + gamma*standata['inv_length'])\n",
    "    ps[~mask] = 1-ps[~mask]\n",
    "    model_4_loglik[i] = np.log(ps)"
   ]
  },
  {
   "cell_type": "code",
   "execution_count": 38,
   "metadata": {},
   "outputs": [
    {
     "name": "stdout",
     "output_type": "stream",
     "text": [
      "-12578.548\n"
     ]
    }
   ],
   "source": [
    "model_4_loo, model_4_loos, model_4_ks = psis.psisloo(model_4_loglik)\n",
    "print(model_4_loo)"
   ]
  },
  {
   "cell_type": "markdown",
   "metadata": {},
   "source": [
    "## Model 5\n",
    "\n",
    "p ~ expit(a + b*pred + c/score * pred)"
   ]
  },
  {
   "cell_type": "code",
   "execution_count": 39,
   "metadata": {},
   "outputs": [],
   "source": [
    "with open(\"models/scores.stan\") as file:\n",
    "    model_5_code = file.read()"
   ]
  },
  {
   "cell_type": "code",
   "execution_count": 40,
   "metadata": {},
   "outputs": [
    {
     "name": "stderr",
     "output_type": "stream",
     "text": [
      "INFO:pystan:COMPILING THE C++ CODE FOR MODEL anon_model_4bf1d1c5f20551b2c4a3cd740573ced8 NOW.\n",
      "/miniconda3/envs/stan/lib/python3.7/site-packages/Cython/Compiler/Main.py:367: FutureWarning: Cython directive 'language_level' not set, using 2 for now (Py2). This will change in a later release! File: /var/folders/4j/9bxrl41n4fn8qvbk_crbzdq40000gp/T/tmpavbx50nn/stanfit4anon_model_4bf1d1c5f20551b2c4a3cd740573ced8_11497605325800086.pyx\n",
      "  tree = Parsing.p_module(s, pxd, full_module_name)\n"
     ]
    }
   ],
   "source": [
    "model_5 = pystan.StanModel(model_code=model_5_code)"
   ]
  },
  {
   "cell_type": "code",
   "execution_count": 41,
   "metadata": {},
   "outputs": [],
   "source": [
    "scoresums = np.empty(len(standata['aa']), dtype=np.float)\n",
    "index = 0\n",
    "for protein in data:\n",
    "    length = len(protein['seq'])\n",
    "    scoresum = sum(protein['preds'])\n",
    "    scoresums[index:index+length] = 1/scoresum\n",
    "    index += length\n",
    "standata['inv_scores'] = scoresums"
   ]
  },
  {
   "cell_type": "code",
   "execution_count": 42,
   "metadata": {},
   "outputs": [
    {
     "name": "stderr",
     "output_type": "stream",
     "text": [
      "WARNING:pystan:1 of 4000 iterations ended with a divergence (0.025%).\n",
      "WARNING:pystan:Try running with adapt_delta larger than 0.8 to remove the divergences.\n"
     ]
    },
    {
     "name": "stdout",
     "output_type": "stream",
     "text": [
      "Inference for Stan model: anon_model_4bf1d1c5f20551b2c4a3cd740573ced8.\n",
      "4 chains, each with iter=2000; warmup=1000; thin=1; \n",
      "post-warmup draws per chain=1000, total post-warmup draws=4000.\n",
      "\n",
      "             mean se_mean     sd   2.5%    25%    50%    75%  97.5%  n_eff   Rhat\n",
      "beta_mu     -4.45  2.2e-3   0.06  -4.57  -4.49  -4.45  -4.42  -4.33    760    1.0\n",
      "beta_sigma   0.13  8.1e-4   0.03   0.07    0.1   0.12   0.15    0.2   1845    1.0\n",
      "alpha       10.54    0.01   0.43   9.68  10.26  10.54  10.82  11.37   1183    1.0\n",
      "beta[1]     -4.63  2.6e-3   0.12  -4.87  -4.71  -4.62  -4.55  -4.42   2055    1.0\n",
      "beta[2]     -4.63  2.2e-3   0.08  -4.79  -4.68  -4.62  -4.57  -4.47   1424    1.0\n",
      "beta[3]      -4.6  2.1e-3   0.08  -4.76  -4.65   -4.6  -4.55  -4.45   1329    1.0\n",
      "beta[4]      -4.5  2.3e-3   0.08  -4.66  -4.55   -4.5  -4.44  -4.34   1214    1.0\n",
      "beta[5]     -4.53  2.5e-3   0.08  -4.69  -4.58  -4.53  -4.48  -4.37   1070    1.0\n",
      "beta[6]     -4.38  2.5e-3   0.09  -4.54  -4.43  -4.37  -4.32   -4.2   1220    1.0\n",
      "beta[7]     -4.45  2.4e-3   0.08  -4.62   -4.5  -4.45  -4.39  -4.29   1210    1.0\n",
      "beta[8]     -4.45  2.4e-3   0.08  -4.61   -4.5  -4.45   -4.4  -4.29   1230    1.0\n",
      "beta[9]     -4.48  2.1e-3   0.08  -4.62  -4.53  -4.48  -4.42  -4.32   1375    1.0\n",
      "beta[10]    -4.36  2.2e-3   0.08  -4.51  -4.41  -4.36  -4.31  -4.21   1229    1.0\n",
      "beta[11]    -4.53  2.1e-3   0.08  -4.69  -4.58  -4.53  -4.48  -4.38   1452    1.0\n",
      "beta[12]    -4.36  2.4e-3   0.09  -4.53  -4.42  -4.36   -4.3  -4.17   1447    1.0\n",
      "beta[13]    -4.44  2.4e-3   0.08   -4.6   -4.5  -4.44  -4.39  -4.28   1110    1.0\n",
      "beta[14]    -4.41  2.3e-3   0.08  -4.58  -4.47  -4.41  -4.36  -4.25   1277    1.0\n",
      "beta[15]    -4.41  2.1e-3   0.08  -4.58  -4.47  -4.41  -4.36  -4.26   1541    1.0\n",
      "beta[16]    -4.28  2.5e-3   0.09  -4.45  -4.34  -4.28  -4.23  -4.11   1133    1.0\n",
      "beta[17]    -4.41  2.3e-3    0.1  -4.59  -4.47  -4.41  -4.35  -4.22   1637    1.0\n",
      "beta[18]    -4.32  2.6e-3   0.11  -4.52   -4.4  -4.32  -4.25  -4.11   1759    1.0\n",
      "beta[19]     -4.4  2.2e-3   0.09  -4.58  -4.46   -4.4  -4.34  -4.23   1549    1.0\n",
      "beta[20]     -4.5  2.5e-3   0.11  -4.71  -4.57   -4.5  -4.43   -4.3   1809    1.0\n",
      "gamma       20.44    0.02   0.69  19.07  19.99  20.44  20.91  21.79   1494    1.0\n",
      "lp__       -1.3e4    0.11   3.92 -1.3e4 -1.3e4 -1.3e4 -1.3e4 -1.3e4   1341    1.0\n",
      "\n",
      "Samples were drawn using NUTS at Wed May  8 11:12:01 2019.\n",
      "For each parameter, n_eff is a crude measure of effective sample size,\n",
      "and Rhat is the potential scale reduction factor on split chains (at \n",
      "convergence, Rhat=1).\n"
     ]
    }
   ],
   "source": [
    "fit_model_5 = model_5.sampling(data=standata)\n",
    "print(fit_model_5)"
   ]
  },
  {
   "cell_type": "code",
   "execution_count": 43,
   "metadata": {},
   "outputs": [],
   "source": [
    "# Calculate PSIS LOO\n",
    "extract_5 = fit_model_5.extract()\n",
    "n_obs = len(extract_5['gamma'])\n",
    "model_5_loglik = np.empty((n_obs, standata['total_aa']), dtype=np.float32)\n",
    "mask = standata['epitopes'] == 1\n",
    "for i in range(n_obs):\n",
    "    beta = extract_5['beta'][i][standata['aa'] - 1]\n",
    "    alpha = extract_5['alpha'][i]\n",
    "    gamma = extract_5['gamma'][i]\n",
    "    ps = expit(beta + alpha*standata['scores'] + gamma*standata['inv_scores'])\n",
    "    ps[~mask] = 1-ps[~mask]\n",
    "    model_5_loglik[i] = np.log(ps)"
   ]
  },
  {
   "cell_type": "code",
   "execution_count": 44,
   "metadata": {},
   "outputs": [
    {
     "data": {
      "text/plain": [
       "-12546.327"
      ]
     },
     "execution_count": 44,
     "metadata": {},
     "output_type": "execute_result"
    }
   ],
   "source": [
    "model_5_loo, model_5_loos, model_5_ks = psis.psisloo(model_5_loglik)\n",
    "model_5_loo"
   ]
  },
  {
   "cell_type": "markdown",
   "metadata": {},
   "source": [
    "## Model 6\n",
    "Same as model 5, but with a separate instead of pooled model"
   ]
  },
  {
   "cell_type": "code",
   "execution_count": 64,
   "metadata": {},
   "outputs": [],
   "source": [
    "with open(\"models/separate_scoresum.stan\") as file:\n",
    "    model_6_code = file.read()"
   ]
  },
  {
   "cell_type": "code",
   "execution_count": 65,
   "metadata": {},
   "outputs": [
    {
     "name": "stderr",
     "output_type": "stream",
     "text": [
      "INFO:pystan:COMPILING THE C++ CODE FOR MODEL anon_model_1f212c311e7bd6a37c064dee07eb46fd NOW.\n",
      "/miniconda3/envs/stan/lib/python3.7/site-packages/Cython/Compiler/Main.py:367: FutureWarning: Cython directive 'language_level' not set, using 2 for now (Py2). This will change in a later release! File: /var/folders/4j/9bxrl41n4fn8qvbk_crbzdq40000gp/T/tmpot036qdx/stanfit4anon_model_1f212c311e7bd6a37c064dee07eb46fd_4939694452881583531.pyx\n",
      "  tree = Parsing.p_module(s, pxd, full_module_name)\n"
     ]
    }
   ],
   "source": [
    "model_6 = pystan.StanModel(model_code=model_6_code)"
   ]
  },
  {
   "cell_type": "code",
   "execution_count": 66,
   "metadata": {},
   "outputs": [
    {
     "name": "stdout",
     "output_type": "stream",
     "text": [
      "Inference for Stan model: anon_model_1f212c311e7bd6a37c064dee07eb46fd.\n",
      "4 chains, each with iter=2000; warmup=1000; thin=1; \n",
      "post-warmup draws per chain=1000, total post-warmup draws=4000.\n",
      "\n",
      "            mean se_mean     sd   2.5%    25%    50%    75%  97.5%  n_eff   Rhat\n",
      "alpha[1]   14.38    0.07   5.92   2.72  10.49  14.45  18.25  26.13   6645    1.0\n",
      "alpha[2]   12.31    0.03   2.04   8.43  10.91  12.28  13.75  16.24   6531    1.0\n",
      "alpha[3]   16.68    0.02   1.74  13.27  15.48   16.7  17.86  20.03   7036    1.0\n",
      "alpha[4]   10.63    0.02   1.81   7.05   9.45  10.63  11.87  14.31   5839    1.0\n",
      "alpha[5]    7.58    0.02   1.55   4.53   6.55   7.57   8.62  10.64   6497    1.0\n",
      "alpha[6]    7.71    0.02   1.78   4.22    6.5    7.7    8.9  11.26   6675    1.0\n",
      "alpha[7]    8.24    0.02   1.72   4.95   7.07   8.23   9.45  11.65   5971    1.0\n",
      "alpha[8]    8.59    0.02    1.7   5.32   7.45   8.59   9.72  11.95   6950    1.0\n",
      "alpha[9]   14.22    0.02   1.76  10.82  13.01  14.21   15.4   17.6   7195    1.0\n",
      "alpha[10]   8.62    0.02   1.57    5.5   7.57   8.66   9.62  11.77   6713    1.0\n",
      "alpha[11]  12.76    0.02   2.02   8.75  11.41  12.77  14.16   16.7   7686    1.0\n",
      "alpha[12]   9.42    0.02   2.01   5.41    8.1   9.44  10.75  13.35   7336    1.0\n",
      "alpha[13]   6.04    0.02    1.4   3.31   5.09   6.01   6.99   8.87   5913    1.0\n",
      "alpha[14]   9.73    0.02   1.89   6.06   8.45   9.71   11.0  13.58   7056    1.0\n",
      "alpha[15]  14.88    0.03   2.11  10.73  13.45  14.89  16.29  18.98   6262    1.0\n",
      "alpha[16]   7.29    0.02    1.6   4.24   6.22   7.28   8.35  10.53   6111    1.0\n",
      "alpha[17]  12.92    0.03   2.27   8.55  11.39  12.88  14.45  17.45   7183    1.0\n",
      "alpha[18]   12.3    0.03   2.86   6.73  10.38  12.27  14.21  18.06   6818    1.0\n",
      "alpha[19]  12.97    0.02   2.13   8.76   11.5   13.0  14.41  17.06   7458    1.0\n",
      "alpha[20]  14.66    0.04   3.32   8.26  12.41  14.65  16.96  21.08   7371    1.0\n",
      "beta[1]    -5.13  4.9e-3    0.4  -5.96  -5.39  -5.12  -4.86  -4.36   6583    1.0\n",
      "beta[2]    -4.84  2.2e-3   0.18  -5.18  -4.96  -4.84  -4.72  -4.51   6610    1.0\n",
      "beta[3]    -5.16  2.0e-3   0.17  -5.47  -5.27  -5.15  -5.04  -4.84   6796    1.0\n",
      "beta[4]    -4.54  2.6e-3    0.2  -4.93  -4.66  -4.53   -4.4  -4.16   5455    1.0\n",
      "beta[5]    -4.18  2.6e-3   0.21  -4.59  -4.32  -4.18  -4.04  -3.77   6683    1.0\n",
      "beta[6]    -4.03  2.7e-3   0.22  -4.47  -4.17  -4.03  -3.89  -3.61   6695    1.0\n",
      "beta[7]    -4.19  2.7e-3   0.21  -4.61  -4.33  -4.19  -4.05  -3.81   5754    1.0\n",
      "beta[8]    -4.24  2.5e-3   0.21  -4.66  -4.38  -4.24   -4.1  -3.85   6862    1.0\n",
      "beta[9]    -4.81  2.2e-3   0.18  -5.17  -4.93  -4.81   -4.7  -4.48   6774    1.0\n",
      "beta[10]   -4.17  2.1e-3   0.16  -4.48  -4.27  -4.17  -4.07  -3.87   5755    1.0\n",
      "beta[11]   -4.74  2.2e-3   0.18  -5.09  -4.86  -4.74  -4.62  -4.39   6565    1.0\n",
      "beta[12]   -4.21  2.6e-3   0.22  -4.66  -4.35  -4.21  -4.06  -3.78   7263    1.0\n",
      "beta[13]   -3.91  2.4e-3   0.18  -4.26  -4.03  -3.91  -3.79  -3.57   5506    1.0\n",
      "beta[14]   -4.32  2.6e-3   0.22  -4.76  -4.47  -4.32  -4.18  -3.91   6998    1.0\n",
      "beta[15]   -4.73  2.2e-3   0.18   -5.1  -4.86  -4.73  -4.61  -4.38   6812    1.0\n",
      "beta[16]   -3.85  2.7e-3    0.2  -4.25  -3.98  -3.85  -3.72  -3.47   5612    1.0\n",
      "beta[17]   -4.62  2.9e-3   0.25  -5.13  -4.79  -4.62  -4.45  -4.15   7322    1.0\n",
      "beta[18]   -4.39  3.8e-3   0.32  -5.04   -4.6  -4.39  -4.18  -3.78   6914    1.0\n",
      "beta[19]   -4.59  2.4e-3   0.21  -4.99  -4.73  -4.59  -4.45  -4.19   7142    1.0\n",
      "beta[20]    -4.9  3.6e-3   0.31  -5.53  -5.11   -4.9  -4.69  -4.31   7683    1.0\n",
      "gamma      20.56  8.1e-3   0.68  19.23   20.1  20.55  21.01   21.9   7084    1.0\n",
      "lp__      -1.3e4    0.12   4.53 -1.3e4 -1.3e4 -1.3e4 -1.3e4 -1.3e4   1454    1.0\n",
      "\n",
      "Samples were drawn using NUTS at Wed May  8 11:58:57 2019.\n",
      "For each parameter, n_eff is a crude measure of effective sample size,\n",
      "and Rhat is the potential scale reduction factor on split chains (at \n",
      "convergence, Rhat=1).\n"
     ]
    }
   ],
   "source": [
    "fit_model_6 = model_6.sampling(data=standata)\n",
    "print(fit_model_6)"
   ]
  },
  {
   "cell_type": "code",
   "execution_count": 67,
   "metadata": {},
   "outputs": [],
   "source": [
    "# Calculate PSIS LOO\n",
    "extract_6 = fit_model_6.extract()\n",
    "n_obs = len(extract_6['gamma'])\n",
    "model_6_loglik = np.empty((n_obs, standata['total_aa']), dtype=np.float32)\n",
    "mask = standata['epitopes'] == 1\n",
    "for i in range(n_obs):\n",
    "    beta = extract_6['beta'][i][standata['aa'] - 1]\n",
    "    alpha = extract_6['alpha'][i][standata['aa'] - 1]\n",
    "    gamma = extract_6['gamma'][i]\n",
    "    ps = expit(beta + alpha*standata['scores'] + gamma*standata['inv_scores'])\n",
    "    ps[~mask] = 1-ps[~mask]\n",
    "    model_6_loglik[i] = np.log(ps)"
   ]
  },
  {
   "cell_type": "code",
   "execution_count": 68,
   "metadata": {},
   "outputs": [
    {
     "data": {
      "text/plain": [
       "-12538.548"
      ]
     },
     "execution_count": 68,
     "metadata": {},
     "output_type": "execute_result"
    }
   ],
   "source": [
    "model_6_loo, model_6_loos, model_6_ks = psis.psisloo(model_6_loglik)\n",
    "model_6_loo"
   ]
  },
  {
   "cell_type": "code",
   "execution_count": 76,
   "metadata": {},
   "outputs": [],
   "source": [
    "with open(\"models/inverse.stan\") as file:\n",
    "    model_7_code = file.read()"
   ]
  },
  {
   "cell_type": "code",
   "execution_count": 77,
   "metadata": {},
   "outputs": [
    {
     "ename": "ValueError",
     "evalue": "Failed to parse Stan model 'anon_model_c65d35b2cf7b46515efafb764f898779'. Error message:\nSYNTAX ERROR, MESSAGE(S) FROM PARSER:\n\nNo matches for: \n\n  expit(vector)\n\nFunction expit not found.\n  error in 'unknown file name' at line 18, column 105\n  -------------------------------------------------\n    16: }\n    17: model {\n    18:     epitopes ~ uniform(gamma + (1 - gamma) * delta * inv_scores .* expit(beta[aa] + alpha[aa] .* scores));\n                                                                                                                ^\n    19: }\n  -------------------------------------------------\n\n",
     "output_type": "error",
     "traceback": [
      "\u001b[0;31m---------------------------------------------------------------------------\u001b[0m",
      "\u001b[0;31mValueError\u001b[0m                                Traceback (most recent call last)",
      "\u001b[0;32m<ipython-input-77-c3bc2ed5c545>\u001b[0m in \u001b[0;36m<module>\u001b[0;34m\u001b[0m\n\u001b[0;32m----> 1\u001b[0;31m \u001b[0mmodel_7\u001b[0m \u001b[0;34m=\u001b[0m \u001b[0mpystan\u001b[0m\u001b[0;34m.\u001b[0m\u001b[0mStanModel\u001b[0m\u001b[0;34m(\u001b[0m\u001b[0mmodel_code\u001b[0m\u001b[0;34m=\u001b[0m\u001b[0mmodel_7_code\u001b[0m\u001b[0;34m)\u001b[0m\u001b[0;34m\u001b[0m\u001b[0;34m\u001b[0m\u001b[0m\n\u001b[0m",
      "\u001b[0;32m/miniconda3/envs/stan/lib/python3.7/site-packages/pystan/model.py\u001b[0m in \u001b[0;36m__init__\u001b[0;34m(self, file, charset, model_name, model_code, stanc_ret, include_paths, boost_lib, eigen_lib, verbose, obfuscate_model_name, extra_compile_args)\u001b[0m\n\u001b[1;32m    222\u001b[0m                                          \u001b[0mverbose\u001b[0m\u001b[0;34m=\u001b[0m\u001b[0mverbose\u001b[0m\u001b[0;34m,\u001b[0m\u001b[0;34m\u001b[0m\u001b[0;34m\u001b[0m\u001b[0m\n\u001b[1;32m    223\u001b[0m                                          \u001b[0minclude_paths\u001b[0m\u001b[0;34m=\u001b[0m\u001b[0minclude_paths\u001b[0m\u001b[0;34m,\u001b[0m\u001b[0;34m\u001b[0m\u001b[0;34m\u001b[0m\u001b[0m\n\u001b[0;32m--> 224\u001b[0;31m                                          obfuscate_model_name=obfuscate_model_name)\n\u001b[0m\u001b[1;32m    225\u001b[0m \u001b[0;34m\u001b[0m\u001b[0m\n\u001b[1;32m    226\u001b[0m         \u001b[0;32mif\u001b[0m \u001b[0;32mnot\u001b[0m \u001b[0misinstance\u001b[0m\u001b[0;34m(\u001b[0m\u001b[0mstanc_ret\u001b[0m\u001b[0;34m,\u001b[0m \u001b[0mdict\u001b[0m\u001b[0;34m)\u001b[0m\u001b[0;34m:\u001b[0m\u001b[0;34m\u001b[0m\u001b[0;34m\u001b[0m\u001b[0m\n",
      "\u001b[0;32m/miniconda3/envs/stan/lib/python3.7/site-packages/pystan/api.py\u001b[0m in \u001b[0;36mstanc\u001b[0;34m(file, charset, model_code, model_name, include_paths, verbose, obfuscate_model_name)\u001b[0m\n\u001b[1;32m    166\u001b[0m             \u001b[0mmsg\u001b[0m \u001b[0;34m=\u001b[0m \u001b[0mmsg\u001b[0m\u001b[0;34m.\u001b[0m\u001b[0mencode\u001b[0m\u001b[0;34m(\u001b[0m\u001b[0;34m'ascii'\u001b[0m\u001b[0;34m,\u001b[0m \u001b[0;34m'replace'\u001b[0m\u001b[0;34m)\u001b[0m\u001b[0;34m\u001b[0m\u001b[0;34m\u001b[0m\u001b[0m\n\u001b[1;32m    167\u001b[0m         \u001b[0merror_msg\u001b[0m \u001b[0;34m=\u001b[0m \u001b[0;34m\"Failed to parse Stan model '{}'. Error message:\\n{}\"\u001b[0m\u001b[0;34m.\u001b[0m\u001b[0mformat\u001b[0m\u001b[0;34m(\u001b[0m\u001b[0mmodel_name\u001b[0m\u001b[0;34m,\u001b[0m \u001b[0mmsg\u001b[0m\u001b[0;34m)\u001b[0m\u001b[0;34m\u001b[0m\u001b[0;34m\u001b[0m\u001b[0m\n\u001b[0;32m--> 168\u001b[0;31m         \u001b[0;32mraise\u001b[0m \u001b[0mValueError\u001b[0m\u001b[0;34m(\u001b[0m\u001b[0merror_msg\u001b[0m\u001b[0;34m)\u001b[0m\u001b[0;34m\u001b[0m\u001b[0;34m\u001b[0m\u001b[0m\n\u001b[0m\u001b[1;32m    169\u001b[0m     \u001b[0;32melif\u001b[0m \u001b[0mresult\u001b[0m\u001b[0;34m[\u001b[0m\u001b[0;34m'status'\u001b[0m\u001b[0;34m]\u001b[0m \u001b[0;34m==\u001b[0m \u001b[0;36m0\u001b[0m\u001b[0;34m:\u001b[0m  \u001b[0;31m# SUCCESS_RC is 0\u001b[0m\u001b[0;34m\u001b[0m\u001b[0;34m\u001b[0m\u001b[0m\n\u001b[1;32m    170\u001b[0m         \u001b[0mlogger\u001b[0m\u001b[0;34m.\u001b[0m\u001b[0mdebug\u001b[0m\u001b[0;34m(\u001b[0m\u001b[0;34m\"Successfully parsed Stan model '{}'.\"\u001b[0m\u001b[0;34m.\u001b[0m\u001b[0mformat\u001b[0m\u001b[0;34m(\u001b[0m\u001b[0mmodel_name\u001b[0m\u001b[0;34m)\u001b[0m\u001b[0;34m)\u001b[0m\u001b[0;34m\u001b[0m\u001b[0;34m\u001b[0m\u001b[0m\n",
      "\u001b[0;31mValueError\u001b[0m: Failed to parse Stan model 'anon_model_c65d35b2cf7b46515efafb764f898779'. Error message:\nSYNTAX ERROR, MESSAGE(S) FROM PARSER:\n\nNo matches for: \n\n  expit(vector)\n\nFunction expit not found.\n  error in 'unknown file name' at line 18, column 105\n  -------------------------------------------------\n    16: }\n    17: model {\n    18:     epitopes ~ uniform(gamma + (1 - gamma) * delta * inv_scores .* expit(beta[aa] + alpha[aa] .* scores));\n                                                                                                                ^\n    19: }\n  -------------------------------------------------\n\n"
     ]
    }
   ],
   "source": [
    "model_7 = pystan.StanModel(model_code=model_7_code)"
   ]
  },
  {
   "cell_type": "code",
   "execution_count": 75,
   "metadata": {},
   "outputs": [
    {
     "data": {
      "text/plain": [
       "-0.4054651081081643"
      ]
     },
     "execution_count": 75,
     "metadata": {},
     "output_type": "execute_result"
    }
   ],
   "source": [
    "logit(0.4)"
   ]
  },
  {
   "cell_type": "markdown",
   "metadata": {},
   "source": [
    "##### print(h_loo)"
   ]
  },
  {
   "cell_type": "code",
   "execution_count": 112,
   "metadata": {},
   "outputs": [],
   "source": [
    "def calc_peff(loglik, loo):\n",
    "    likelihood = np.exp(loglik)\n",
    "    observationwise_mean = likelihood.mean(axis=0)\n",
    "    lppd = np.log(observationwise_mean).sum()\n",
    "    return lppd - loo"
   ]
  },
  {
   "cell_type": "code",
   "execution_count": 113,
   "metadata": {},
   "outputs": [
    {
     "data": {
      "text/plain": [
       "(1.5838013, 7.022003)"
      ]
     },
     "execution_count": 113,
     "metadata": {},
     "output_type": "execute_result"
    }
   ],
   "source": [
    "calc_peff(pooled_loglik, pooled_loo), calc_peff(h_loglik, h_loo)"
   ]
  },
  {
   "cell_type": "code",
   "execution_count": 92,
   "metadata": {},
   "outputs": [
    {
     "data": {
      "text/plain": [
       "array([-8.81037531, -8.29491075, -8.16511506, ..., -8.20625734,\n",
       "       -8.00648846, -8.39737347])"
      ]
     },
     "execution_count": 92,
     "metadata": {},
     "output_type": "execute_result"
    }
   ],
   "source": [
    "extract = fit2.extract()\n",
    "extract['beta'][i][standata['aa'] - 1]"
   ]
  },
  {
   "cell_type": "code",
   "execution_count": 79,
   "metadata": {},
   "outputs": [
    {
     "data": {
      "text/plain": [
       "21"
      ]
     },
     "execution_count": 79,
     "metadata": {},
     "output_type": "execute_result"
    }
   ],
   "source": [
    "standata['aa'].max()"
   ]
  },
  {
   "cell_type": "code",
   "execution_count": 75,
   "metadata": {},
   "outputs": [],
   "source": [
    "extract = fit2.extract()"
   ]
  },
  {
   "cell_type": "code",
   "execution_count": 76,
   "metadata": {},
   "outputs": [
    {
     "data": {
      "text/plain": [
       "odict_keys(['beta_mu', 'beta_sigma', 'alpha', 'beta', 'lp__'])"
      ]
     },
     "execution_count": 76,
     "metadata": {},
     "output_type": "execute_result"
    }
   ],
   "source": [
    "extract.keys()"
   ]
  },
  {
   "cell_type": "code",
   "execution_count": 82,
   "metadata": {},
   "outputs": [
    {
     "data": {
      "text/plain": [
       "(4000, 21)"
      ]
     },
     "execution_count": 82,
     "metadata": {},
     "output_type": "execute_result"
    }
   ],
   "source": [
    "extract['beta'].shape"
   ]
  },
  {
   "cell_type": "code",
   "execution_count": 121,
   "metadata": {},
   "outputs": [
    {
     "data": {
      "text/plain": [
       "[<matplotlib.lines.Line2D at 0x1a22713a90>]"
      ]
     },
     "execution_count": 121,
     "metadata": {},
     "output_type": "execute_result"
    },
    {
     "data": {
      "image/png": "[encoded data removed]",
      "text/plain": [
       "<Figure size 432x288 with 1 Axes>"
      ]
     },
     "metadata": {
      "needs_background": "light"
     },
     "output_type": "display_data"
    }
   ],
   "source": [
    "xs = np.linspace(0, 1, 100)\n",
    "ys = expit(-7.87 + 42.94*xs)\n",
    "plt.plot(xs, ys)"
   ]
  },
  {
   "cell_type": "code",
   "execution_count": null,
   "metadata": {},
   "outputs": [],
   "source": [
    "for i in "
   ]
  },
  {
   "cell_type": "code",
   "execution_count": 122,
   "metadata": {},
   "outputs": [
    {
     "data": {
      "text/plain": [
       "array([0.99974536, 0.99955155, 0.99955443, ..., 0.99972713, 0.99966682,\n",
       "       0.99977459])"
      ]
     },
     "execution_count": 122,
     "metadata": {},
     "output_type": "execute_result"
    }
   ],
   "source": [
    "ps"
   ]
  },
  {
   "cell_type": "code",
   "execution_count": 123,
   "metadata": {},
   "outputs": [
    {
     "data": {
      "text/plain": [
       "array([False, False, False, ..., False, False, False])"
      ]
     },
     "execution_count": 123,
     "metadata": {},
     "output_type": "execute_result"
    }
   ],
   "source": [
    "mask"
   ]
  },
  {
   "cell_type": "code",
   "execution_count": 145,
   "metadata": {},
   "outputs": [
    {
     "data": {
      "text/plain": [
       "0.0003818884676828639"
      ]
     },
     "execution_count": 145,
     "metadata": {},
     "output_type": "execute_result"
    }
   ],
   "source": [
    "expit(-7.87 + 42.94*standata['scores'].min())"
   ]
  },
  {
   "cell_type": "code",
   "execution_count": 142,
   "metadata": {},
   "outputs": [
    {
     "data": {
      "text/plain": [
       "0.15529731"
      ]
     },
     "execution_count": 142,
     "metadata": {},
     "output_type": "execute_result"
    }
   ],
   "source": [
    "standata['scores'][mask].max()"
   ]
  },
  {
   "cell_type": "code",
   "execution_count": 143,
   "metadata": {},
   "outputs": [
    {
     "data": {
      "text/plain": [
       "0.20328818"
      ]
     },
     "execution_count": 143,
     "metadata": {},
     "output_type": "execute_result"
    }
   ],
   "source": [
    "standata['scores'][~mask].max()"
   ]
  },
  {
   "cell_type": "code",
   "execution_count": 146,
   "metadata": {},
   "outputs": [],
   "source": [
    "from random import randint"
   ]
  },
  {
   "cell_type": "code",
   "execution_count": 158,
   "metadata": {},
   "outputs": [
    {
     "name": "stdout",
     "output_type": "stream",
     "text": [
      "0.0994\n"
     ]
    }
   ],
   "source": [
    "n_sims = 100000\n",
    "fewer = 0\n",
    "for i in range(n_sims):\n",
    "    females = np.random.randint(2, size=39).sum()\n",
    "    if females <= 15:\n",
    "        fewer += 1\n",
    "print(fewer/n_sims)"
   ]
  },
  {
   "cell_type": "code",
   "execution_count": 159,
   "metadata": {},
   "outputs": [],
   "source": [
    "from scipy.special import binom"
   ]
  },
  {
   "cell_type": "code",
   "execution_count": 163,
   "metadata": {},
   "outputs": [],
   "source": [
    "from scipy import stats"
   ]
  },
  {
   "cell_type": "code",
   "execution_count": 166,
   "metadata": {},
   "outputs": [
    {
     "data": {
      "text/plain": [
       "0.09979543345980334"
      ]
     },
     "execution_count": 166,
     "metadata": {},
     "output_type": "execute_result"
    }
   ],
   "source": [
    "stats.binom.cdf(15, 39, 0.5)"
   ]
  },
  {
   "cell_type": "code",
   "execution_count": 80,
   "metadata": {},
   "outputs": [
    {
     "name": "stdout",
     "output_type": "stream",
     "text": [
      "data {\n",
      "    int<lower=0> classes;\n",
      "    int<lower=0> total_aa;\n",
      "    int aa[total_aa];\n",
      "    int<lower=0,upper=1> epitopes[total_aa]; // binarize to 0 or 1\n",
      "    vector[total_aa] scores; // output of bepipred\n",
      "    \n",
      "}\n",
      "parameters {\n",
      "    real beta_mu;\n",
      "    real<lower=0> beta_sigma;\n",
      "    real alpha;\n",
      "    vector[classes] beta;\n",
      "    \n",
      "}\n",
      "model {\n",
      "    beta ~ normal(beta_mu, beta_sigma);\n",
      "    epitopes ~ bernoulli_logit(beta[aa] + alpha*scores);\n",
      "}\n",
      "\n"
     ]
    }
   ],
   "source": [
    "\n",
    "with open(\"models/hierarchical.stan\") as file:\n",
    "    print(file.read())"
   ]
  },
  {
   "cell_type": "code",
   "execution_count": 135,
   "metadata": {},
   "outputs": [
    {
     "data": {
      "text/plain": [
       "array([[0.74471047, 0.74963462, 0.16122966],\n",
       "       [0.96892623, 0.29223294, 0.15433968],\n",
       "       [0.88539097, 0.70576973, 0.45486873],\n",
       "       [0.23513107, 0.93509444, 0.46100916],\n",
       "       [0.95243191, 0.06529304, 0.64825642],\n",
       "       [0.79607868, 0.89660818, 0.28714443],\n",
       "       [0.5200085 , 0.36927028, 0.15267444],\n",
       "       [0.65009486, 0.46175046, 0.82713889]])"
      ]
     },
     "execution_count": 135,
     "metadata": {},
     "output_type": "execute_result"
    }
   ],
   "source": [
    "a = np.random.random((8, 3))\n",
    "a"
   ]
  },
  {
   "cell_type": "code",
   "execution_count": 136,
   "metadata": {},
   "outputs": [],
   "source": [
    "np.random.RandomState(0).shuffle(a)\n",
    "indices = np.random.RandomState(0).permutation(len(a))"
   ]
  },
  {
   "cell_type": "code",
   "execution_count": 137,
   "metadata": {},
   "outputs": [
    {
     "data": {
      "text/plain": [
       "array([[0.5200085 , 0.36927028, 0.15267444],\n",
       "       [0.88539097, 0.70576973, 0.45486873],\n",
       "       [0.96892623, 0.29223294, 0.15433968],\n",
       "       [0.65009486, 0.46175046, 0.82713889],\n",
       "       [0.23513107, 0.93509444, 0.46100916],\n",
       "       [0.74471047, 0.74963462, 0.16122966],\n",
       "       [0.79607868, 0.89660818, 0.28714443],\n",
       "       [0.95243191, 0.06529304, 0.64825642]])"
      ]
     },
     "execution_count": 137,
     "metadata": {},
     "output_type": "execute_result"
    }
   ],
   "source": [
    "a"
   ]
  },
  {
   "cell_type": "code",
   "execution_count": 138,
   "metadata": {},
   "outputs": [
    {
     "data": {
      "text/plain": [
       "array([6, 2, 1, 7, 3, 0, 5, 4])"
      ]
     },
     "execution_count": 138,
     "metadata": {},
     "output_type": "execute_result"
    }
   ],
   "source": [
    "indices"
   ]
  },
  {
   "cell_type": "code",
   "execution_count": 144,
   "metadata": {},
   "outputs": [
    {
     "data": {
      "text/plain": [
       "array([6, 3, 3])"
      ]
     },
     "execution_count": 144,
     "metadata": {},
     "output_type": "execute_result"
    }
   ],
   "source": [
    "np.array([2,3,3,6,7,8])[np.array([3,2,1])]"
   ]
  },
  {
   "cell_type": "code",
   "execution_count": 145,
   "metadata": {},
   "outputs": [
    {
     "data": {
      "text/plain": [
       "array([21,  9,  5, ..., 19,  5,  1], dtype=int32)"
      ]
     },
     "execution_count": 145,
     "metadata": {},
     "output_type": "execute_result"
    }
   ],
   "source": [
    "data"
   ]
  },
  {
   "cell_type": "code",
   "execution_count": 69,
   "metadata": {},
   "outputs": [
    {
     "data": {
      "text/plain": [
       "[0.6973695158958435, 0.5611188411712646, 0.3760852515697479]"
      ]
     },
     "execution_count": 69,
     "metadata": {},
     "output_type": "execute_result"
    }
   ],
   "source": [
    "data[0]['disorder'][:3]"
   ]
  },
  {
   "cell_type": "code",
   "execution_count": 149,
   "metadata": {},
   "outputs": [
    {
     "data": {
      "text/plain": [
       "'ALK'"
      ]
     },
     "execution_count": 149,
     "metadata": {},
     "output_type": "execute_result"
    }
   ],
   "source": [
    "data[-1]['seq'][-3:]"
   ]
  },
  {
   "cell_type": "code",
   "execution_count": 150,
   "metadata": {},
   "outputs": [
    {
     "data": {
      "text/plain": [
       "[19, 5, 1]"
      ]
     },
     "execution_count": 150,
     "metadata": {},
     "output_type": "execute_result"
    }
   ],
   "source": [
    "[\"A\", \"K\", \"L\"]\n",
    "[19, 5, 1]\n",
    "\n",
    "[my_dict[i] for i in protein['seq']]"
   ]
  },
  {
   "cell_type": "code",
   "execution_count": 157,
   "metadata": {},
   "outputs": [],
   "source": [
    "dict_ = {1:2, 2:1, 3:3}"
   ]
  },
  {
   "cell_type": "code",
   "execution_count": 158,
   "metadata": {},
   "outputs": [
    {
     "data": {
      "text/plain": [
       "[2, 1, 3]"
      ]
     },
     "execution_count": 158,
     "metadata": {},
     "output_type": "execute_result"
    }
   ],
   "source": [
    "[dict_[i] for i in [1,2,3]]"
   ]
  },
  {
   "cell_type": "code",
   "execution_count": null,
   "metadata": {},
   "outputs": [],
   "source": [
    "all_aas = set()\n",
    "for protein in proteins:\n",
    "    all_aas |= set(protein['seq'])\n",
    "my_dict = {j:i+1 for i,j in enumerate(all_aas)}"
   ]
  },
  {
   "cell_type": "code",
   "execution_count": 168,
   "metadata": {},
   "outputs": [
    {
     "ename": "NameError",
     "evalue": "name 'var_set' is not defined",
     "output_type": "error",
     "traceback": [
      "\u001b[0;31m---------------------------------------------------------------------------\u001b[0m",
      "\u001b[0;31mNameError\u001b[0m                                 Traceback (most recent call last)",
      "\u001b[0;32m<ipython-input-168-4922dad46e78>\u001b[0m in \u001b[0;36m<module>\u001b[0;34m\u001b[0m\n\u001b[0;32m----> 1\u001b[0;31m \u001b[0mvar_set\u001b[0m \u001b[0;34m=\u001b[0m \u001b[0mvar_set\u001b[0m\u001b[0;34m.\u001b[0m\u001b[0munion\u001b[0m\u001b[0;34m(\u001b[0m\u001b[0mset\u001b[0m\u001b[0;34m(\u001b[0m\u001b[0mx\u001b[0m\u001b[0;34m)\u001b[0m\u001b[0;34m)\u001b[0m\u001b[0;34m\u001b[0m\u001b[0;34m\u001b[0m\u001b[0m\n\u001b[0m",
      "\u001b[0;31mNameError\u001b[0m: name 'var_set' is not defined"
     ]
    }
   ],
   "source": [
    "var_set = var_set.union(set(x))"
   ]
  },
  {
   "cell_type": "code",
   "execution_count": 225,
   "metadata": {},
   "outputs": [],
   "source": [
    "import sys"
   ]
  },
  {
   "cell_type": "code",
   "execution_count": 226,
   "metadata": {},
   "outputs": [
    {
     "ename": "ModuleNotFoundError",
     "evalue": "No module named 'pysam'",
     "output_type": "error",
     "traceback": [
      "\u001b[0;31m---------------------------------------------------------------------------\u001b[0m",
      "\u001b[0;31mModuleNotFoundError\u001b[0m                       Traceback (most recent call last)",
      "\u001b[0;32m<ipython-input-226-93138cccbc51>\u001b[0m in \u001b[0;36m<module>\u001b[0;34m\u001b[0m\n\u001b[1;32m      1\u001b[0m \u001b[0msys\u001b[0m\u001b[0;34m.\u001b[0m\u001b[0mpath\u001b[0m\u001b[0;34m.\u001b[0m\u001b[0mappend\u001b[0m\u001b[0;34m(\u001b[0m\u001b[0;34m\"/Users/jakni/Documents/scripts/vamb\"\u001b[0m\u001b[0;34m)\u001b[0m\u001b[0;34m\u001b[0m\u001b[0;34m\u001b[0m\u001b[0m\n\u001b[0;32m----> 2\u001b[0;31m \u001b[0;32mimport\u001b[0m \u001b[0mvamb\u001b[0m\u001b[0;34m\u001b[0m\u001b[0;34m\u001b[0m\u001b[0m\n\u001b[0m",
      "\u001b[0;32m~/Documents/scripts/vamb/vamb/__init__.py\u001b[0m in \u001b[0;36m<module>\u001b[0;34m\u001b[0m\n\u001b[1;32m     37\u001b[0m \u001b[0;34m\u001b[0m\u001b[0m\n\u001b[1;32m     38\u001b[0m \u001b[0;32mfrom\u001b[0m \u001b[0;34m.\u001b[0m \u001b[0;32mimport\u001b[0m \u001b[0mvambtools\u001b[0m\u001b[0;34m\u001b[0m\u001b[0;34m\u001b[0m\u001b[0m\n\u001b[0;32m---> 39\u001b[0;31m \u001b[0;32mfrom\u001b[0m \u001b[0;34m.\u001b[0m \u001b[0;32mimport\u001b[0m \u001b[0mparsebam\u001b[0m\u001b[0;34m\u001b[0m\u001b[0;34m\u001b[0m\u001b[0m\n\u001b[0m\u001b[1;32m     40\u001b[0m \u001b[0;32mfrom\u001b[0m \u001b[0;34m.\u001b[0m \u001b[0;32mimport\u001b[0m \u001b[0mparsecontigs\u001b[0m\u001b[0;34m\u001b[0m\u001b[0;34m\u001b[0m\u001b[0m\n\u001b[1;32m     41\u001b[0m \u001b[0;32mfrom\u001b[0m \u001b[0;34m.\u001b[0m \u001b[0;32mimport\u001b[0m \u001b[0mcluster\u001b[0m\u001b[0;34m\u001b[0m\u001b[0;34m\u001b[0m\u001b[0m\n",
      "\u001b[0;32m~/Documents/scripts/vamb/vamb/parsebam.py\u001b[0m in \u001b[0;36m<module>\u001b[0;34m\u001b[0m\n\u001b[1;32m     43\u001b[0m \"\"\"\n\u001b[1;32m     44\u001b[0m \u001b[0;34m\u001b[0m\u001b[0m\n\u001b[0;32m---> 45\u001b[0;31m \u001b[0;32mimport\u001b[0m \u001b[0mpysam\u001b[0m \u001b[0;32mas\u001b[0m \u001b[0m_pysam\u001b[0m\u001b[0;34m\u001b[0m\u001b[0;34m\u001b[0m\u001b[0m\n\u001b[0m\u001b[1;32m     46\u001b[0m \u001b[0;34m\u001b[0m\u001b[0m\n\u001b[1;32m     47\u001b[0m \u001b[0;32mimport\u001b[0m \u001b[0msys\u001b[0m \u001b[0;32mas\u001b[0m \u001b[0m_sys\u001b[0m\u001b[0;34m\u001b[0m\u001b[0;34m\u001b[0m\u001b[0m\n",
      "\u001b[0;31mModuleNotFoundError\u001b[0m: No module named 'pysam'"
     ]
    }
   ],
   "source": [
    "sys.path.append(\"/Users/jakni/Documents/scripts/vamb\")\n",
    "import vamb"
   ]
  },
  {
   "cell_type": "code",
   "execution_count": 58,
   "metadata": {},
   "outputs": [
    {
     "data": {
      "text/plain": [
       "16"
      ]
     },
     "execution_count": 58,
     "metadata": {},
     "output_type": "execute_result"
    }
   ],
   "source": [
    "len(list(data[0].keys()))"
   ]
  },
  {
   "cell_type": "code",
   "execution_count": 61,
   "metadata": {},
   "outputs": [
    {
     "data": {
      "text/plain": [
       "'CCCCCCCCCCCCEEEEECCCCHHHHCCCCCCCEEEEECCEECCCHHHHHHHHHHHHHCCCCCEEEEEEECCEEEEEEEECCCCCCCCCCCECCCCCCEEEEECCCCHHHHCCCCCCCEEEEECCEECCCHHHHHHHHHHCCCCCEEEEEEECCEEEEEEEEEEECCCCCEEEEEEEECCC'"
      ]
     },
     "execution_count": 61,
     "metadata": {},
     "output_type": "execute_result"
    }
   ],
   "source": [
    "data[1]['q3']"
   ]
  },
  {
   "cell_type": "code",
   "execution_count": null,
   "metadata": {},
   "outputs": [],
   "source": []
  }
 ],
 "metadata": {
  "kernelspec": {
   "display_name": "Python 3",
   "language": "python",
   "name": "python3"
  },
  "language_info": {
   "codemirror_mode": {
    "name": "ipython",
    "version": 3
   },
   "file_extension": ".py",
   "mimetype": "text/x-python",
   "name": "python",
   "nbconvert_exporter": "python",
   "pygments_lexer": "ipython3",
   "version": "3.7.2"
  }
 },
 "nbformat": 4,
 "nbformat_minor": 2
}
