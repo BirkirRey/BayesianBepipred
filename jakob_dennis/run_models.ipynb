{
 "cells": [
  {
   "cell_type": "markdown",
   "metadata": {},
   "source": [
    "## Machine specific data"
   ]
  },
  {
   "cell_type": "code",
   "execution_count": 3,
   "metadata": {},
   "outputs": [],
   "source": [
    "PSIS_DIRECTORY = '../../assignments'\n",
    "DATA_PATH = '../../bepipred3.json'"
   ]
  },
  {
   "cell_type": "markdown",
   "metadata": {},
   "source": [
    "## Imports"
   ]
  },
  {
   "cell_type": "code",
   "execution_count": 4,
   "metadata": {},
   "outputs": [],
   "source": [
    "import json\n",
    "import numpy as np\n",
    "import pystan\n",
    "import matplotlib.pyplot as plt\n",
    "from scipy.special import logit, expit\n",
    "import sys\n",
    "\n",
    "sys.path.append(PSIS_DIRECTORY)\n",
    "import psis"
   ]
  },
  {
   "cell_type": "markdown",
   "metadata": {},
   "source": [
    "## Load data"
   ]
  },
  {
   "cell_type": "code",
   "execution_count": 5,
   "metadata": {},
   "outputs": [],
   "source": [
    "with open(DATA_PATH) as file:\n",
    "    data = json.load(file)"
   ]
  },
  {
   "cell_type": "code",
   "execution_count": 7,
   "metadata": {},
   "outputs": [
    {
     "name": "stdout",
     "output_type": "stream",
     "text": [
      "dict_keys(['asa', 'desc', 'disorder', 'epitope', 'id', 'interface', 'method', 'phi', 'preds', 'psi', 'q3', 'q3_prob', 'q8', 'q8_prob', 'rsa', 'seq'])\n"
     ]
    }
   ],
   "source": [
    "print(data[0].keys())"
   ]
  },
  {
   "cell_type": "code",
   "execution_count": 9,
   "metadata": {},
   "outputs": [],
   "source": [
    "# Check that all data has the same amino acids, predictions and labels\n",
    "for protein in data:\n",
    "    assert len(protein['epitope']) == len(protein['preds']) == len(protein['seq'])"
   ]
  },
  {
   "cell_type": "markdown",
   "metadata": {},
   "source": [
    "## Model 1:\n",
    "\n",
    "Epitope status calculated as logistic regression of prediction:\n",
    "\n",
    "$ep = logit^{-1}(\\alpha + \\beta * pred)$"
   ]
  },
  {
   "cell_type": "code",
   "execution_count": 16,
   "metadata": {},
   "outputs": [],
   "source": [
    "with open('models/pooled.stan') as f:\n",
    "    model_1_code = f.read()"
   ]
  },
  {
   "cell_type": "code",
   "execution_count": 21,
   "metadata": {},
   "outputs": [],
   "source": [
    "total_aminoacids = 0\n",
    "for protein in data:\n",
    "    total_aminoacids += len(protein['epitope'])\n",
    "    \n",
    "epitopes = np.empty(total_aminoacids, dtype=np.int32)\n",
    "scores = np.empty(total_aminoacids, dtype=np.float32)\n",
    "\n",
    "index = 0\n",
    "for protein in data:\n",
    "    length = len(protein['epitope'])\n",
    "    epitopes[index:index+length] = protein['epitope']\n",
    "    scores[index:index+length] = protein['preds']\n",
    "    index += length\n",
    "    \n",
    "standata_1 = {'total_aa': total_aminoacids,\n",
    "        'epitopes': epitopes,\n",
    "        'scores': scores\n",
    "       }"
   ]
  },
  {
   "cell_type": "code",
   "execution_count": 17,
   "metadata": {},
   "outputs": [
    {
     "name": "stderr",
     "output_type": "stream",
     "text": [
      "INFO:pystan:COMPILING THE C++ CODE FOR MODEL Model_1_15dac7ff361ffbd44467ef7cae14a597 NOW.\n",
      "/miniconda3/envs/stan/lib/python3.7/site-packages/Cython/Compiler/Main.py:367: FutureWarning: Cython directive 'language_level' not set, using 2 for now (Py2). This will change in a later release! File: /var/folders/4j/9bxrl41n4fn8qvbk_crbzdq40000gp/T/tmp8u6qxa4t/stanfit4Model_1_15dac7ff361ffbd44467ef7cae14a597_8526268102433384056.pyx\n",
      "  tree = Parsing.p_module(s, pxd, full_module_name)\n"
     ]
    }
   ],
   "source": [
    "model_1 = pystan.StanModel(model_code=model_1_code, model_name='Model_1')"
   ]
  },
  {
   "cell_type": "code",
   "execution_count": null,
   "metadata": {},
   "outputs": [],
   "source": [
    "fit_1 = model_1.sampling(data=standata_1)"
   ]
  },
  {
   "cell_type": "code",
   "execution_count": 41,
   "metadata": {},
   "outputs": [
    {
     "data": {
      "text/plain": [
       "odict_keys(['params', 'lp__'])"
      ]
     },
     "execution_count": 41,
     "metadata": {},
     "output_type": "execute_result"
    }
   ],
   "source": [
    "extract_1.keys()"
   ]
  },
  {
   "cell_type": "code",
   "execution_count": 23,
   "metadata": {},
   "outputs": [
    {
     "name": "stdout",
     "output_type": "stream",
     "text": [
      "Inference for Stan model: Model_1_15dac7ff361ffbd44467ef7cae14a597.\n",
      "4 chains, each with iter=2000; warmup=1000; thin=1; \n",
      "post-warmup draws per chain=1000, total post-warmup draws=4000.\n",
      "\n",
      "            mean se_mean     sd   2.5%    25%    50%    75%  97.5%  n_eff   Rhat\n",
      "params[1]  -3.57  1.4e-3   0.04  -3.65   -3.6  -3.57  -3.55   -3.5    887    1.0\n",
      "params[2]   12.6    0.01   0.37  11.89  12.35   12.6  12.86  13.32    902    1.0\n",
      "lp__      -1.3e4    0.03   0.95 -1.3e4 -1.3e4 -1.3e4 -1.3e4 -1.3e4   1249    1.0\n",
      "\n",
      "Samples were drawn using NUTS at Mon May  6 14:43:55 2019.\n",
      "For each parameter, n_eff is a crude measure of effective sample size,\n",
      "and Rhat is the potential scale reduction factor on split chains (at \n",
      "convergence, Rhat=1).\n"
     ]
    }
   ],
   "source": [
    "print(fit_1)"
   ]
  },
  {
   "cell_type": "code",
   "execution_count": 34,
   "metadata": {},
   "outputs": [],
   "source": [
    "# Calculate PSIS LOO\n",
    "extract_1 = fit_1.extract()\n",
    "n_obs = len(extract_1['params'])\n",
    "model_1_loglik = np.empty((n_obs, standata_1['total_aa']), dtype=np.float32)\n",
    "mask = standata_1['epitopes'] == 1\n",
    "for i in range(4000):\n",
    "    a, b = extract_1['params'][i]\n",
    "    ps = expit(a + b*standata_1['scores'])\n",
    "    ps[~mask] = 1-ps[~mask]\n",
    "    model_1_loglik[i] = np.log(ps)"
   ]
  },
  {
   "cell_type": "code",
   "execution_count": 35,
   "metadata": {},
   "outputs": [],
   "source": [
    "model_1_loo, model_1_loos, model_1_ks = psis.psisloo(model_1_loglik)"
   ]
  },
  {
   "cell_type": "code",
   "execution_count": 36,
   "metadata": {},
   "outputs": [
    {
     "name": "stdout",
     "output_type": "stream",
     "text": [
      "-12992.127\n"
     ]
    }
   ],
   "source": [
    "print(model_1_loo)"
   ]
  },
  {
   "cell_type": "code",
   "execution_count": 49,
   "metadata": {},
   "outputs": [],
   "source": [
    "mask = standata_1['epitopes'] == 1\n",
    "before_neg = standata_1['scores'][~mask]\n",
    "before_pos = standata_1['scores'][mask]\n",
    "after_neg = expit(-3.57 + 12.6 * before_neg)\n",
    "after_pos = expit(-3.57 + 12.6 * before_pos)"
   ]
  },
  {
   "cell_type": "code",
   "execution_count": 51,
   "metadata": {},
   "outputs": [
    {
     "data": {
      "image/png": "[encoded data removed]",
      "text/plain": [
       "<Figure size 432x288 with 1 Axes>"
      ]
     },
     "metadata": {
      "needs_background": "light"
     },
     "output_type": "display_data"
    }
   ],
   "source": [
    "plt.boxplot([before_neg, before_pos, after_neg, after_pos]);"
   ]
  },
  {
   "cell_type": "markdown",
   "metadata": {},
   "source": [
    "## Model 2"
   ]
  },
  {
   "cell_type": "code",
   "execution_count": 15,
   "metadata": {},
   "outputs": [],
   "source": [
    "total_aminoacids = 0\n",
    "for i, protein in enumerate(data):\n",
    "    if not len(protein['epitope']) == len(protein['preds']):\n",
    "        continue\n",
    "    total_aminoacids += len(protein['epitope'])\n",
    "    \n",
    "epitopes = np.empty(total_aminoacids, dtype=np.int)\n",
    "scores = np.empty(total_aminoacids, dtype=np.float)\n",
    "\n",
    "index = 0\n",
    "for protein in data:\n",
    "    if not len(protein['epitope']) == len(protein['preds']):\n",
    "        continue\n",
    "    length = len(protein['epitope'])\n",
    "    epitopes[index:index+length] = protein['epitope']\n",
    "    scores[index:index+length] = protein['preds']\n",
    "    \n",
    "standata = {'total_aa': total_aminoacids,\n",
    "        'epitopes': epitopes,\n",
    "        'scores': scores\n",
    "       }"
   ]
  },
  {
   "cell_type": "code",
   "execution_count": 24,
   "metadata": {},
   "outputs": [
    {
     "name": "stderr",
     "output_type": "stream",
     "text": [
      "INFO:pystan:COMPILING THE C++ CODE FOR MODEL Logistic_41992252ca51711f53aac9b1a8217b2f NOW.\n",
      "/miniconda3/envs/stan/lib/python3.7/site-packages/Cython/Compiler/Main.py:367: FutureWarning: Cython directive 'language_level' not set, using 2 for now (Py2). This will change in a later release! File: /var/folders/4j/9bxrl41n4fn8qvbk_crbzdq40000gp/T/tmp6i_e4i4v/stanfit4Logistic_41992252ca51711f53aac9b1a8217b2f_355907498657462649.pyx\n",
      "  tree = Parsing.p_module(s, pxd, full_module_name)\n"
     ]
    }
   ],
   "source": [
    "sm = pystan.StanModel(model_code=stan_code, model_name='Logistic')"
   ]
  },
  {
   "cell_type": "code",
   "execution_count": 25,
   "metadata": {},
   "outputs": [
    {
     "name": "stdout",
     "output_type": "stream",
     "text": [
      "Inference for Stan model: Logistic_41992252ca51711f53aac9b1a8217b2f.\n",
      "4 chains, each with iter=2000; warmup=1000; thin=1; \n",
      "post-warmup draws per chain=1000, total post-warmup draws=4000.\n",
      "\n",
      "            mean se_mean     sd   2.5%    25%    50%    75%  97.5%  n_eff   Rhat\n",
      "params[1]  -8.01  6.8e-3   0.24  -8.51  -8.17   -8.0  -7.84  -7.56   1273   1.01\n",
      "params[2]  41.53    0.06   2.07  37.64  40.11  41.48  42.93  45.62   1304   1.01\n",
      "lp__      -285.8    0.03   1.09 -288.7 -286.2 -285.4 -285.0 -284.8   1050    1.0\n",
      "\n",
      "Samples were drawn using NUTS at Fri May  3 13:42:48 2019.\n",
      "For each parameter, n_eff is a crude measure of effective sample size,\n",
      "and Rhat is the potential scale reduction factor on split chains (at \n",
      "convergence, Rhat=1).\n"
     ]
    }
   ],
   "source": [
    "fit = sm.sampling(data=standata)\n",
    "print(fit)"
   ]
  },
  {
   "cell_type": "code",
   "execution_count": 24,
   "metadata": {},
   "outputs": [
    {
     "ename": "NameError",
     "evalue": "name 'pooled_loglik' is not defined",
     "output_type": "error",
     "traceback": [
      "\u001b[0;31m---------------------------------------------------------------------------\u001b[0m",
      "\u001b[0;31mNameError\u001b[0m                                 Traceback (most recent call last)",
      "\u001b[0;32m<ipython-input-24-bbb09a6059e9>\u001b[0m in \u001b[0;36m<module>\u001b[0;34m\u001b[0m\n\u001b[0;32m----> 1\u001b[0;31m \u001b[0mpooled_loglik\u001b[0m\u001b[0;34m.\u001b[0m\u001b[0msum\u001b[0m\u001b[0;34m(\u001b[0m\u001b[0maxis\u001b[0m\u001b[0;34m=\u001b[0m\u001b[0;36m1\u001b[0m\u001b[0;34m)\u001b[0m\u001b[0;34m.\u001b[0m\u001b[0mmean\u001b[0m\u001b[0;34m(\u001b[0m\u001b[0;34m)\u001b[0m\u001b[0;34m,\u001b[0m \u001b[0mh_loglik\u001b[0m\u001b[0;34m.\u001b[0m\u001b[0msum\u001b[0m\u001b[0;34m(\u001b[0m\u001b[0maxis\u001b[0m\u001b[0;34m=\u001b[0m\u001b[0;36m1\u001b[0m\u001b[0;34m)\u001b[0m\u001b[0;34m.\u001b[0m\u001b[0mmean\u001b[0m\u001b[0;34m(\u001b[0m\u001b[0;34m)\u001b[0m\u001b[0;34m,\u001b[0m\u001b[0;34m\u001b[0m\u001b[0;34m\u001b[0m\u001b[0m\n\u001b[0m",
      "\u001b[0;31mNameError\u001b[0m: name 'pooled_loglik' is not defined"
     ]
    }
   ],
   "source": [
    "pooled_loglik = np.empty((4000, standata['total_aa']), dtype=np.float32)\n",
    "extract = fit.extract()\n",
    "mask = standata['epitopes'] == 1\n",
    "for i in range(4000):\n",
    "    a, b = extract['params'][i]\n",
    "    ps = expit(a + b*standata['scores'])\n",
    "    ps[~mask] = 1-ps[~mask]\n",
    "    pooled_loglik[i] = np.log(ps)"
   ]
  },
  {
   "cell_type": "markdown",
   "metadata": {},
   "source": [
    "### Plot distributions of preds, true and false"
   ]
  },
  {
   "cell_type": "code",
   "execution_count": 136,
   "metadata": {},
   "outputs": [],
   "source": [
    "true_preds, false_preds = list(), list()\n",
    "true_corr, false_corr = list(), list()\n",
    "#for protein in data:\n",
    "for pred, isepitope in zip(standata['scores'], standata['epitopes']):\n",
    "    corr = expit(-7.87 + 42.94*pred)\n",
    "    if corr > 0.8:\n",
    "        print(pred)\n",
    "        raise ValueError\n",
    "    if isepitope < 0.5:\n",
    "        false_preds.append(pred)\n",
    "        false_corr.append(corr)\n",
    "    else:\n",
    "        true_preds.append(pred)\n",
    "        true_corr.append(corr)"
   ]
  },
  {
   "cell_type": "code",
   "execution_count": 137,
   "metadata": {},
   "outputs": [
    {
     "data": {
      "image/png": "[encoded data removed]",
      "text/plain": [
       "<Figure size 432x288 with 1 Axes>"
      ]
     },
     "metadata": {
      "needs_background": "light"
     },
     "output_type": "display_data"
    }
   ],
   "source": [
    "plt.boxplot([true_preds, false_preds, true_corr, false_corr]);"
   ]
  },
  {
   "cell_type": "code",
   "execution_count": 6,
   "metadata": {},
   "outputs": [
    {
     "name": "stderr",
     "output_type": "stream",
     "text": [
      "INFO:pystan:COMPILING THE C++ CODE FOR MODEL Logistic_8e181146f08daeb022d7becb3b838a0b NOW.\n",
      "/miniconda3/envs/stan/lib/python3.7/site-packages/Cython/Compiler/Main.py:367: FutureWarning: Cython directive 'language_level' not set, using 2 for now (Py2). This will change in a later release! File: /var/folders/4j/9bxrl41n4fn8qvbk_crbzdq40000gp/T/tmps4ilfrpy/stanfit4Logistic_8e181146f08daeb022d7becb3b838a0b_899705431127022765.pyx\n",
      "  tree = Parsing.p_module(s, pxd, full_module_name)\n"
     ]
    }
   ],
   "source": [
    "hm = pystan.StanModel(model_code=hierarchical_code, model_name='Logistic')"
   ]
  },
  {
   "cell_type": "code",
   "execution_count": 19,
   "metadata": {
    "scrolled": false
   },
   "outputs": [
    {
     "name": "stdout",
     "output_type": "stream",
     "text": [
      "21\n"
     ]
    }
   ],
   "source": [
    "aa_dict = {x:i+1 for i,x in enumerate('ACDEFGHIKLMNPQRSTVWYX')}\n",
    "aas = list()\n",
    "for protein in data:\n",
    "    if len(protein['seq']) != len(protein['epitope']):\n",
    "        print(1)\n",
    "        continue\n",
    "    for aa in protein['seq']:\n",
    "        aas.append(aa_dict[aa])\n",
    "        \n",
    "aas = np.array(aas, dtype=np.int)\n",
    "\n",
    "print(len(np.unique(aas)))\n",
    "standata = {'total_aa': total_aminoacids,\n",
    "        'epitopes': epitopes,\n",
    "        'scores': scores,\n",
    "            'aa':aas,\n",
    "        'classes': len(np.unique(aas))\n",
    "       }"
   ]
  },
  {
   "cell_type": "code",
   "execution_count": 20,
   "metadata": {},
   "outputs": [
    {
     "name": "stderr",
     "output_type": "stream",
     "text": [
      "WARNING:pystan:183 of 4000 iterations ended with a divergence (4.575%).\n",
      "WARNING:pystan:Try running with adapt_delta larger than 0.8 to remove the divergences.\n",
      "WARNING:pystan:Chain 2: E-BFMI = 0.15900481508958797\n",
      "WARNING:pystan:Chain 3: E-BFMI = 0.1410758383648113\n",
      "WARNING:pystan:Chain 4: E-BFMI = 0.1642323414769072\n",
      "WARNING:pystan:E-BFMI below 0.2 indicates you may need to reparameterize your model\n"
     ]
    },
    {
     "name": "stdout",
     "output_type": "stream",
     "text": [
      "Inference for Stan model: Logistic_8e181146f08daeb022d7becb3b838a0b.\n",
      "4 chains, each with iter=2000; warmup=1000; thin=1; \n",
      "post-warmup draws per chain=1000, total post-warmup draws=4000.\n",
      "\n",
      "             mean se_mean     sd   2.5%    25%    50%    75%  97.5%  n_eff   Rhat\n",
      "beta_mu     -8.07    0.03   0.29  -8.67  -8.26  -8.06  -7.88  -7.55    100   1.02\n",
      "beta_sigma   0.38    0.02   0.21   0.08   0.22   0.35   0.51   0.89    110   1.02\n",
      "alpha        41.3    0.14   2.09  37.62  39.76  41.19   42.7  45.56    225   1.01\n",
      "beta[1]     -8.18    0.03   0.42  -9.08  -8.44  -8.15  -7.89  -7.47    161   1.01\n",
      "beta[2]     -8.05    0.03   0.47  -9.05  -8.33  -8.05  -7.74  -7.17    266   1.01\n",
      "beta[3]     -8.18    0.03   0.46  -9.24  -8.46  -8.15  -7.85  -7.46    283   1.01\n",
      "beta[4]     -7.96    0.02    0.4  -8.79   -8.2  -7.94   -7.7  -7.21    375   1.01\n",
      "beta[5]     -8.16    0.03   0.43  -9.08  -8.44  -8.13  -7.87  -7.41    170   1.02\n",
      "beta[6]     -7.95    0.02   0.37  -8.73  -8.19  -7.94   -7.7  -7.26    254   1.01\n",
      "beta[7]     -8.21    0.04   0.51  -9.39  -8.51  -8.16  -7.86  -7.42    186   1.01\n",
      "beta[8]     -7.72    0.02   0.39  -8.49  -7.99  -7.71  -7.47  -6.96    364   1.01\n",
      "beta[9]     -7.83    0.02   0.39  -8.61  -8.08  -7.83  -7.58  -7.05    293   1.01\n",
      "beta[10]    -7.96    0.02   0.37   -8.7  -8.19  -7.94  -7.69   -7.3    240   1.01\n",
      "beta[11]    -8.22    0.04   0.53  -9.46  -8.51  -8.16  -7.87  -7.39    222   1.01\n",
      "beta[12]    -7.68    0.02   0.41  -8.49  -7.96   -7.7  -7.42  -6.84    347   1.01\n",
      "beta[13]    -8.16    0.03   0.44  -9.12  -8.42  -8.13  -7.86  -7.41    214   1.01\n",
      "beta[14]     -8.3    0.04   0.53  -9.51  -8.61  -8.25  -7.94   -7.5    194   1.01\n",
      "beta[15]    -8.15    0.03   0.46  -9.16  -8.44  -8.12  -7.84  -7.39    208   1.01\n",
      "beta[16]     -8.3    0.04   0.48  -9.38  -8.59  -8.24  -7.98  -7.55    187   1.01\n",
      "beta[17]    -8.14    0.03   0.45  -9.11  -8.41  -8.11  -7.83  -7.38    203   1.01\n",
      "beta[18]    -8.14    0.03   0.42  -9.07   -8.4   -8.1  -7.85  -7.42    180   1.01\n",
      "beta[19]    -8.17    0.04   0.51  -9.31  -8.46  -8.13  -7.84  -7.33    180   1.01\n",
      "beta[20]    -8.04    0.03   0.43  -8.93  -8.31  -8.01  -7.75  -7.29    258   1.01\n",
      "beta[21]    -8.08    0.03   0.52  -9.16  -8.37  -8.04  -7.76  -7.08    421   1.01\n",
      "lp__       -270.8    1.42  11.33 -288.9 -278.9 -272.5 -264.8 -246.1     63   1.03\n",
      "\n",
      "Samples were drawn using NUTS at Fri May  3 13:39:31 2019.\n",
      "For each parameter, n_eff is a crude measure of effective sample size,\n",
      "and Rhat is the potential scale reduction factor on split chains (at \n",
      "convergence, Rhat=1).\n"
     ]
    }
   ],
   "source": [
    "fit2 = hm.sampling(data=standata)\n",
    "print(fit2)"
   ]
  },
  {
   "cell_type": "code",
   "execution_count": 26,
   "metadata": {},
   "outputs": [
    {
     "ename": "NameError",
     "evalue": "name 'pooled_loglik' is not defined",
     "output_type": "error",
     "traceback": [
      "\u001b[0;31m---------------------------------------------------------------------------\u001b[0m",
      "\u001b[0;31mNameError\u001b[0m                                 Traceback (most recent call last)",
      "\u001b[0;32m<ipython-input-26-bbb09a6059e9>\u001b[0m in \u001b[0;36m<module>\u001b[0;34m\u001b[0m\n\u001b[0;32m----> 1\u001b[0;31m \u001b[0mpooled_loglik\u001b[0m\u001b[0;34m.\u001b[0m\u001b[0msum\u001b[0m\u001b[0;34m(\u001b[0m\u001b[0maxis\u001b[0m\u001b[0;34m=\u001b[0m\u001b[0;36m1\u001b[0m\u001b[0;34m)\u001b[0m\u001b[0;34m.\u001b[0m\u001b[0mmean\u001b[0m\u001b[0;34m(\u001b[0m\u001b[0;34m)\u001b[0m\u001b[0;34m,\u001b[0m \u001b[0mh_loglik\u001b[0m\u001b[0;34m.\u001b[0m\u001b[0msum\u001b[0m\u001b[0;34m(\u001b[0m\u001b[0maxis\u001b[0m\u001b[0;34m=\u001b[0m\u001b[0;36m1\u001b[0m\u001b[0;34m)\u001b[0m\u001b[0;34m.\u001b[0m\u001b[0mmean\u001b[0m\u001b[0;34m(\u001b[0m\u001b[0;34m)\u001b[0m\u001b[0;34m,\u001b[0m\u001b[0;34m\u001b[0m\u001b[0;34m\u001b[0m\u001b[0m\n\u001b[0m",
      "\u001b[0;31mNameError\u001b[0m: name 'pooled_loglik' is not defined"
     ]
    }
   ],
   "source": [
    "pooled_loglik.sum(axis=1).mean(), h_loglik.sum(axis=1).mean(), "
   ]
  },
  {
   "cell_type": "code",
   "execution_count": 27,
   "metadata": {},
   "outputs": [],
   "source": [
    "pooled_loglik = np.empty((4000, standata['total_aa']), dtype=np.float32)\n",
    "extract = fit.extract()\n",
    "mask = standata['epitopes'] == 1\n",
    "for i in range(4000):\n",
    "    a, b = extract['params'][i]\n",
    "    ps = expit(a + b*standata['scores'])\n",
    "    ps[~mask] = 1-ps[~mask]\n",
    "    pooled_loglik[i] = np.log(ps)"
   ]
  },
  {
   "cell_type": "code",
   "execution_count": 28,
   "metadata": {},
   "outputs": [],
   "source": [
    "pooled_loo, pooled_loos, pooled_ks = psis.psisloo(pooled_loglik)"
   ]
  },
  {
   "cell_type": "code",
   "execution_count": 29,
   "metadata": {},
   "outputs": [
    {
     "name": "stdout",
     "output_type": "stream",
     "text": [
      "-286.7386\n"
     ]
    }
   ],
   "source": [
    "print(pooled_loo)"
   ]
  },
  {
   "cell_type": "code",
   "execution_count": 21,
   "metadata": {},
   "outputs": [],
   "source": [
    "h_loglik = np.empty((4000, standata['total_aa']), dtype=np.float32)\n",
    "extract = fit2.extract()\n",
    "mask = standata['epitopes'] == 1\n",
    "for i in range(4000):\n",
    "    a = extract['alpha'][i]\n",
    "    b = extract['beta'][i][standata['aa'] - 1]\n",
    "    ps = expit(b + a*standata['scores'])\n",
    "    ps[~mask] = 1-ps[~mask]\n",
    "    if np.any(ps == 0):\n",
    "        raise ValueError\n",
    "    h_loglik[i] = np.log(ps)"
   ]
  },
  {
   "cell_type": "code",
   "execution_count": 22,
   "metadata": {},
   "outputs": [],
   "source": [
    "h_loo, h_loos, h_ks = psis.psisloo(h_loglik)"
   ]
  },
  {
   "cell_type": "markdown",
   "metadata": {},
   "source": [
    "##### print(h_loo)"
   ]
  },
  {
   "cell_type": "code",
   "execution_count": 112,
   "metadata": {},
   "outputs": [],
   "source": [
    "def calc_peff(loglik, loo):\n",
    "    likelihood = np.exp(loglik)\n",
    "    observationwise_mean = likelihood.mean(axis=0)\n",
    "    lppd = np.log(observationwise_mean).sum()\n",
    "    return lppd - loo"
   ]
  },
  {
   "cell_type": "code",
   "execution_count": 113,
   "metadata": {},
   "outputs": [
    {
     "data": {
      "text/plain": [
       "(1.5838013, 7.022003)"
      ]
     },
     "execution_count": 113,
     "metadata": {},
     "output_type": "execute_result"
    }
   ],
   "source": [
    "calc_peff(pooled_loglik, pooled_loo), calc_peff(h_loglik, h_loo)"
   ]
  },
  {
   "cell_type": "code",
   "execution_count": 92,
   "metadata": {},
   "outputs": [
    {
     "data": {
      "text/plain": [
       "array([-8.81037531, -8.29491075, -8.16511506, ..., -8.20625734,\n",
       "       -8.00648846, -8.39737347])"
      ]
     },
     "execution_count": 92,
     "metadata": {},
     "output_type": "execute_result"
    }
   ],
   "source": [
    "extract = fit2.extract()\n",
    "extract['beta'][i][standata['aa'] - 1]"
   ]
  },
  {
   "cell_type": "code",
   "execution_count": 79,
   "metadata": {},
   "outputs": [
    {
     "data": {
      "text/plain": [
       "21"
      ]
     },
     "execution_count": 79,
     "metadata": {},
     "output_type": "execute_result"
    }
   ],
   "source": [
    "standata['aa'].max()"
   ]
  },
  {
   "cell_type": "code",
   "execution_count": 75,
   "metadata": {},
   "outputs": [],
   "source": [
    "extract = fit2.extract()"
   ]
  },
  {
   "cell_type": "code",
   "execution_count": 76,
   "metadata": {},
   "outputs": [
    {
     "data": {
      "text/plain": [
       "odict_keys(['beta_mu', 'beta_sigma', 'alpha', 'beta', 'lp__'])"
      ]
     },
     "execution_count": 76,
     "metadata": {},
     "output_type": "execute_result"
    }
   ],
   "source": [
    "extract.keys()"
   ]
  },
  {
   "cell_type": "code",
   "execution_count": 82,
   "metadata": {},
   "outputs": [
    {
     "data": {
      "text/plain": [
       "(4000, 21)"
      ]
     },
     "execution_count": 82,
     "metadata": {},
     "output_type": "execute_result"
    }
   ],
   "source": [
    "extract['beta'].shape"
   ]
  },
  {
   "cell_type": "code",
   "execution_count": 121,
   "metadata": {},
   "outputs": [
    {
     "data": {
      "text/plain": [
       "[<matplotlib.lines.Line2D at 0x1a22713a90>]"
      ]
     },
     "execution_count": 121,
     "metadata": {},
     "output_type": "execute_result"
    },
    {
     "data": {
      "image/png": "[encoded data removed]",
      "text/plain": [
       "<Figure size 432x288 with 1 Axes>"
      ]
     },
     "metadata": {
      "needs_background": "light"
     },
     "output_type": "display_data"
    }
   ],
   "source": [
    "xs = np.linspace(0, 1, 100)\n",
    "ys = expit(-7.87 + 42.94*xs)\n",
    "plt.plot(xs, ys)"
   ]
  },
  {
   "cell_type": "code",
   "execution_count": null,
   "metadata": {},
   "outputs": [],
   "source": [
    "for i in "
   ]
  },
  {
   "cell_type": "code",
   "execution_count": 122,
   "metadata": {},
   "outputs": [
    {
     "data": {
      "text/plain": [
       "array([0.99974536, 0.99955155, 0.99955443, ..., 0.99972713, 0.99966682,\n",
       "       0.99977459])"
      ]
     },
     "execution_count": 122,
     "metadata": {},
     "output_type": "execute_result"
    }
   ],
   "source": [
    "ps"
   ]
  },
  {
   "cell_type": "code",
   "execution_count": 123,
   "metadata": {},
   "outputs": [
    {
     "data": {
      "text/plain": [
       "array([False, False, False, ..., False, False, False])"
      ]
     },
     "execution_count": 123,
     "metadata": {},
     "output_type": "execute_result"
    }
   ],
   "source": [
    "mask"
   ]
  },
  {
   "cell_type": "code",
   "execution_count": 145,
   "metadata": {},
   "outputs": [
    {
     "data": {
      "text/plain": [
       "0.0003818884676828639"
      ]
     },
     "execution_count": 145,
     "metadata": {},
     "output_type": "execute_result"
    }
   ],
   "source": [
    "expit(-7.87 + 42.94*standata['scores'].min())"
   ]
  },
  {
   "cell_type": "code",
   "execution_count": 142,
   "metadata": {},
   "outputs": [
    {
     "data": {
      "text/plain": [
       "0.15529731"
      ]
     },
     "execution_count": 142,
     "metadata": {},
     "output_type": "execute_result"
    }
   ],
   "source": [
    "standata['scores'][mask].max()"
   ]
  },
  {
   "cell_type": "code",
   "execution_count": 143,
   "metadata": {},
   "outputs": [
    {
     "data": {
      "text/plain": [
       "0.20328818"
      ]
     },
     "execution_count": 143,
     "metadata": {},
     "output_type": "execute_result"
    }
   ],
   "source": [
    "standata['scores'][~mask].max()"
   ]
  },
  {
   "cell_type": "code",
   "execution_count": 146,
   "metadata": {},
   "outputs": [],
   "source": [
    "from random import randint"
   ]
  },
  {
   "cell_type": "code",
   "execution_count": 158,
   "metadata": {},
   "outputs": [
    {
     "name": "stdout",
     "output_type": "stream",
     "text": [
      "0.0994\n"
     ]
    }
   ],
   "source": [
    "n_sims = 100000\n",
    "fewer = 0\n",
    "for i in range(n_sims):\n",
    "    females = np.random.randint(2, size=39).sum()\n",
    "    if females <= 15:\n",
    "        fewer += 1\n",
    "print(fewer/n_sims)"
   ]
  },
  {
   "cell_type": "code",
   "execution_count": 159,
   "metadata": {},
   "outputs": [],
   "source": [
    "from scipy.special import binom"
   ]
  },
  {
   "cell_type": "code",
   "execution_count": 163,
   "metadata": {},
   "outputs": [],
   "source": [
    "from scipy import stats"
   ]
  },
  {
   "cell_type": "code",
   "execution_count": 166,
   "metadata": {},
   "outputs": [
    {
     "data": {
      "text/plain": [
       "0.09979543345980334"
      ]
     },
     "execution_count": 166,
     "metadata": {},
     "output_type": "execute_result"
    }
   ],
   "source": [
    "stats.binom.cdf(15, 39, 0.5)"
   ]
  },
  {
   "cell_type": "code",
   "execution_count": null,
   "metadata": {},
   "outputs": [],
   "source": []
  }
 ],
 "metadata": {
  "kernelspec": {
   "display_name": "Python 3",
   "language": "python",
   "name": "python3"
  },
  "language_info": {
   "codemirror_mode": {
    "name": "ipython",
    "version": 3
   },
   "file_extension": ".py",
   "mimetype": "text/x-python",
   "name": "python",
   "nbconvert_exporter": "python",
   "pygments_lexer": "ipython3",
   "version": "3.7.2"
  }
 },
 "nbformat": 4,
 "nbformat_minor": 2
}
