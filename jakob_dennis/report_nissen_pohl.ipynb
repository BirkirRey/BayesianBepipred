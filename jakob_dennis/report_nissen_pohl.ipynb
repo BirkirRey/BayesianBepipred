{
 "cells": [
  {
   "cell_type": "markdown",
   "metadata": {},
   "source": [
    "# 02936 Bayesian Data Analysis\n",
    "## Extending Bepipred epitope prediction model\n",
    "#### by Jakob Nissen (s170001) and Dennis Pohl (s190347)\n",
    "## Introduction\n",
    "In this project, we're exploring Bayesian extensions of an existing deep learning model, Bepipred, which predicts a property of proteins. Understanding this necessitates a brief introduction to the structure of proteins as well as the function of Bepipred, which we will cover in the next chapters.\n",
    "\n",
    "This project was done in loose collaboration with Birkir Reynisson (BR) and Martil Closter Jespersen (MCJ). We decided early in the project to split into two groups because smaller ground allow each group member to contribute more meaningfully. The data, the original Bepipred model and a description of the scientific problem was provided by MCJ. Early in the project, we held meetings with BR & MCJ to get an idea about possible approaches to the project. Other than sharing the data, the Bepipred model and the initial meetings, the two groups have worked completely independently.\n",
    "\n",
    "### Proteins and amino acids\n",
    "Most biochemical reactions in the body are catalyzed by proteins. Proteins also serve as building blocks of tissues such as hair, nails, skin and muscle. For this reason, almost all molecular biological object of study involves interaction of proteins.\n",
    "\n",
    "Proteins are synthesized in the body as a linear polymer of a kind of small polar molecule called amino acids. In natural proteins, 20 different amino acids are used. Hence, the chemical structure of a protein can conveniently be perfectly represented as a linear string of letters from a 20-character alphabet, by convention \"ACDEFGHIKLMNPQRSTVWY\". The linear chain of amino acids is also known as the primary protein structure.\n",
    "\n",
    "Hydrogen bonds in the polypeptide backbone of the amino acid string can introduce secondary structures. The most common secondary structures are $\\alpha$-helices, $\\beta$-sheets and loops. In brief, $\\alpha$-helices are helical coils whereas $\\beta$-sheets are formed by (multiple) polypeptide-chains which lie next to each other bound by hydrogen bonds. Loops are loose flexible turns formed by 2-16 amino acid residues and are of particular interest in this project, as they often contain and expose the epitope to the protein surface.\n",
    "\n",
    "During and immediately after synthesis, this chain of amino acid begins to electrostatically interact with itself and the surrounding water and ions. These forces fold the chain into a well-defined three-dimensional structure that is critical for the function of the protein. Although this process is deterministic for a given amino acid sequence, and relies on nothing other than the physiochemical properties of the protein chain, predicting the folding of an amino acid chain is one of the most fundamental unsolved problems in science.\n",
    "\n",
    "#### Antibodies and epitopes\n",
    "Antibodies are a group of proteins that can specifically recognize and bind to different classes of antigens through epitope regions. Antigens are foreign proteins, polysaccharides or other molecules, often found on bacterial or viral surface structures that can enter our body and induce an immune response. Generally, the human body is capable of detecting antigens through B cells carrying antibodies on their surface which will recognize epitope regions (which are usually 5-8 amino acids in length) on the surface of the antigen. Epitopes can fold into many complex three-dimensional conformations, thereby impairing the efficiency of an antibody to recognize and bind to the antigen. However, if an antibody was able to bind to an epitope it will render the antigen harmless by e.g. blocking its surface, thereby preventing interactions with the antigen's target receptor.\n",
    "\n",
    "### Bepipred\n",
    "Bepipred is a computational tool developed by Martin Closter Jespersen (MCJ) to predict which amino acids of a protein constitute epitopes, taking only the amino acid sequence as input. The input is thus a string of length N of the 20-letter amino acid alphabet. The output is a vector of length N of the prediction score in \\[0, 1), where 0 indicates low probability of the corresponding amino acid being an epitope.\n",
    "\n",
    "Bepipred is a convolutional neural network, that predicts the score of each amino acid based on a sliding window of size 9, i.e. the data of the central amino acid for which the score is predicted, as well as the 4 flanking amino acids on each side. Each sliding window leads to a prediction independent of the other sliding windows in the protein. Bepipred uses the features `rsa`, `seq`, `q3` and `disorder` (described in the dataset section).\n",
    "\n",
    "### Dataset\n",
    "Our dataset is a JSON file containing 190 proteins. The dataset have been curated such that no protein share a close evolutionary relationship with any other from the dataset, nor with any protein that Bepipred has been trained on.\n",
    "\n",
    "A total of 16 features per protein in the dataset is avaiable. We will focus on the attributes that are potentially relevant here:\n",
    "\n",
    "__epitope__:\n",
    "A vector of 1 where the amino acid is an epitope and 0 where it is not. These are the true labels.\n",
    "\n",
    "__preds__:\n",
    "A vector of floats \\[0, 1) with the output of Bepipred\n",
    "\n",
    "__disorder__:\n",
    "A vector of floats \\[0, 1) with the a score signifying the predicted freedom of movement of the given amino acid, where 0 indicates the amino acid is locked into place and 1 indicating the amino acid can move as freely as possible.\n",
    "\n",
    "__q3__:\n",
    "A string of characters from the alphabet \"CHE\", signifying the predicted local \"secondary\" structure classified in either coil (C), helix (H) or sheet (E).\n",
    "\n",
    "__q3_prob__:\n",
    "A vector of vectors, where each inner vector has three elements represents the probability of the local structure being coil, helix or sheet, respectively.\n",
    "\n",
    "__rsa__:\n",
    "The predicted relative exposed surface area of the amino acid. This is constrained in [0, 1], where 0 signifies an amino acid completely buried on the inside of the protein, and 1 signifying the amino acid free-floating in the solution.\n",
    "\n",
    "__seq__:\n",
    "A string of chracters from the alphabet \"ACDEFGHIKLMNPQRSTVWXY\" representing the amino acid sequence of the protein, as well as X for unknown amino acid.\n",
    "\n",
    "### Objectives of this project\n",
    "Proteins are large biomolecules consisting of long chains of amino acid residues which usually fold into highly complex 3-dimensional structures. Proteins perform many critical functions in our human body but its function highly depends on its tertiary structure. Predicting epitope regions of a protein remains a difficult task as the folding of a protein is highly complex. In this project we worked with the output produced by Bepipred, and focused in particular on the prediction of epitopes in proteins.\n",
    "\n",
    "The aim of this project is to enhance Bepipred's epitope prediction using Bayesian statistics. We started out with simple Bayesian models and implemented more sophisticated (multiparameter) models, by e.g. taking into consideration protein lengths or amino acid frequency. Each Bayesian model is cross-validated by computing Pareto smoothed importance sampling leave-one-out, or short PSIS-LOO, and we refined our models based on that. Finally we determine and propose the best performing model."
   ]
  },
  {
   "cell_type": "code",
   "execution_count": 1,
   "metadata": {},
   "outputs": [],
   "source": [
    "PSIS_DIRECTORY = '../../assignments'\n",
    "DATA_PATH = '../../bepipred3.json'"
   ]
  },
  {
   "cell_type": "code",
   "execution_count": 4,
   "metadata": {},
   "outputs": [],
   "source": [
    "import sys\n",
    "sys.path.append(PSIS_DIRECTORY)\n",
    "\n",
    "import json\n",
    "import numpy as np\n",
    "import pystan\n",
    "import matplotlib.pyplot as plt\n",
    "import scipy\n",
    "\n",
    "from math import log\n",
    "from collections import Counter\n",
    "from scipy.special import logit, expit\n",
    "\n",
    "#from psis import psisloo\n",
    "import psis\n",
    "import plot_tools\n",
    "import arviz as az # For visualization and loo\n",
    "az.style.use('seaborn-darkgrid')"
   ]
  },
  {
   "cell_type": "code",
   "execution_count": 5,
   "metadata": {},
   "outputs": [],
   "source": [
    "with open(DATA_PATH) as file:\n",
    "    data = json.load(file)"
   ]
  },
  {
   "cell_type": "markdown",
   "metadata": {},
   "source": [
    "### Data preparation\n",
    "\n",
    "Inspection of the data reveals that one protein contains one amino acid labeled 'X' (any amino acid). Since the sliding windows are predicted independently, we have decided to remove this amino acid instead of discarding the protein."
   ]
  },
  {
   "cell_type": "code",
   "execution_count": 6,
   "metadata": {},
   "outputs": [],
   "source": [
    "# Check that all data has the same amino acids, predictions and labels\n",
    "for protein in data:\n",
    "    assert len(protein['epitope']) == len(protein['preds']) == len(protein['seq'])\n",
    "\n",
    "# Remove 'X' from all proteins they are present in\n",
    "for protein in data:\n",
    "    if 'X' in protein['seq']:\n",
    "        x_positions = [i for i,n in enumerate(protein['seq']) if n == 'X']\n",
    "        for k, v in protein.items():\n",
    "            if not hasattr(v, \"__len__\") or len(v) != len(protein['seq']):\n",
    "                continue\n",
    "            newdata = [x for i,x in enumerate(v) if i not in x_positions]\n",
    "            if isinstance(v, str):\n",
    "                newdata = ''.join(newdata)\n",
    "            protein[k] = newdata"
   ]
  },
  {
   "cell_type": "markdown",
   "metadata": {},
   "source": [
    "### Functions for the analysis"
   ]
  },
  {
   "cell_type": "code",
   "execution_count": 7,
   "metadata": {},
   "outputs": [],
   "source": [
    "# Effective number of parameters\n",
    "def p_eff(lppd_loo_cv, log_like):\n",
    "    \"\"\"\n",
    "    lppd_loo_cv: float\n",
    "    log_like: (n x m) log-likelihood of m data points, given n posterior samples.\n",
    "    \"\"\"\n",
    "    lppd = np.sum(np.log(np.mean(np.exp(log_like), axis=0)))\n",
    "    return lppd - lppd_loo_cv"
   ]
  },
  {
   "cell_type": "markdown",
   "metadata": {},
   "source": [
    "## Analysis\n",
    "\n",
    "#### Null model\n",
    "\n",
    "$epitopes \\sim uniform(\\alpha)$ \n",
    "\n",
    "For a baseline, we simply predict a constant probability of each amino acid being an epitope. Hopefully, all models should perform better than this."
   ]
  },
  {
   "cell_type": "markdown",
   "metadata": {},
   "source": [
    "#### Model 0: Bepipred model\n",
    "\n",
    "$epitopes \\sim uniform(predictions)$\n",
    "\n",
    "As the purpose of our project is to enhance Bepipred's prediction, the second baseline to establish is a model which simply interpretates Bepipreds output scores as probabilities. Building a model to beat the performance of this baseline is the true goal of the project. "
   ]
  },
  {
   "cell_type": "markdown",
   "metadata": {},
   "source": [
    "#### Model 1: Logistic model\n",
    "\n",
    "$epitopes \\sim expit(\\alpha + \\beta \\times predictions)$\n",
    "\n",
    "Bepipred is a deep neural network, and is therefore fitted to minimize some loss function which is not necessarily related to the log likelihood. The next step towards a probabilistic model is a simple logistic regression that uses only Bepipreds output to calculate a probability of an amino acid being an epitope."
   ]
  },
  {
   "cell_type": "markdown",
   "metadata": {},
   "source": [
    "#### Model 2: Separate model\n",
    "\n",
    "$epitopes \\sim expit(\\alpha_{aa} + \\beta_{aa} \\times pred)$\n",
    "\n",
    "The separate model does not include any pooling and will generate an estimate for each amino acid. This model will treat the amino acids independently from each other, means each amino acid estimate is unbiased and only based on its own <span style=\"color:red\">(prediction score)</span>. This model has two parameters ($\\alpha$ and $\\beta$) for each amino acid estimate."
   ]
  },
  {
   "cell_type": "code",
   "execution_count": 8,
   "metadata": {},
   "outputs": [],
   "source": [
    "with open('models/separate.stan') as f:\n",
    "    model_3_code = f.read()        \n",
    "\n",
    "total_aminoacids = 0\n",
    "for i, protein in enumerate(data):\n",
    "    if not len(protein['epitope']) == len(protein['preds']):\n",
    "        continue\n",
    "    total_aminoacids += len(protein['epitope'])\n",
    "    \n",
    "epitopes = np.empty(total_aminoacids, dtype=np.int)\n",
    "scores = np.empty(total_aminoacids, dtype=np.float)\n",
    "aas = np.empty(total_aminoacids, dtype=np.int)\n",
    "\n",
    "var_set = set()\n",
    "for i in data:\n",
    "    var_set = var_set.union(i[\"seq\"])\n",
    "mydict = {j:i+1 for i,j in enumerate(var_set)}\n",
    "\n",
    "index = 0\n",
    "for protein in data:\n",
    "    if not len(protein['epitope']) == len(protein['preds']):\n",
    "        continue\n",
    "    length = len(protein['epitope'])\n",
    "    epitopes[index:index+length] = protein['epitope']\n",
    "    scores[index:index+length] = protein['preds']\n",
    "    aas[index:index+length] = [mydict[i] for i in protein[\"seq\"]]\n",
    "    index += length"
   ]
  },
  {
   "cell_type": "code",
   "execution_count": 9,
   "metadata": {},
   "outputs": [
    {
     "name": "stderr",
     "output_type": "stream",
     "text": [
      "INFO:pystan:COMPILING THE C++ CODE FOR MODEL Model_3_b58402f9a50f0679580b6a2d448ce996 NOW.\n",
      "/Users/dpohl/anaconda3/envs/PyStan/lib/python3.6/site-packages/Cython/Compiler/Main.py:367: FutureWarning: Cython directive 'language_level' not set, using 2 for now (Py2). This will change in a later release! File: /var/folders/zq/wfnwl84j08q68c6t__f3vs200000gn/T/tmp842s03pd/stanfit4Model_3_b58402f9a50f0679580b6a2d448ce996_4718044280759526785.pyx\n",
      "  tree = Parsing.p_module(s, pxd, full_module_name)\n"
     ]
    }
   ],
   "source": [
    "standata_3 = {\n",
    "    'classes': len(mydict),\n",
    "    'total_aa': total_aminoacids,\n",
    "    'aa': aas,\n",
    "    'epitopes': epitopes,\n",
    "    'scores': scores\n",
    "}\n",
    "model_3 = pystan.StanModel(model_code=model_3_code, model_name='Model_3')\n",
    "fit_3 = model_3.sampling(data=standata_3)"
   ]
  },
  {
   "cell_type": "code",
   "execution_count": 10,
   "metadata": {},
   "outputs": [
    {
     "name": "stdout",
     "output_type": "stream",
     "text": [
      "Inference for Stan model: Model_3_b58402f9a50f0679580b6a2d448ce996.\n",
      "4 chains, each with iter=2000; warmup=1000; thin=1; \n",
      "post-warmup draws per chain=1000, total post-warmup draws=4000.\n",
      "\n",
      "            mean se_mean     sd   2.5%    25%    50%    75%  97.5%  n_eff   Rhat\n",
      "alpha[1]   -3.85  2.5e-3   0.18  -4.21  -3.97  -3.85  -3.73  -3.49   5374    1.0\n",
      "alpha[2]   -3.76  2.5e-3    0.2  -4.16   -3.9  -3.76  -3.62  -3.38   6297    1.0\n",
      "alpha[3]   -3.67  2.4e-3   0.18  -4.04  -3.79  -3.66  -3.54  -3.32   6085    1.0\n",
      "alpha[4]   -3.95  2.1e-3   0.17  -4.29  -4.06  -3.94  -3.83  -3.63   6656    1.0\n",
      "alpha[5]   -3.42  2.6e-3   0.22  -3.86  -3.57  -3.42  -3.27   -3.0   6869    1.0\n",
      "alpha[6]   -4.29  5.4e-3    0.4  -5.11  -4.55  -4.28  -4.02  -3.54   5533    1.0\n",
      "alpha[7]    -3.3  2.9e-3   0.22  -3.74  -3.45  -3.29  -3.15  -2.87   5833    1.0\n",
      "alpha[8]   -3.52  3.0e-3   0.25   -4.0  -3.69  -3.52  -3.36  -3.05   6859    1.0\n",
      "alpha[9]   -3.88  3.6e-3   0.29  -4.48  -4.07  -3.87  -3.68  -3.33   6576    1.0\n",
      "alpha[10]  -3.41  2.5e-3   0.21  -3.84  -3.56  -3.41  -3.27  -3.01   7134    1.0\n",
      "alpha[11]  -3.28  2.0e-3   0.15  -3.58  -3.38  -3.28  -3.18  -2.98   5969    1.0\n",
      "alpha[12]  -3.16  2.5e-3   0.22  -3.59  -3.31  -3.16  -3.01  -2.73   8037    1.0\n",
      "alpha[13]  -3.38  2.7e-3   0.21  -3.79  -3.52  -3.38  -3.23  -2.99   5856    1.0\n",
      "alpha[14]  -2.96  2.2e-3   0.18  -3.32  -3.08  -2.96  -2.84  -2.62   6486    1.0\n",
      "alpha[15]  -3.42  2.8e-3   0.21  -3.84  -3.57  -3.42  -3.27   -3.0   6059    1.0\n",
      "alpha[16]  -4.17  2.1e-3   0.16  -4.49  -4.28  -4.17  -4.07  -3.86   5803    1.0\n",
      "alpha[17]  -3.81  2.3e-3   0.17  -4.15  -3.92  -3.81   -3.7  -3.48   5533    1.0\n",
      "alpha[18]   -3.6  3.9e-3   0.31  -4.22  -3.81   -3.6  -3.39   -3.0   6305    1.0\n",
      "alpha[19]  -3.02  2.4e-3   0.19   -3.4  -3.16  -3.02  -2.89  -2.64   6297    1.0\n",
      "alpha[20]   -3.9  2.0e-3   0.17  -4.25  -4.02   -3.9  -3.78  -3.56   7480    1.0\n",
      "beta[1]    17.57    0.03   2.08  13.45  16.16  17.61  18.99  21.69   5611    1.0\n",
      "beta[2]    15.82    0.03   2.06  11.81  14.42   15.8   17.2  19.88   6481    1.0\n",
      "beta[3]    13.12    0.02   1.76   9.64   11.9   13.1  14.32  16.54   6092    1.0\n",
      "beta[4]     16.7    0.02   1.72  13.38  15.53  16.67  17.89  20.07   6467    1.0\n",
      "beta[5]    11.98    0.02   1.97   8.08  10.62  11.96  13.38  15.76   6765    1.0\n",
      "beta[6]    18.93    0.08   5.91   7.22  14.92  18.98  22.91  30.58   5910    1.0\n",
      "beta[7]     9.42    0.02   1.61   6.26   8.31   9.41  10.51  12.64   5754    1.0\n",
      "beta[8]    13.24    0.03   2.25   8.83  11.73  13.23  14.78  17.59   6658    1.0\n",
      "beta[9]    16.18    0.04   3.16  10.03   14.0  16.14  18.32  22.49   6401    1.0\n",
      "beta[10]   10.52    0.02   1.79   7.05   9.29  10.51  11.71  14.09   7253    1.0\n",
      "beta[11]   10.66    0.02   1.57   7.52    9.6  10.66   11.7  13.75   5627    1.0\n",
      "beta[12]    9.89    0.02   1.84   6.32   8.64   9.86  11.14   13.5   7149    1.0\n",
      "beta[13]   10.76    0.02   1.71   7.54   9.59  10.76  11.93  14.11   5923    1.0\n",
      "beta[14]    7.37    0.02   1.42   4.56    6.4   7.36   8.34  10.22   6996    1.0\n",
      "beta[15]   11.16    0.02   1.92   7.36   9.84  11.12  12.47  14.82   6268    1.0\n",
      "beta[16]   18.03    0.02   1.68  14.72  16.88  18.02  19.17  21.37   5673    1.0\n",
      "beta[17]   15.14    0.03   1.95  11.34  13.86  15.15  16.41  18.95   5821    1.0\n",
      "beta[18]   15.03    0.04   2.81   9.55  13.14   15.0  16.96  20.47   6379    1.0\n",
      "beta[19]    9.35    0.02   1.56    6.3    8.3   9.37  10.44  12.39   6385    1.0\n",
      "beta[20]    14.6    0.02   2.05  10.47  13.24   14.6  15.97  18.67   7036    1.0\n",
      "lp__      -1.3e4    0.12   4.55 -1.3e4 -1.3e4 -1.3e4 -1.3e4 -1.3e4   1546    1.0\n",
      "\n",
      "Samples were drawn using NUTS at Sat May 11 17:42:40 2019.\n",
      "For each parameter, n_eff is a crude measure of effective sample size,\n",
      "and Rhat is the potential scale reduction factor on split chains (at \n",
      "convergence, Rhat=1).\n"
     ]
    }
   ],
   "source": [
    "print(fit_3)"
   ]
  },
  {
   "cell_type": "code",
   "execution_count": 11,
   "metadata": {},
   "outputs": [
    {
     "name": "stdout",
     "output_type": "stream",
     "text": [
      "PSIS-LOO: -12977.79\n",
      "Number of effective parameters (p-eff): 36.91\n"
     ]
    }
   ],
   "source": [
    "# Calculate PSIS-LOO\n",
    "extract_3 = fit_3.extract()\n",
    "n_obs = len(extract_3['alpha'])\n",
    "model_3_loglik = np.empty((n_obs, standata_3['total_aa']), dtype=np.float32)\n",
    "mask = standata_3['epitopes'] == 1\n",
    "for i in range(4000):\n",
    "    a = extract_3['alpha'][i][aas-1]\n",
    "    b = extract_3['beta'][i][aas-1]\n",
    "    ps = expit(a + b*standata_3['scores'])\n",
    "    ps[~mask] = 1-ps[~mask]\n",
    "    model_3_loglik[i] = np.log(ps)\n",
    "    \n",
    "model_3_loo, model_3_loos, model_3_ks = psis.psisloo(model_3_loglik)\n",
    "\n",
    "print(\"PSIS-LOO: {:.2f}\".format(model_3_loo))\n",
    "print(\"Number of effective parameters (p-eff): {:.2f}\".format(p_eff(model_3_loo, model_3_loglik)))"
   ]
  },
  {
   "cell_type": "markdown",
   "metadata": {},
   "source": [
    "#### Model 3: Hierarchical model\n",
    "\n",
    "$\\alpha \\sim \\mathcal{N}(\\mu_{\\alpha}, \\sigma_{\\alpha})$\n",
    "\n",
    "$epitopes \\sim expit(\\alpha_{aa} + \\beta \\times pred)$\n",
    "\n",
    "This model is an extension of the previous, where we assume the different $\\alpha$ values are not truly independent, but in fact related by being from the same distribtuion, and thus can inform each other."
   ]
  },
  {
   "cell_type": "markdown",
   "metadata": {},
   "source": [
    "#### Model 4: Custom model\n",
    "\n",
    "$\\alpha \\sim \\mathcal{N}(\\mu_{\\alpha}, \\sigma_{\\alpha})$\n",
    "\n",
    "$epitopes \\sim expit(\\alpha_{aa} + \\beta \\times pred + \\gamma \\times \\frac{1}{len})$\n",
    "\n",
    "This model is identical to the previous model, except that a term is added to the logistic regression which takes the length of the protein into account.\n",
    "Studying the data, we can see that the long proteins have fewer epitopes per amino acid than short ones do (see figure below). The signal is remarkable, and because Bepipred predicts on only a small window of amino acids, we believe it is not able to take this into account."
   ]
  },
  {
   "cell_type": "code",
   "execution_count": 21,
   "metadata": {},
   "outputs": [],
   "source": [
    "def setplot(title, xlabel, ylabel):\n",
    "    plt.title(title, fontsize=20)\n",
    "    plt.tick_params(labelsize=12)\n",
    "    plt.xlabel(xlabel, fontsize=14)\n",
    "    plt.ylabel(ylabel, fontsize=14)"
   ]
  },
  {
   "cell_type": "code",
   "execution_count": 34,
   "metadata": {},
   "outputs": [
    {
     "data": {
      "image/png": "[encoded data removed]",
      "text/plain": [
       "<Figure size 432x288 with 1 Axes>"
      ]
     },
     "metadata": {
      "needs_background": "light"
     },
     "output_type": "display_data"
    }
   ],
   "source": [
    "xs = [len(protein['seq']) for protein in data]\n",
    "ys = [sum(protein['epitope'])/i for protein, i in zip(data, xs)]\n",
    "plt.plot(xs, ys, '.')\n",
    "setplot('Long proteins have relatively fewer epitopes', 'Epitopes / length', 'Length')"
   ]
  },
  {
   "cell_type": "markdown",
   "metadata": {},
   "source": [
    "#### Model 6: Custom model"
   ]
  },
  {
   "cell_type": "code",
   "execution_count": null,
   "metadata": {},
   "outputs": [],
   "source": []
  },
  {
   "cell_type": "markdown",
   "metadata": {},
   "source": [
    "#### Model 7:\n",
    "\n",
    "$epitopes \\sim \\gamma + \\delta(1 - \\gamma) \\times \\frac{1}{length} \\times expit(\\alpha_{aa} + \\beta_{aa} \\times pred)$"
   ]
  },
  {
   "cell_type": "code",
   "execution_count": null,
   "metadata": {},
   "outputs": [],
   "source": []
  },
  {
   "cell_type": "markdown",
   "metadata": {},
   "source": [
    "Model that we were talking about:\n",
    "\n",
    "$epitopes \\sim bernoulli(\\gamma + (1 - \\gamma) \\times \\frac{1}{\\sum{pred}} \\times expit(\\alpha_{[aa]} + \\beta_{[aa]} \\times pred))$"
   ]
  },
  {
   "cell_type": "markdown",
   "metadata": {},
   "source": [
    "## Overview of results\n",
    "blabla"
   ]
  },
  {
   "cell_type": "markdown",
   "metadata": {},
   "source": [
    "<span style=\"color:red\">The following: Arbitrary PSIS-LOO values. Need to replace them</span>\n",
    "\n",
    "Pareto smoothed importance sampling leave-one-out (PSIS-LOO) cross-validation was used to estimate the predictive performance of each model. The following is a summary of the PSIS-LOO values obtained for each respective model:"
   ]
  },
  {
   "cell_type": "code",
   "execution_count": 13,
   "metadata": {},
   "outputs": [
    {
     "data": {
      "image/png": "[encoded data removed]",
      "text/plain": [
       "<Figure size 864x360 with 1 Axes>"
      ]
     },
     "metadata": {},
     "output_type": "display_data"
    }
   ],
   "source": [
    "PSIS_LOO_comp = {}\n",
    "PSIS_LOO_comp[\"model 1\"] = -12977.486\n",
    "PSIS_LOO_comp[\"model 2\"] = -12450.450\n",
    "PSIS_LOO_comp[\"model 3\"] = model_3_loo\n",
    "PSIS_LOO_comp[\"model 4\"] = -12123.123\n",
    "PSIS_LOO_comp[\"model 5\"] = -12874.673\n",
    "PSIS_LOO_comp[\"model 6\"] = -12674.673\n",
    "PSIS_LOO_comp[\"model 7\"] = -12574.673\n",
    "\n",
    "f = plt.figure(figsize = (12, 5))\n",
    "x = PSIS_LOO_comp.keys()\n",
    "y = PSIS_LOO_comp.values()\n",
    "maximum = max(PSIS_LOO_comp.values()) + 200\n",
    "minimum = min(PSIS_LOO_comp.values()) - 200\n",
    "\n",
    "plt.bar(x, y, alpha=0.7, color=['black', 'firebrick', 'lime', 'navy', 'orange', 'darkcyan', 'tan'])\n",
    "plt.ylim(maximum, minimum)\n",
    "plt.ylabel(\"PSIS-LOO\")\n",
    "plt.show()"
   ]
  },
  {
   "cell_type": "markdown",
   "metadata": {},
   "source": [
    "## Conclusion\n",
    "blabla"
   ]
  },
  {
   "cell_type": "code",
   "execution_count": 37,
   "metadata": {},
   "outputs": [
    {
     "data": {
      "text/plain": [
       "0.005"
      ]
     },
     "execution_count": 37,
     "metadata": {},
     "output_type": "execute_result"
    }
   ],
   "source": [
    "1/200"
   ]
  }
 ],
 "metadata": {
  "kernelspec": {
   "display_name": "Python 3",
   "language": "python",
   "name": "python3"
  },
  "language_info": {
   "codemirror_mode": {
    "name": "ipython",
    "version": 3
   },
   "file_extension": ".py",
   "mimetype": "text/x-python",
   "name": "python",
   "nbconvert_exporter": "python",
   "pygments_lexer": "ipython3",
   "version": "3.6.8"
  }
 },
 "nbformat": 4,
 "nbformat_minor": 2
}
