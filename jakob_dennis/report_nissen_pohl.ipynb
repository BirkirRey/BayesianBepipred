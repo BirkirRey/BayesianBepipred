{
 "cells": [
  {
   "cell_type": "markdown",
   "metadata": {},
   "source": [
    "# 02936 Bayesian Data Analysis\n",
    "## Extending Bepipred epitope prediction model\n",
    "#### by Jakob Nissen (s170001) and Dennis Pohl (s190347)\n",
    "\n",
    "___\n",
    "\n",
    "## Introduction\n",
    "In this project, we're exploring Bayesian extensions of an existing deep learning model, Bepipred, which predicts a property of proteins. Understanding this necessitates a brief introduction to the structure of proteins as well as the function of Bepipred, which we will cover in the next chapters.\n",
    "\n",
    "This project was done in loose collaboration with Birkir Reynisson (BR) and Martil Closter Jespersen (MCJ). We decided early in the project to split into two groups because smaller ground allow each group member to contribute more meaningfully. The data, the original Bepipred model and a description of the scientific problem was provided by MCJ. Early in the project, we held meetings with BR & MCJ to get an idea about possible approaches to the project. Other than sharing the data, the Bepipred model and the initial meetings, the two groups have worked completely independently.\n",
    "\n",
    "### Proteins and amino acids\n",
    "Most biochemical reactions in the body are catalyzed by proteins. Proteins also serve as building blocks of tissues such as hair, nails, skin and muscle. For this reason, almost all molecular biological object of study involves interaction of proteins.\n",
    "\n",
    "Proteins are synthesized in the body as a linear polymer of a kind of small polar molecule called amino acids. In natural proteins, 20 different amino acids are used. Hence, the chemical structure of a protein can conveniently be perfectly represented as a linear string of letters from a 20-character alphabet, by convention \"ACDEFGHIKLMNPQRSTVWY\". The linear chain of amino acids is also known as the primary protein structure.\n",
    "\n",
    "Hydrogen bonds in the polypeptide backbone of the amino acid string can introduce secondary structures. The most common secondary structures are $\\alpha$-helices, $\\beta$-sheets and loops. In brief, $\\alpha$-helices are helical coils whereas $\\beta$-sheets are formed by (multiple) polypeptide-chains which lie next to each other bound by hydrogen bonds. Loops are loose flexible turns formed by 2-16 amino acid residues and are of particular interest in this project, as they often contain and expose the epitope to the protein surface.\n",
    "\n",
    "During and immediately after synthesis, this chain of amino acid begins to electrostatically interact with itself and the surrounding water and ions. These forces fold the chain into a well-defined three-dimensional structure that is critical for the function of the protein. Although this process is deterministic for a given amino acid sequence, and relies on nothing other than the physiochemical properties of the protein chain, predicting the folding of an amino acid chain is one of the most fundamental unsolved problems in science.\n",
    "\n",
    "#### Antibodies and epitopes\n",
    "Antibodies are a group of proteins that can specifically recognize and bind to different classes of antigens through epitope regions. Antigens are foreign proteins, polysaccharides or other molecules, often found on bacterial or viral surface structures that can enter our body and induce an immune response. Generally, the human body is capable of detecting antigens through B cells carrying antibodies on their surface which will recognize epitope regions (which are usually 5-8 amino acids in length) on the surface of the antigen. Epitopes can fold into many complex three-dimensional conformations, thereby impairing the efficiency of an antibody to recognize and bind to the antigen. However, if an antibody was able to bind to an epitope it will render the antigen harmless by e.g. blocking its surface, thereby preventing interactions with the antigen's target receptor.\n",
    "\n",
    "### Bepipred\n",
    "Bepipred is a computational tool developed by Martin Closter Jespersen (MCJ) to predict which amino acids of a protein constitute epitopes, taking only the amino acid sequence as input. The input is thus a string of length N of the 20-letter amino acid alphabet. The output is a vector of length N of the prediction score in \\[0, 1), where 0 indicates low probability of the corresponding amino acid being an epitope.\n",
    "\n",
    "Bepipred is a convolutional neural network, that predicts the score of each amino acid based on a sliding window of size 9, i.e. the data of the central amino acid for which the score is predicted, as well as the 4 flanking amino acids on each side. Each sliding window leads to a prediction independent of the other sliding windows in the protein. Bepipred uses the features `rsa`, `seq`, `q3` and `disorder` (described in the dataset section).\n",
    "\n",
    "### Dataset\n",
    "Our dataset is a JSON file containing 190 proteins. The dataset have been curated such that no protein share a close evolutionary relationship with any other from the dataset, nor with any protein that Bepipred has been trained on.\n",
    "\n",
    "A total of 16 features per protein in the dataset is avaiable. We will focus on the attributes that are potentially relevant here:\n",
    "\n",
    "__epitope__:\n",
    "A vector of 1 where the amino acid is an epitope and 0 where it is not. These are the true labels.\n",
    "\n",
    "__preds__:\n",
    "A vector of floats \\[0, 1) with the output of Bepipred\n",
    "\n",
    "__disorder__:\n",
    "A vector of floats \\[0, 1) with the a score signifying the predicted freedom of movement of the given amino acid, where 0 indicates the amino acid is locked into place and 1 indicating the amino acid can move as freely as possible.\n",
    "\n",
    "__q3__:\n",
    "A string of characters from the alphabet \"CHE\", signifying the predicted local \"secondary\" structure classified in either coil (C), helix (H) or sheet (E).\n",
    "\n",
    "__q3_prob__:\n",
    "A vector of vectors, where each inner vector has three elements represents the probability of the local structure being coil, helix or sheet, respectively.\n",
    "\n",
    "__rsa__:\n",
    "The predicted relative exposed surface area of the amino acid. This is constrained in [0, 1], where 0 signifies an amino acid completely buried on the inside of the protein, and 1 signifying the amino acid free-floating in the solution.\n",
    "\n",
    "__seq__:\n",
    "A string of chracters from the alphabet \"ACDEFGHIKLMNPQRSTVWXY\" representing the amino acid sequence of the protein, as well as X for unknown amino acid.\n",
    "\n",
    "### Objectives of this project\n",
    "Proteins are large biomolecules consisting of long chains of amino acid residues which usually fold into highly complex 3-dimensional structures. Proteins perform many critical functions in our human body but its function highly depends on its tertiary structure. Predicting epitope regions of a protein remains a difficult task as the folding of a protein is highly complex. In this project we worked with the output produced by Bepipred, and focused in particular on the prediction of epitopes in proteins.\n",
    "\n",
    "The aim of this project is to enhance Bepipred's epitope prediction using Bayesian statistics. We started out with simple Bayesian models and implemented more sophisticated (multiparameter) models, by e.g. taking into consideration protein lengths or amino acid frequency. Each Bayesian model is cross-validated by computing Pareto smoothed importance sampling leave-one-out, or short PSIS-LOO. Finally we determine and propose the best performing model."
   ]
  },
  {
   "cell_type": "markdown",
   "metadata": {},
   "source": [
    "#### Set the path to the data and import packages"
   ]
  },
  {
   "cell_type": "code",
   "execution_count": 7,
   "metadata": {},
   "outputs": [],
   "source": [
    "# dir\n",
    "PSIS_DIRECTORY = '../../assignments'\n",
    "DATA_PATH = '../../bepipred3.json'\n",
    "\n",
    "# packages\n",
    "import sys\n",
    "sys.path.append(PSIS_DIRECTORY)\n",
    "import json\n",
    "import numpy as np\n",
    "import pystan\n",
    "import matplotlib.pyplot as plt\n",
    "import scipy\n",
    "from math import log\n",
    "from collections import Counter\n",
    "from scipy.special import logit, expit\n",
    "#from psis import psisloo\n",
    "import psis\n",
    "import plot_tools\n",
    "import arviz as az # For visualization and loo\n",
    "az.style.use('seaborn-darkgrid')\n",
    "import stan_utility\n",
    "\n",
    "# load data\n",
    "with open(DATA_PATH) as file:\n",
    "    data = json.load(file)"
   ]
  },
  {
   "cell_type": "markdown",
   "metadata": {},
   "source": [
    "#### Function used for further analysis"
   ]
  },
  {
   "cell_type": "code",
   "execution_count": 8,
   "metadata": {},
   "outputs": [],
   "source": [
    "# Effective number of parameters\n",
    "def p_eff(lppd_loo_cv, log_like):\n",
    "    \"\"\"\n",
    "    lppd_loo_cv: float\n",
    "    log_like: (n x m) log-likelihood of m data points, given n posterior samples.\n",
    "    \"\"\"\n",
    "    lppd = np.sum(np.log(np.mean(np.exp(log_like), axis=0)))\n",
    "    return lppd - lppd_loo_cv\n",
    "\n",
    "def setplot(title, xlabel, ylabel):\n",
    "    plt.title(title, fontsize=20)\n",
    "    plt.tick_params(labelsize=12)\n",
    "    plt.xlabel(xlabel, fontsize=14)\n",
    "    plt.ylabel(ylabel, fontsize=14)"
   ]
  },
  {
   "cell_type": "markdown",
   "metadata": {},
   "source": [
    "#### Data preparation\n",
    "\n",
    "Inspection of the data reveals that one protein contains one amino acid labeled 'X' (any amino acid). Since the sliding windows are predicted independently, we have decided to remove this amino acid instead of discarding the protein."
   ]
  },
  {
   "cell_type": "code",
   "execution_count": 9,
   "metadata": {},
   "outputs": [],
   "source": [
    "# Check that all data has the same amino acids, predictions and labels\n",
    "for protein in data:\n",
    "    assert len(protein['epitope']) == len(protein['preds']) == len(protein['seq'])\n",
    "\n",
    "# Remove 'X' from all proteins they are present in\n",
    "for protein in data:\n",
    "    if 'X' in protein['seq']:\n",
    "        x_positions = [i for i,n in enumerate(protein['seq']) if n == 'X']\n",
    "        for k, v in protein.items():\n",
    "            if not hasattr(v, \"__len__\") or len(v) != len(protein['seq']):\n",
    "                continue\n",
    "            newdata = [x for i,x in enumerate(v) if i not in x_positions]\n",
    "            if isinstance(v, str):\n",
    "                newdata = ''.join(newdata)\n",
    "            protein[k] = newdata"
   ]
  },
  {
   "cell_type": "markdown",
   "metadata": {},
   "source": [
    "### Data exploration"
   ]
  },
  {
   "cell_type": "markdown",
   "metadata": {},
   "source": [
    "To get a first impression of our data, we look at the length of the proteins. The mean protein length is about 255 amino acids, indicated below by the black dotted line."
   ]
  },
  {
   "cell_type": "code",
   "execution_count": 10,
   "metadata": {
    "scrolled": true
   },
   "outputs": [
    {
     "data": {
      "image/png": "[encoded data removed]",
      "text/plain": [
       "<Figure size 504x180 with 1 Axes>"
      ]
     },
     "metadata": {},
     "output_type": "display_data"
    }
   ],
   "source": [
    "plt.figure(figsize=(7, 2.5))\n",
    "plt.hist([len(protein['seq']) for protein in data], bins=np.linspace(0, 1300, 27))\n",
    "plt.vlines(np.mean([len(protein['seq']) for protein in data]), 0, 40, linestyles='dotted')\n",
    "setplot('Protein length', 'Length', 'Counts')\n",
    "plt.show()"
   ]
  },
  {
   "cell_type": "code",
   "execution_count": 11,
   "metadata": {},
   "outputs": [
    {
     "data": {
      "image/png": "[encoded data removed]",
      "text/plain": [
       "<Figure size 504x180 with 1 Axes>"
      ]
     },
     "metadata": {},
     "output_type": "display_data"
    }
   ],
   "source": [
    "plt.figure(figsize=(7, 2.5))\n",
    "plt.hist([sum(protein['epitope']) for protein in data], bins=np.linspace(0, 75, 26))\n",
    "setplot('Number of epitopes', 'Epitopes', 'Counts')\n",
    "plt.show()"
   ]
  },
  {
   "cell_type": "code",
   "execution_count": 12,
   "metadata": {},
   "outputs": [
    {
     "data": {
      "image/png": "[encoded data removed]",
      "text/plain": [
       "<Figure size 504x180 with 1 Axes>"
      ]
     },
     "metadata": {},
     "output_type": "display_data"
    }
   ],
   "source": [
    "plt.figure(figsize=(7, 2.5))\n",
    "plt.plot([len(i['epitope']) for i in data], [sum(i['epitope'])/len(i['epitope']) for i in data], 'o', alpha = 0.2)\n",
    "setplot('Epitope frequency vs length', 'Length', 'Epitope frequency')\n",
    "plt.show()"
   ]
  },
  {
   "cell_type": "code",
   "execution_count": 13,
   "metadata": {},
   "outputs": [
    {
     "data": {
      "image/png": "[encoded data removed]",
      "text/plain": [
       "<Figure size 504x180 with 1 Axes>"
      ]
     },
     "metadata": {},
     "output_type": "display_data"
    }
   ],
   "source": [
    "counts = Counter()\n",
    "epitopes = Counter()\n",
    "for protein in data:\n",
    "    for aa, isepitope in zip(protein['seq'], protein['epitope']):\n",
    "        counts[aa] += 1\n",
    "        if isepitope:\n",
    "            epitopes[aa] += 1\n",
    "freq = {aa: epitopes[aa]/counts[aa] for aa in counts if aa != 'X'}\n",
    "\n",
    "# plot\n",
    "plt.figure(figsize=(7, 2.5))\n",
    "ind = {aa:i for i, aa in enumerate(sorted(freq))}\n",
    "aasets = [('GSTYNQ', 'y'),\n",
    "         ('ACFILMVWP', 'k'),\n",
    "         ('DE', 'r'),\n",
    "         ('RHK', 'b')]\n",
    "for aaset, color in aasets:\n",
    "    for aa in aaset:\n",
    "        plt.bar(ind[aa], freq[aa], color=color)\n",
    "plt.xticks(range(len(freq)), sorted(freq))\n",
    "setplot('Epitope frequency of AA', 'Amino acid', 'Epitope frequency')\n",
    "plt.show()"
   ]
  },
  {
   "cell_type": "markdown",
   "metadata": {},
   "source": [
    "### <span style=\"color:red\">Can't find the ASA of epitopes box plot and ROC curves + Enrichment</span>"
   ]
  },
  {
   "cell_type": "markdown",
   "metadata": {},
   "source": [
    "## Analysis\n",
    "\n",
    "#### Null model\n",
    "\n",
    "For a baseline, we simply predict a constant probability of each amino acid being an epitope. Hopefully, all models should perform better than this.\n",
    "\n",
    "$epitopes \\sim uniform(\\alpha)$"
   ]
  },
  {
   "cell_type": "code",
   "execution_count": 14,
   "metadata": {},
   "outputs": [
    {
     "name": "stdout",
     "output_type": "stream",
     "text": [
      "PSIS-LOO: -13544.84\n"
     ]
    }
   ],
   "source": [
    "# PSIS-LOO code + plot for this model\n",
    "\n",
    "# Add in features\n",
    "n_aa = sum(len(protein['seq']) for protein in data)\n",
    "\n",
    "aa_set = set()\n",
    "for protein in data:\n",
    "    aa_set.update(set(protein['seq']))\n",
    "aa_index = {aa:i+1 for i,aa in enumerate(aa_set)} # Stan is 1-indexed\n",
    "\n",
    "epitopes = np.empty(n_aa, dtype=np.int32)\n",
    "scores = np.empty(n_aa, dtype=np.float32)\n",
    "aa = np.empty(n_aa, dtype=np.int32)\n",
    "inv_score_sum = np.empty(n_aa, dtype=np.float32)\n",
    "inv_length = np.empty(n_aa, dtype=np.float32)\n",
    "\n",
    "i = 0\n",
    "for protein in data:\n",
    "    length = len(protein['seq'])\n",
    "    sum_scores = sum(protein['preds'])\n",
    "    \n",
    "    epitopes[i:i+length] = protein['epitope']\n",
    "    scores[i:i+length] = protein['preds']\n",
    "    aa[i:i+length] = [aa_index[i] for i in protein['seq']]\n",
    "    inv_score_sum[i:i+length] = 1/sum_scores\n",
    "    inv_length[i:i+length] = 1/length\n",
    "    \n",
    "    i += length\n",
    "    \n",
    "standata = {'n_aa': n_aa,\n",
    "            'n_classes': len(aa_index),\n",
    "            'epitopes': epitopes,\n",
    "            'scores': scores,\n",
    "            'aa': aa,\n",
    "            'inv_score_sum': inv_score_sum,\n",
    "            'inv_length': inv_length}\n",
    "\n",
    "n_epitopes = sum(standata['epitopes'])\n",
    "logps = np.array([log(1 - n_epitopes / standata['n_aa']), log(n_epitopes / standata['n_aa'])])\n",
    "model_null_loglik = logps[standata['epitopes']].sum()\n",
    "print(\"PSIS-LOO: {:.2f}\".format(model_null_loglik))"
   ]
  },
  {
   "cell_type": "markdown",
   "metadata": {},
   "source": [
    "#### Model 0: Bepipred model\n",
    "\n",
    "As the purpose of our project is to enhance Bepipred's prediction, the second baseline to establish is a model which simply interpretates Bepipreds output scores as probabilities. Building a model to beat the performance of this baseline is the true goal of the project.\n",
    "\n",
    "$epitopes \\sim uniform(predictions)$"
   ]
  },
  {
   "cell_type": "code",
   "execution_count": 15,
   "metadata": {},
   "outputs": [
    {
     "name": "stdout",
     "output_type": "stream",
     "text": [
      "PSIS-LOO: -12883.65\n"
     ]
    }
   ],
   "source": [
    "model_0_loglik = np.empty((1, len(standata['scores'])), dtype=np.float32)\n",
    "mask = standata['epitopes'] == 1\n",
    "model_0_loglik[0, mask] = np.log(standata['scores'][mask])\n",
    "model_0_loglik[0, ~mask] = np.log(1 - standata['scores'][~mask])\n",
    "\n",
    "# No sampling, so we use the loglikelihood\n",
    "print(\"PSIS-LOO: {:.2f}\".format(model_0_loglik.sum()))"
   ]
  },
  {
   "cell_type": "markdown",
   "metadata": {},
   "source": [
    "#### Model 1: Logistic model\n",
    "\n",
    "Bepipred is a deep neural network, and is therefore fitted to minimize some loss function which is not necessarily related to the log likelihood. The next step towards a probabilistic model is a simple logistic regression that uses only Bepipreds output to calculate a probability of an amino acid being an epitope.\n",
    "\n",
    "$epitopes \\sim BernoulliLogit(\\alpha + \\beta \\times predictions)$"
   ]
  },
  {
   "cell_type": "markdown",
   "metadata": {},
   "source": [
    "Our implemented Stan model looks like the following:"
   ]
  },
  {
   "cell_type": "code",
   "execution_count": null,
   "metadata": {},
   "outputs": [],
   "source": [
    "# %load \"models/pooled.stan\"\n",
    "data {\n",
    "    int<lower=0> n_aa;\n",
    "    int<lower=0,upper=1> epitopes[n_aa]; // binarize to 0 or 1\n",
    "    vector[n_aa] scores; // output of bepipred\n",
    "}\n",
    "parameters {\n",
    "    real alpha;\n",
    "    real beta;\n",
    "}\n",
    "model {\n",
    "    epitopes ~ bernoulli_logit(alpha + beta * scores);\n",
    "}"
   ]
  },
  {
   "cell_type": "code",
   "execution_count": 16,
   "metadata": {},
   "outputs": [
    {
     "name": "stderr",
     "output_type": "stream",
     "text": [
      "INFO:pystan:COMPILING THE C++ CODE FOR MODEL Model_1_16473ccc58d6ccdd3f35e7f8c8a0e157 NOW.\n",
      "/Users/dpohl/anaconda3/envs/PyStan/lib/python3.6/site-packages/Cython/Compiler/Main.py:367: FutureWarning: Cython directive 'language_level' not set, using 2 for now (Py2). This will change in a later release! File: /var/folders/zq/wfnwl84j08q68c6t__f3vs200000gn/T/tmphy4kpg52/stanfit4Model_1_16473ccc58d6ccdd3f35e7f8c8a0e157_4148052435876673287.pyx\n",
      "  tree = Parsing.p_module(s, pxd, full_module_name)\n"
     ]
    },
    {
     "name": "stdout",
     "output_type": "stream",
     "text": [
      "Inference for Stan model: Model_1_16473ccc58d6ccdd3f35e7f8c8a0e157.\n",
      "4 chains, each with iter=2000; warmup=1000; thin=1; \n",
      "post-warmup draws per chain=1000, total post-warmup draws=4000.\n",
      "\n",
      "        mean se_mean     sd   2.5%    25%    50%    75%  97.5%  n_eff   Rhat\n",
      "alpha  -3.58  1.4e-3   0.04  -3.66   -3.6  -3.58  -3.55   -3.5    883    1.0\n",
      "beta   12.62    0.01   0.38   11.9  12.36  12.62  12.89  13.35    836    1.0\n",
      "lp__  -1.3e4    0.03   1.01 -1.3e4 -1.3e4 -1.3e4 -1.3e4 -1.3e4   1045    1.0\n",
      "\n",
      "Samples were drawn using NUTS at Thu May 16 15:03:25 2019.\n",
      "For each parameter, n_eff is a crude measure of effective sample size,\n",
      "and Rhat is the potential scale reduction factor on split chains (at \n",
      "convergence, Rhat=1).\n"
     ]
    }
   ],
   "source": [
    "# open model\n",
    "with open('models/pooled.stan') as f:\n",
    "    model_1_code = f.read()\n",
    "\n",
    "model_1 = pystan.StanModel(model_code=model_1_code, model_name='Model_1')\n",
    "fit_model_1 = model_1.sampling(data=standata)\n",
    "print(fit_model_1)"
   ]
  },
  {
   "cell_type": "code",
   "execution_count": 17,
   "metadata": {},
   "outputs": [
    {
     "name": "stdout",
     "output_type": "stream",
     "text": [
      "PSIS-LOO: -12992.12\n"
     ]
    }
   ],
   "source": [
    "extract_1 = fit_model_1.extract()\n",
    "# Calculate PSIS LOO\n",
    "n_obs = len(extract_1['alpha'])\n",
    "model_1_loglik = np.empty((n_obs, standata['n_aa']), dtype=np.float32)\n",
    "mask = standata['epitopes'] == 1\n",
    "for i in range(n_obs):\n",
    "    alpha = extract_1['alpha'][i]\n",
    "    beta = extract_1['beta'][i]\n",
    "    ps = expit(alpha + beta * standata['scores'])\n",
    "    ps[~mask] = 1-ps[~mask]\n",
    "    model_1_loglik[i] = np.log(ps)\n",
    "model_1_loo, model_1_loos, model_1_ks = psis.psisloo(model_1_loglik)\n",
    "print(\"PSIS-LOO: {:.2f}\".format(model_1_loo))"
   ]
  },
  {
   "cell_type": "code",
   "execution_count": null,
   "metadata": {},
   "outputs": [],
   "source": [
    "# Posterior sampling plot"
   ]
  },
  {
   "cell_type": "code",
   "execution_count": null,
   "metadata": {},
   "outputs": [],
   "source": [
    "# PSIS-LOO code + plot for this model"
   ]
  },
  {
   "cell_type": "markdown",
   "metadata": {},
   "source": [
    "According to the PSIS-LOO value, this model performed worse than the Bepipred model (model 0). It might suggest that logistic models are not suitable for this problem."
   ]
  },
  {
   "cell_type": "markdown",
   "metadata": {},
   "source": [
    "#### Model 2: Separate model\n",
    "\n",
    "The separate model does not include any pooling and will generate an estimate for each amino acid. This model will treat the amino acids independently from each other, means each amino acid estimate is unbiased and only based on its own <span style=\"color:red\">(prediction score)</span>. This model has two parameters ($\\alpha$ and $\\beta$) for each amino acid estimate.\n",
    "\n",
    "$epitopes \\sim expit(\\alpha_{aa} + \\beta_{aa} \\times pred)$"
   ]
  },
  {
   "cell_type": "code",
   "execution_count": null,
   "metadata": {},
   "outputs": [],
   "source": [
    "# %load \"models/separate.stan\"\n",
    "data {\n",
    "    int<lower=0> n_classes;                    // Number of unique amino acids in the sequence\n",
    "    int<lower=0> n_aa;                         // Total number of amino acids\n",
    "    int aa[n_aa];                              // ?\n",
    "    int<lower=0,upper=1> epitopes[n_aa];       // Binarize to 0 or 1\n",
    "    vector[n_aa] scores;                       // Output of bepipred\n",
    "}\n",
    "\n",
    "parameters {\n",
    "    vector[n_classes] alpha;\n",
    "    vector[n_classes] beta;\n",
    "}\n",
    "\n",
    "model {\n",
    "    epitopes ~ bernoulli_logit(alpha[aa] + beta[aa] .* scores);\n",
    "}"
   ]
  },
  {
   "cell_type": "code",
   "execution_count": 18,
   "metadata": {},
   "outputs": [
    {
     "name": "stderr",
     "output_type": "stream",
     "text": [
      "INFO:pystan:COMPILING THE C++ CODE FOR MODEL anon_model_083d69cdabb3d73c3eacf2102b1b65d3 NOW.\n",
      "/Users/dpohl/anaconda3/envs/PyStan/lib/python3.6/site-packages/Cython/Compiler/Main.py:367: FutureWarning: Cython directive 'language_level' not set, using 2 for now (Py2). This will change in a later release! File: /var/folders/zq/wfnwl84j08q68c6t__f3vs200000gn/T/tmpfalz2rw1/stanfit4anon_model_083d69cdabb3d73c3eacf2102b1b65d3_3750380649169795801.pyx\n",
      "  tree = Parsing.p_module(s, pxd, full_module_name)\n"
     ]
    },
    {
     "name": "stdout",
     "output_type": "stream",
     "text": [
      "Inference for Stan model: anon_model_083d69cdabb3d73c3eacf2102b1b65d3.\n",
      "4 chains, each with iter=2000; warmup=1000; thin=1; \n",
      "post-warmup draws per chain=1000, total post-warmup draws=4000.\n",
      "\n",
      "            mean se_mean     sd   2.5%    25%    50%    75%  97.5%  n_eff   Rhat\n",
      "alpha[1]   -3.85  2.1e-3   0.18  -4.21  -3.97  -3.85  -3.73   -3.5   7198    1.0\n",
      "alpha[2]   -3.39  2.1e-3   0.21   -3.8  -3.52  -3.38  -3.25  -2.98   9466    1.0\n",
      "alpha[3]   -3.42  2.5e-3   0.21  -3.84  -3.57  -3.42  -3.28  -3.02   6827    1.0\n",
      "alpha[4]   -3.41  2.6e-3   0.21  -3.83  -3.55  -3.41  -3.26   -3.0   6731    1.0\n",
      "alpha[5]   -3.29  1.8e-3   0.15   -3.6  -3.38  -3.29  -3.18  -2.99   7151    1.0\n",
      "alpha[6]   -3.95  2.0e-3   0.17  -4.27  -4.06  -3.95  -3.83  -3.62   6929    1.0\n",
      "alpha[7]   -3.88  3.5e-3    0.3  -4.49  -4.09  -3.88  -3.67  -3.31   7154    1.0\n",
      "alpha[8]    -3.9  2.0e-3   0.17  -4.25  -4.01   -3.9  -3.79  -3.57   7265    1.0\n",
      "alpha[9]   -4.17  1.9e-3   0.16  -4.49  -4.27  -4.17  -4.06  -3.87   7155    1.0\n",
      "alpha[10]  -3.41  2.7e-3   0.22  -3.85  -3.56   -3.4  -3.27  -2.99   6398    1.0\n",
      "alpha[11]  -3.66  2.2e-3   0.18  -4.05  -3.79  -3.66  -3.54  -3.32   6566    1.0\n",
      "alpha[12]   -3.6  3.9e-3   0.31  -4.23   -3.8  -3.59  -3.39  -3.01   6407    1.0\n",
      "alpha[13]  -2.96  2.1e-3   0.18  -3.31  -3.08  -2.96  -2.84  -2.62   7085    1.0\n",
      "alpha[14]  -4.29  4.7e-3    0.4  -5.09  -4.55  -4.28  -4.01  -3.52   7251    1.0\n",
      "alpha[15]  -3.52  2.7e-3   0.24  -3.99  -3.68  -3.52  -3.37  -3.06   7782    1.0\n",
      "alpha[16]  -3.16  2.4e-3   0.21  -3.58   -3.3  -3.16  -3.02  -2.75   7665    1.0\n",
      "alpha[17]  -3.76  2.4e-3    0.2  -4.16   -3.9  -3.76  -3.63  -3.38   6558    1.0\n",
      "alpha[18]  -3.02  2.4e-3    0.2  -3.41  -3.16  -3.02  -2.89  -2.63   7088    1.0\n",
      "alpha[19]  -3.81  1.9e-3   0.17  -4.15  -3.92  -3.81  -3.69  -3.48   7793    1.0\n",
      "alpha[20]   -3.3  2.7e-3   0.22  -3.74  -3.45   -3.3  -3.14  -2.88   6872    1.0\n",
      "beta[1]    17.58    0.03   2.08  13.48   16.2  17.63  18.99  21.61   6807    1.0\n",
      "beta[2]    10.78    0.02   1.72   7.36   9.62  10.78   11.9  14.15   8993    1.0\n",
      "beta[3]     11.2    0.02   1.88   7.55   9.94  11.18  12.45  14.89   7075    1.0\n",
      "beta[4]     10.5    0.02   1.77   7.04   9.25  10.49  11.73  13.96   6652    1.0\n",
      "beta[5]     10.7    0.02    1.6   7.54   9.64  10.69  11.73  13.87   7382    1.0\n",
      "beta[6]    16.68    0.02   1.72  13.38   15.5  16.66  17.82  20.01   6938    1.0\n",
      "beta[7]    16.19    0.04   3.22  10.05   14.0  16.24  18.41  22.34   8094    1.0\n",
      "beta[8]    14.56    0.02   1.99  10.74  13.23  14.56   15.9  18.49   6724    1.0\n",
      "beta[9]    17.95    0.02   1.69  14.64  16.83  17.96  19.08  21.26   7333    1.0\n",
      "beta[10]   11.94    0.03   1.97   7.97  10.62  11.93  13.28  15.87   6038    1.0\n",
      "beta[11]   13.09    0.02   1.72   9.64  11.94  13.11  14.24  16.49   6183    1.0\n",
      "beta[12]   14.99    0.03   2.82   9.37  13.08  14.96  16.85  20.39   6538    1.0\n",
      "beta[13]    7.37    0.02   1.43   4.61   6.39   7.35   8.36  10.13   7193    1.0\n",
      "beta[14]   18.87    0.07   5.89   7.12   14.9  18.97  22.83  30.14   7934    1.0\n",
      "beta[15]    13.3    0.02   2.23   8.91  11.77  13.34   14.8  17.48   8019    1.0\n",
      "beta[16]    9.89    0.02   1.75   6.49   8.71   9.87  11.07  13.28   7968    1.0\n",
      "beta[17]   15.82    0.03   2.02  11.89  14.45  15.82  17.16  19.83   6205    1.0\n",
      "beta[18]    9.33    0.02   1.61   6.14   8.25   9.32  10.43  12.46   7338    1.0\n",
      "beta[19]    15.1    0.02   1.92  11.38  13.83  15.11   16.4  18.88   7870    1.0\n",
      "beta[20]    9.42    0.02   1.62   6.31   8.29   9.43  10.54  12.57   6947    1.0\n",
      "lp__      -1.3e4    0.12   4.49 -1.3e4 -1.3e4 -1.3e4 -1.3e4 -1.3e4   1391    1.0\n",
      "\n",
      "Samples were drawn using NUTS at Thu May 16 15:18:07 2019.\n",
      "For each parameter, n_eff is a crude measure of effective sample size,\n",
      "and Rhat is the potential scale reduction factor on split chains (at \n",
      "convergence, Rhat=1).\n"
     ]
    }
   ],
   "source": [
    "# load model\n",
    "with open(\"models/separate.stan\") as file:\n",
    "    model_2_code = file.read()     \n",
    "\n",
    "# prepare data\n",
    "total_aminoacids = 0\n",
    "for i, protein in enumerate(data):\n",
    "    if not len(protein['epitope']) == len(protein['preds']):\n",
    "        continue\n",
    "    total_aminoacids += len(protein['epitope'])\n",
    "    \n",
    "epitopes = np.empty(total_aminoacids, dtype=np.int)\n",
    "scores = np.empty(total_aminoacids, dtype=np.float)\n",
    "aas = np.empty(total_aminoacids, dtype=np.int)\n",
    "\n",
    "var_set = set()\n",
    "for i in data:\n",
    "    var_set = var_set.union(i[\"seq\"])\n",
    "mydict = {j:i+1 for i,j in enumerate(var_set)}\n",
    "\n",
    "index = 0\n",
    "for protein in data:\n",
    "    if not len(protein['epitope']) == len(protein['preds']):\n",
    "        continue\n",
    "    length = len(protein['epitope'])\n",
    "    epitopes[index:index+length] = protein['epitope']\n",
    "    scores[index:index+length] = protein['preds']\n",
    "    aas[index:index+length] = [mydict[i] for i in protein[\"seq\"]]\n",
    "    index += length\n",
    "    \n",
    "# run stan model\n",
    "standata_2 = {\n",
    "    'n_classes': len(mydict),\n",
    "    'n_aa': total_aminoacids,\n",
    "    'aa': aas,\n",
    "    'epitopes': epitopes,\n",
    "    'scores': scores\n",
    "}\n",
    "model_2 = pystan.StanModel(model_code=model_2_code)\n",
    "fit_model_2 = model_2.sampling(data=standata_2)\n",
    "print(fit_model_2)"
   ]
  },
  {
   "cell_type": "markdown",
   "metadata": {},
   "source": [
    "All $\\hat{R}$ values equal 1.0 means chains have converged. Effective sample size ($N_{eff}$) is also relatively high, which is a measure of autocorrelation within the chains and can increase the uncertainty in estimates."
   ]
  },
  {
   "cell_type": "code",
   "execution_count": 19,
   "metadata": {},
   "outputs": [
    {
     "name": "stdout",
     "output_type": "stream",
     "text": [
      "PSIS-LOO: -12977.68\n",
      "Number of effective parameters (p-eff): 36.82\n"
     ]
    }
   ],
   "source": [
    "# Calculate PSIS-LOO\n",
    "extract_2 = fit_model_2.extract()\n",
    "n_obs = len(extract_2['alpha'])\n",
    "model_2_loglik = np.empty((n_obs, standata_2['n_aa']), dtype=np.float32)\n",
    "mask = standata_2['epitopes'] == 1\n",
    "for i in range(4000):\n",
    "    a = extract_2['alpha'][i][aas-1]\n",
    "    b = extract_2['beta'][i][aas-1]\n",
    "    ps = expit(a + b*standata_2['scores'])\n",
    "    ps[~mask] = 1-ps[~mask]\n",
    "    model_2_loglik[i] = np.log(ps)\n",
    "    \n",
    "model_2_loo, model_2_loos, model_2_ks = psis.psisloo(model_2_loglik)\n",
    "\n",
    "print(\"PSIS-LOO: {:.2f}\".format(model_2_loo))\n",
    "print(\"Number of effective parameters (p-eff): {:.2f}\".format(p_eff(model_2_loo, model_2_loglik)))"
   ]
  },
  {
   "cell_type": "code",
   "execution_count": null,
   "metadata": {},
   "outputs": [],
   "source": [
    "# PSIS diagnostic plot: Pareto k-values\n",
    "plt.figure(figsize=(8, 2.5))\n",
    "plt.hist(model_2_ks, bins=20, range=[0, 1])\n",
    "plt.vlines(0.7, 0, 8000, linestyles='dotted', label='0.7 threshold')\n",
    "plt.title('PSIS diagnostic')\n",
    "plt.xlabel('k-values')\n",
    "plt.ylabel('Frequency')\n",
    "plt.legend(frameon=True, facecolor='white')\n",
    "plt.show"
   ]
  },
  {
   "cell_type": "markdown",
   "metadata": {},
   "source": [
    "Some thoughts + from documentation\n",
    "- Reliability and approximate convergence can be assessed using the estimates for the shape parameter *k* of the generalized Pareto distribution:\n",
    "- However, the PSIS effective sample size estimate will be over-optimistic when the estimate of 𝑘 is greater than 0.7.\n",
    "- If *k*>0.7 we observe impractical convergence rates and unreliable Monte Carlo error estimates.\n",
    "- (All Pareto k-values are <0.7)"
   ]
  },
  {
   "cell_type": "code",
   "execution_count": 21,
   "metadata": {},
   "outputs": [
    {
     "data": {
      "image/png": "[encoded data removed]",
      "text/plain": [
       "<Figure size 504x180 with 1 Axes>"
      ]
     },
     "metadata": {},
     "output_type": "display_data"
    }
   ],
   "source": [
    "# Posterior sampling\n",
    "plt.figure(figsize=(7, 2.5))\n",
    "plt.scatter(extract_2['alpha'], extract_2['beta'], alpha = 0.05)\n",
    "plt.title('Posterior draws')\n",
    "plt.xlabel(r'$\\alpha$')\n",
    "plt.ylabel(r'$\\beta$')\n",
    "plt.show()"
   ]
  },
  {
   "cell_type": "code",
   "execution_count": 22,
   "metadata": {},
   "outputs": [
    {
     "name": "stdout",
     "output_type": "stream",
     "text": [
      "0 of 4000 iterations saturated the maximum tree depth of 10 (0.0%)\n"
     ]
    }
   ],
   "source": [
    "stan_utility.check_treedepth(fit_model_2)"
   ]
  },
  {
   "cell_type": "code",
   "execution_count": 23,
   "metadata": {},
   "outputs": [],
   "source": [
    "stan_utility.check_energy(fit_model_2)"
   ]
  },
  {
   "cell_type": "code",
   "execution_count": 24,
   "metadata": {},
   "outputs": [
    {
     "name": "stdout",
     "output_type": "stream",
     "text": [
      "0.0 of 4000 iterations ended with a divergence (0.0%)\n"
     ]
    }
   ],
   "source": [
    "stan_utility.check_div(fit_model_2)"
   ]
  },
  {
   "cell_type": "markdown",
   "metadata": {},
   "source": [
    "#### Model 3: Hierarchical model\n",
    "\n",
    "This model is an extension of the previous, where we assume the different $\\alpha$ values are not truly independent, but in fact related by being from the same distribtuion, and thus can inform each other.\n",
    "\n",
    "$\\alpha \\sim \\mathcal{N}(\\mu_{\\alpha}, \\sigma_{\\alpha})$\n",
    "\n",
    "$epitopes \\sim expit(\\alpha_{aa} + \\beta \\times pred)$"
   ]
  },
  {
   "cell_type": "code",
   "execution_count": null,
   "metadata": {},
   "outputs": [],
   "source": [
    "# %load \"models/hierarchical.stan\"\n",
    "data {\n",
    "    int<lower=0> n_classes;\n",
    "    int<lower=0> n_aa;\n",
    "    int aa[n_aa];\n",
    "    int<lower=0,upper=1> epitopes[n_aa]; // binarize to 0 or 1\n",
    "    vector[n_aa] scores;                 // output of bepipred\n",
    "}\n",
    "parameters {\n",
    "    real alpha_mu;\n",
    "    real<lower=0> alpha_sigma;\n",
    "    real beta;\n",
    "    vector[n_classes] alpha;\n",
    "}\n",
    "model {\n",
    "    alpha ~ normal(alpha_mu, alpha_sigma);\n",
    "    epitopes ~ bernoulli_logit(alpha[aa] + beta * scores);\n",
    "}"
   ]
  },
  {
   "cell_type": "code",
   "execution_count": 25,
   "metadata": {},
   "outputs": [
    {
     "name": "stderr",
     "output_type": "stream",
     "text": [
      "INFO:pystan:COMPILING THE C++ CODE FOR MODEL anon_model_9beacc40e8e5857606d3cea102b2c607 NOW.\n",
      "/Users/dpohl/anaconda3/envs/PyStan/lib/python3.6/site-packages/Cython/Compiler/Main.py:367: FutureWarning: Cython directive 'language_level' not set, using 2 for now (Py2). This will change in a later release! File: /var/folders/zq/wfnwl84j08q68c6t__f3vs200000gn/T/tmpsh8xb_od/stanfit4anon_model_9beacc40e8e5857606d3cea102b2c607_4839233679369489854.pyx\n",
      "  tree = Parsing.p_module(s, pxd, full_module_name)\n",
      "WARNING:pystan:4 of 4000 iterations ended with a divergence (0.1%).\n",
      "WARNING:pystan:Try running with adapt_delta larger than 0.8 to remove the divergences.\n"
     ]
    },
    {
     "name": "stdout",
     "output_type": "stream",
     "text": [
      "Inference for Stan model: anon_model_9beacc40e8e5857606d3cea102b2c607.\n",
      "4 chains, each with iter=2000; warmup=1000; thin=1; \n",
      "post-warmup draws per chain=1000, total post-warmup draws=4000.\n",
      "\n",
      "              mean se_mean     sd   2.5%    25%    50%    75%  97.5%  n_eff   Rhat\n",
      "alpha_mu     -3.56  1.8e-3   0.05  -3.66   -3.6  -3.56  -3.53  -3.47    759    1.0\n",
      "alpha_sigma   0.09  9.0e-4   0.03   0.04   0.07   0.09   0.11   0.16   1060    1.0\n",
      "beta         12.54    0.02    0.4  11.75  12.26  12.53  12.81  13.34    694    1.0\n",
      "alpha[1]     -3.51  1.8e-3   0.07  -3.65  -3.56  -3.51  -3.46  -3.37   1538    1.0\n",
      "alpha[2]     -3.57  2.0e-3   0.07  -3.71  -3.62  -3.58  -3.53  -3.43   1192    1.0\n",
      "alpha[3]     -3.56  1.8e-3   0.07   -3.7  -3.61  -3.56  -3.52  -3.43   1447    1.0\n",
      "alpha[4]     -3.61  2.0e-3   0.07  -3.75  -3.66  -3.61  -3.56  -3.47   1282    1.0\n",
      "alpha[5]     -3.49  1.9e-3   0.07  -3.62  -3.53  -3.49  -3.44  -3.35   1211    1.0\n",
      "alpha[6]     -3.58  1.8e-3   0.06   -3.7  -3.62  -3.58  -3.53  -3.45   1327    1.0\n",
      "alpha[7]     -3.57  1.9e-3   0.08  -3.73  -3.62  -3.57  -3.52   -3.4   1918    1.0\n",
      "alpha[8]     -3.66  1.8e-3   0.07  -3.82  -3.71  -3.66  -3.62  -3.52   1605    1.0\n",
      "alpha[9]     -3.66  1.8e-3   0.07   -3.8  -3.71  -3.66  -3.62  -3.53   1361    1.0\n",
      "alpha[10]    -3.52  1.9e-3   0.08  -3.66  -3.57  -3.52  -3.47  -3.36   1591    1.0\n",
      "alpha[11]    -3.59  1.8e-3   0.07  -3.73  -3.63  -3.59  -3.55  -3.46   1357    1.0\n",
      "alpha[12]    -3.48  2.4e-3   0.09  -3.65  -3.54  -3.48  -3.42  -3.29   1494    1.0\n",
      "alpha[13]    -3.57  1.9e-3   0.07  -3.72  -3.62  -3.57  -3.53  -3.44   1222    1.0\n",
      "alpha[14]    -3.66  2.4e-3   0.09  -3.86  -3.72  -3.65  -3.59  -3.49   1491    1.0\n",
      "alpha[15]    -3.51  2.1e-3   0.08  -3.67  -3.57  -3.51  -3.46  -3.34   1600    1.0\n",
      "alpha[16]     -3.5  2.2e-3   0.08  -3.65  -3.56   -3.5  -3.45  -3.36   1194    1.0\n",
      "alpha[17]    -3.52  1.7e-3   0.07  -3.67  -3.57  -3.52  -3.47  -3.38   1789    1.0\n",
      "alpha[18]    -3.46  2.1e-3   0.07  -3.61  -3.51  -3.46  -3.41  -3.31   1264    1.0\n",
      "alpha[19]    -3.59  1.6e-3   0.07  -3.72  -3.64  -3.59  -3.55  -3.45   1796    1.0\n",
      "alpha[20]    -3.66  2.2e-3   0.07   -3.8  -3.71  -3.66  -3.61  -3.52   1050    1.0\n",
      "lp__        -1.3e4    0.17   4.63 -1.3e4 -1.3e4 -1.3e4 -1.3e4 -1.3e4    779    1.0\n",
      "\n",
      "Samples were drawn using NUTS at Thu May 16 15:26:31 2019.\n",
      "For each parameter, n_eff is a crude measure of effective sample size,\n",
      "and Rhat is the potential scale reduction factor on split chains (at \n",
      "convergence, Rhat=1).\n"
     ]
    }
   ],
   "source": [
    "with open('models/hierarchical.stan') as file:\n",
    "    model_3_code = file.read()\n",
    "    \n",
    "model_3 = pystan.StanModel(model_code=model_3_code)\n",
    "fit_model_3 = model_3.sampling(data=standata)\n",
    "print(fit_model_3)"
   ]
  },
  {
   "cell_type": "code",
   "execution_count": 31,
   "metadata": {},
   "outputs": [
    {
     "name": "stdout",
     "output_type": "stream",
     "text": [
      "PSIS-LOO: -12995.50\n",
      "Number of effective parameters (p-eff): 18.07\n"
     ]
    }
   ],
   "source": [
    "# Calculate PSIS-LOO\n",
    "extract_3 = fit_model_3.extract()\n",
    "n_obs = len(extract_3['alpha'])\n",
    "model_3_loglik = np.empty((n_obs, standata['n_aa']), dtype=np.float32)\n",
    "mask = standata['epitopes'] == 1\n",
    "for i in range(4000):\n",
    "    a = extract_3['alpha'][i][aas-1]\n",
    "    b = extract_3['beta'][aas-1]\n",
    "    ps = expit(a + b*standata['scores'])\n",
    "    ps[~mask] = 1-ps[~mask]\n",
    "    model_3_loglik[i] = np.log(ps)\n",
    "    \n",
    "model_3_loo, model_3_loos, model_3_ks = psis.psisloo(model_3_loglik)\n",
    "\n",
    "print(\"PSIS-LOO: {:.2f}\".format(model_3_loo))\n",
    "print(\"Number of effective parameters (p-eff): {:.2f}\".format(p_eff(model_3_loo, model_3_loglik)))"
   ]
  },
  {
   "cell_type": "code",
   "execution_count": 37,
   "metadata": {},
   "outputs": [
    {
     "data": {
      "text/plain": [
       "<function matplotlib.pyplot.show(*args, **kw)>"
      ]
     },
     "execution_count": 37,
     "metadata": {},
     "output_type": "execute_result"
    },
    {
     "data": {
      "image/png": "[encoded data removed]",
      "text/plain": [
       "<Figure size 576x180 with 1 Axes>"
      ]
     },
     "metadata": {},
     "output_type": "display_data"
    }
   ],
   "source": [
    "# PSIS diagnostic plot: Pareto k-values\n",
    "plt.figure(figsize=(8, 2.5))\n",
    "plt.hist(model_3_ks, bins=20, range=[0, 1])\n",
    "plt.vlines(0.7, 0, 4000, linestyles='dotted', label='0.7 threshold')\n",
    "plt.title('PSIS diagnostic')\n",
    "plt.xlabel('k-values')\n",
    "plt.ylabel('Frequency')\n",
    "plt.legend(frameon=True, facecolor='white')\n",
    "plt.show"
   ]
  },
  {
   "cell_type": "code",
   "execution_count": 38,
   "metadata": {},
   "outputs": [
    {
     "name": "stdout",
     "output_type": "stream",
     "text": [
      "0 of 4000 iterations saturated the maximum tree depth of 10 (0.0%)\n"
     ]
    }
   ],
   "source": [
    "stan_utility.check_treedepth(fit_model_3)"
   ]
  },
  {
   "cell_type": "code",
   "execution_count": 39,
   "metadata": {},
   "outputs": [],
   "source": [
    "stan_utility.check_energy(fit_model_3)"
   ]
  },
  {
   "cell_type": "code",
   "execution_count": 40,
   "metadata": {},
   "outputs": [
    {
     "name": "stdout",
     "output_type": "stream",
     "text": [
      "4.0 of 4000 iterations ended with a divergence (0.1%)\n",
      "Try running with larger adapt_delta to remove the divergences\n"
     ]
    }
   ],
   "source": [
    "stan_utility.check_div(fit_model_3)"
   ]
  },
  {
   "cell_type": "markdown",
   "metadata": {},
   "source": [
    "#### Model 4: Hierarchical model + length\n",
    "\n",
    "This model is identical to the previous model, except that a term is added to the logistic regression which takes the length of the protein into account.\n",
    "\n",
    "Studying the data, we can see that the long proteins have fewer epitopes per amino acid than short ones do (see figure below). The signal is remarkable, and because Bepipred predicts on only a small window of amino acids, we believe it is not able to take this into account.\n",
    "\n",
    "$\\alpha \\sim \\mathcal{N}(\\mu_{\\alpha}, \\sigma_{\\alpha})$\n",
    "\n",
    "$epitopes \\sim expit(\\alpha_{aa} + \\beta \\times pred + \\gamma \\times \\frac{1}{length})$"
   ]
  },
  {
   "cell_type": "code",
   "execution_count": null,
   "metadata": {},
   "outputs": [],
   "source": [
    "# %load \"models/length.stan\"\n",
    "data {\n",
    "    int<lower=0> n_classes;\n",
    "    int<lower=0> n_aa;\n",
    "    int aa[n_aa];\n",
    "    int<lower=0,upper=1> epitopes[n_aa]; // binarize to 0 or 1\n",
    "    vector[n_aa] scores; // output of bepipred\n",
    "    vector[n_aa] inv_length; // length of protein of aa\n",
    "    \n",
    "}\n",
    "parameters {\n",
    "    real alpha_mu;\n",
    "    real<lower=0> alpha_sigma;\n",
    "    real beta;\n",
    "    vector[n_classes] alpha;\n",
    "    real gamma;\n",
    "    \n",
    "}\n",
    "model {\n",
    "    alpha ~ normal(alpha_mu, alpha_sigma);\n",
    "    epitopes ~ bernoulli_logit(alpha[aa] + beta * scores + gamma * inv_length);\n",
    "}"
   ]
  },
  {
   "cell_type": "code",
   "execution_count": 42,
   "metadata": {},
   "outputs": [],
   "source": [
    "with open(\"models/length.stan\") as file:\n",
    "    model_4_code = file.read()"
   ]
  },
  {
   "cell_type": "code",
   "execution_count": 43,
   "metadata": {},
   "outputs": [
    {
     "name": "stderr",
     "output_type": "stream",
     "text": [
      "INFO:pystan:COMPILING THE C++ CODE FOR MODEL anon_model_e6d7604dde986c5d3c860dc5a5f6467a NOW.\n",
      "/Users/dpohl/anaconda3/envs/PyStan/lib/python3.6/site-packages/Cython/Compiler/Main.py:367: FutureWarning: Cython directive 'language_level' not set, using 2 for now (Py2). This will change in a later release! File: /var/folders/zq/wfnwl84j08q68c6t__f3vs200000gn/T/tmpppnusl9m/stanfit4anon_model_e6d7604dde986c5d3c860dc5a5f6467a_5121856071221576745.pyx\n",
      "  tree = Parsing.p_module(s, pxd, full_module_name)\n"
     ]
    },
    {
     "name": "stdout",
     "output_type": "stream",
     "text": [
      "Inference for Stan model: anon_model_e6d7604dde986c5d3c860dc5a5f6467a.\n",
      "4 chains, each with iter=2000; warmup=1000; thin=1; \n",
      "post-warmup draws per chain=1000, total post-warmup draws=4000.\n",
      "\n",
      "              mean se_mean     sd   2.5%    25%    50%    75%  97.5%  n_eff   Rhat\n",
      "alpha_mu     -4.11  2.0e-3   0.06  -4.22  -4.15  -4.11  -4.07   -4.0    865    1.0\n",
      "alpha_sigma   0.14  7.7e-4   0.04   0.08   0.11   0.13   0.16   0.22   2180    1.0\n",
      "beta          9.72    0.01   0.44   8.87   9.43   9.73  10.02  10.58   1141    1.0\n",
      "alpha[1]     -4.08  1.9e-3   0.08  -4.24  -4.13  -4.08  -4.03  -3.93   1732    1.0\n",
      "alpha[2]      -4.1  2.1e-3   0.08  -4.25  -4.15   -4.1  -4.04  -3.94   1375    1.0\n",
      "alpha[3]     -4.06  2.1e-3   0.08  -4.22  -4.12  -4.06  -4.01  -3.91   1450    1.0\n",
      "alpha[4]      -4.1  2.1e-3   0.08  -4.26  -4.15   -4.1  -4.05  -3.93   1465    1.0\n",
      "alpha[5]     -4.02  1.9e-3   0.07  -4.16  -4.07  -4.02  -3.97  -3.88   1500    1.0\n",
      "alpha[6]     -4.14  1.8e-3   0.08  -4.29  -4.19  -4.14  -4.09  -3.99   1743    1.0\n",
      "alpha[7]     -4.16  2.1e-3   0.11  -4.37  -4.23  -4.16  -4.09  -3.96   2495    1.0\n",
      "alpha[8]     -4.31  1.9e-3   0.08  -4.47  -4.36  -4.31  -4.25  -4.15   1929    1.0\n",
      "alpha[9]     -4.26  1.7e-3   0.07  -4.41  -4.31  -4.26  -4.21  -4.12   1851    1.0\n",
      "alpha[10]    -4.01  2.2e-3   0.09  -4.18  -4.07  -4.01  -3.96  -3.84   1570    1.0\n",
      "alpha[11]    -4.16  2.0e-3   0.08  -4.32  -4.22  -4.16  -4.11   -4.0   1593    1.0\n",
      "alpha[12]    -3.97  2.5e-3   0.11  -4.18  -4.04  -3.97  -3.89  -3.75   1964    1.0\n",
      "alpha[13]    -4.09  2.2e-3   0.08  -4.24  -4.14  -4.09  -4.04  -3.94   1263    1.0\n",
      "alpha[14]    -4.32  2.3e-3   0.12  -4.57  -4.39  -4.31  -4.24   -4.1   2627    1.0\n",
      "alpha[15]    -4.06  2.2e-3    0.1  -4.25  -4.12  -4.06  -3.99  -3.87   1924    1.0\n",
      "alpha[16]    -4.01  2.3e-3   0.09  -4.18  -4.07  -4.01  -3.96  -3.85   1398    1.0\n",
      "alpha[17]    -4.06  2.0e-3   0.09  -4.22  -4.12  -4.06   -4.0  -3.89   1892    1.0\n",
      "alpha[18]    -3.91  2.3e-3   0.08  -4.07  -3.97  -3.91  -3.85  -3.75   1281    1.0\n",
      "alpha[19]    -4.19  1.7e-3   0.08  -4.35  -4.24  -4.19  -4.14  -4.04   2015    1.0\n",
      "alpha[20]    -4.18  2.3e-3   0.08  -4.34  -4.24  -4.18  -4.13  -4.02   1292    1.0\n",
      "gamma       178.39    0.13   6.12 166.42 174.23 178.47 182.53 190.42   2192    1.0\n",
      "lp__        -1.3e4     0.1   3.82 -1.3e4 -1.3e4 -1.3e4 -1.3e4 -1.3e4   1362    1.0\n",
      "\n",
      "Samples were drawn using NUTS at Thu May 16 16:31:58 2019.\n",
      "For each parameter, n_eff is a crude measure of effective sample size,\n",
      "and Rhat is the potential scale reduction factor on split chains (at \n",
      "convergence, Rhat=1).\n"
     ]
    }
   ],
   "source": [
    "model_4 = pystan.StanModel(model_code=model_4_code)\n",
    "fit_model_4 = model_4.sampling(data=standata, control=dict(adapt_delta=0.9))\n",
    "print(fit_model_4)"
   ]
  },
  {
   "cell_type": "code",
   "execution_count": 44,
   "metadata": {},
   "outputs": [
    {
     "name": "stdout",
     "output_type": "stream",
     "text": [
      "PSIS-LOO: -12578.33\n",
      "Number of effective parameters (p-eff): 17.06\n"
     ]
    }
   ],
   "source": [
    "# Calculate PSIS LOO\n",
    "extract_4 = fit_model_4.extract()\n",
    "n_obs = len(extract_4['gamma'])\n",
    "model_4_loglik = np.empty((n_obs, standata['n_aa']), dtype=np.float32)\n",
    "mask = standata['epitopes'] == 1\n",
    "for i in range(n_obs):\n",
    "    beta = extract_4['beta'][i]\n",
    "    alpha = extract_4['alpha'][i][standata['aa'] - 1]\n",
    "    gamma = extract_4['gamma'][i]\n",
    "    ps = expit(alpha + beta*standata['scores'] + gamma*standata['inv_length'])\n",
    "    ps[~mask] = 1-ps[~mask]\n",
    "    model_4_loglik[i] = np.log(ps)\n",
    "\n",
    "model_4_loo, model_4_loos, model_4_ks = psis.psisloo(model_4_loglik)\n",
    "\n",
    "print(\"PSIS-LOO: {:.2f}\".format(model_4_loo))\n",
    "print(\"Number of effective parameters (p-eff): {:.2f}\".format(p_eff(model_4_loo, model_4_loglik)))"
   ]
  },
  {
   "cell_type": "markdown",
   "metadata": {},
   "source": [
    "#### Model 5: Hierarchical model + sum of scores\n",
    "\n",
    "$\\alpha \\sim \\mathcal{N}(\\mu_{\\alpha}, \\sigma_{\\alpha})$\n",
    "\n",
    "$epitopes \\sim expit(\\alpha_{aa} + \\beta \\times pred + \\gamma \\times \\frac{1}{\\sum{pred}})$"
   ]
  },
  {
   "cell_type": "code",
   "execution_count": null,
   "metadata": {},
   "outputs": [],
   "source": [
    "# %load \"models/scores.stan\"\n",
    "data {\n",
    "    int<lower=0> n_classes;\n",
    "    int<lower=0> n_aa;\n",
    "    int aa[n_aa];\n",
    "    int<lower=0,upper=1> epitopes[n_aa]; // binarize to 0 or 1\n",
    "    vector[n_aa] scores; // output of bepipred\n",
    "    vector[n_aa] inv_score_sum; // Inverse of sum of scores in protein\n",
    "    \n",
    "}\n",
    "parameters {\n",
    "    real alpha_mu;\n",
    "    real<lower=0> alpha_sigma;\n",
    "    real beta;\n",
    "    vector[n_classes] alpha;\n",
    "    real gamma;\n",
    "    \n",
    "}\n",
    "model {\n",
    "    alpha ~ normal(alpha_mu, alpha_sigma);\n",
    "    epitopes ~ bernoulli_logit(alpha[aa] + beta * scores + gamma * inv_score_sum);\n",
    "}"
   ]
  },
  {
   "cell_type": "code",
   "execution_count": 47,
   "metadata": {},
   "outputs": [],
   "source": [
    "with open(\"models/scores.stan\") as file:\n",
    "    model_5_code = file.read()"
   ]
  },
  {
   "cell_type": "code",
   "execution_count": 48,
   "metadata": {},
   "outputs": [
    {
     "name": "stderr",
     "output_type": "stream",
     "text": [
      "INFO:pystan:COMPILING THE C++ CODE FOR MODEL anon_model_490012f8c1fdc2841978a4954bfdc2cc NOW.\n",
      "/Users/dpohl/anaconda3/envs/PyStan/lib/python3.6/site-packages/Cython/Compiler/Main.py:367: FutureWarning: Cython directive 'language_level' not set, using 2 for now (Py2). This will change in a later release! File: /var/folders/zq/wfnwl84j08q68c6t__f3vs200000gn/T/tmpl95ixnmy/stanfit4anon_model_490012f8c1fdc2841978a4954bfdc2cc_1546949111836329005.pyx\n",
      "  tree = Parsing.p_module(s, pxd, full_module_name)\n"
     ]
    },
    {
     "name": "stdout",
     "output_type": "stream",
     "text": [
      "Inference for Stan model: anon_model_490012f8c1fdc2841978a4954bfdc2cc.\n",
      "4 chains, each with iter=2000; warmup=1000; thin=1; \n",
      "post-warmup draws per chain=1000, total post-warmup draws=4000.\n",
      "\n",
      "              mean se_mean     sd   2.5%    25%    50%    75%  97.5%  n_eff   Rhat\n",
      "alpha_mu     -4.46  2.5e-3   0.06  -4.58   -4.5  -4.46  -4.41  -4.34    628    1.0\n",
      "alpha_sigma   0.13  9.0e-4   0.03   0.07    0.1   0.12   0.15    0.2   1443    1.0\n",
      "beta         10.55    0.01   0.43   9.74  10.25  10.55  10.84  11.39   1005    1.0\n",
      "alpha[1]     -4.42  2.3e-3   0.08  -4.58  -4.47  -4.42  -4.36  -4.25   1283    1.0\n",
      "alpha[2]     -4.45  2.6e-3   0.08  -4.61  -4.51  -4.45   -4.4  -4.29    947    1.0\n",
      "alpha[3]     -4.42  2.7e-3   0.08  -4.58  -4.47  -4.42  -4.36  -4.25    945    1.0\n",
      "alpha[4]     -4.45  2.6e-3   0.08  -4.61  -4.51  -4.45   -4.4  -4.29    991    1.0\n",
      "alpha[5]     -4.36  2.4e-3   0.08  -4.51  -4.41  -4.37  -4.31  -4.22   1028    1.0\n",
      "alpha[6]     -4.48  2.3e-3   0.08  -4.63  -4.53  -4.48  -4.43  -4.33   1121    1.0\n",
      "alpha[7]      -4.5  2.6e-3    0.1  -4.72  -4.57   -4.5  -4.43   -4.3   1642    1.0\n",
      "alpha[8]     -4.63  2.3e-3   0.08   -4.8  -4.68  -4.63  -4.57  -4.47   1265    1.0\n",
      "alpha[9]      -4.6  2.4e-3   0.08  -4.76  -4.66   -4.6  -4.55  -4.45   1079    1.0\n",
      "alpha[10]    -4.36  2.7e-3   0.09  -4.53  -4.42  -4.36   -4.3  -4.19   1110    1.0\n",
      "alpha[11]     -4.5  2.5e-3   0.08  -4.66  -4.56   -4.5  -4.45  -4.34   1031    1.0\n",
      "alpha[12]    -4.32  3.0e-3   0.11  -4.53   -4.4  -4.33  -4.25  -4.11   1237    1.0\n",
      "alpha[13]    -4.45  2.7e-3   0.08  -4.61   -4.5  -4.44  -4.39   -4.3    892    1.0\n",
      "alpha[14]    -4.63  2.8e-3   0.12  -4.88  -4.71  -4.63  -4.55  -4.41   1815    1.0\n",
      "alpha[15]    -4.41  2.8e-3    0.1  -4.61  -4.48  -4.41  -4.35  -4.22   1264    1.0\n",
      "alpha[16]    -4.38  2.7e-3   0.09  -4.55  -4.44  -4.38  -4.32   -4.2   1022    1.0\n",
      "alpha[17]     -4.4  2.4e-3   0.09  -4.58  -4.46   -4.4  -4.34  -4.24   1308    1.0\n",
      "alpha[18]    -4.29  2.8e-3   0.08  -4.46  -4.34  -4.28  -4.23  -4.12    905    1.0\n",
      "alpha[19]    -4.53  2.3e-3   0.08  -4.69  -4.59  -4.53  -4.48  -4.37   1193    1.0\n",
      "alpha[20]    -4.54  2.8e-3   0.08  -4.71   -4.6  -4.54  -4.48  -4.37    922    1.0\n",
      "gamma        20.48    0.02   0.67  19.19  20.03  20.47  20.94  21.79   1213    1.0\n",
      "lp__        -1.3e4     0.1    3.9 -1.3e4 -1.3e4 -1.3e4 -1.3e4 -1.3e4   1385    1.0\n",
      "\n",
      "Samples were drawn using NUTS at Thu May 16 16:59:39 2019.\n",
      "For each parameter, n_eff is a crude measure of effective sample size,\n",
      "and Rhat is the potential scale reduction factor on split chains (at \n",
      "convergence, Rhat=1).\n"
     ]
    }
   ],
   "source": [
    "model_5 = pystan.StanModel(model_code=model_5_code)\n",
    "fit_model_5 = model_5.sampling(data=standata, control=dict(adapt_delta=0.9))\n",
    "print(fit_model_5)"
   ]
  },
  {
   "cell_type": "code",
   "execution_count": 49,
   "metadata": {},
   "outputs": [
    {
     "name": "stdout",
     "output_type": "stream",
     "text": [
      "PSIS-LOO: -12546.27\n",
      "Number of effective parameters (p-eff): 16.23\n"
     ]
    }
   ],
   "source": [
    "extract_5 = fit_model_5.extract()\n",
    "n_obs = len(extract_5['gamma'])\n",
    "model_5_loglik = np.empty((n_obs, standata['n_aa']), dtype=np.float32)\n",
    "mask = standata['epitopes'] == 1\n",
    "for i in range(n_obs):\n",
    "    beta = extract_5['beta'][i]\n",
    "    alpha = extract_5['alpha'][i][standata['aa'] - 1]\n",
    "    gamma = extract_5['gamma'][i]\n",
    "    ps = expit(alpha + beta * standata['scores'] + gamma*standata['inv_score_sum'])\n",
    "    ps[~mask] = 1-ps[~mask]\n",
    "    model_5_loglik[i] = np.log(ps)\n",
    "    \n",
    "model_5_loo, model_5_loos, model_5_ks = psis.psisloo(model_5_loglik)\n",
    "\n",
    "print(\"PSIS-LOO: {:.2f}\".format(model_5_loo))\n",
    "print(\"Number of effective parameters (p-eff): {:.2f}\".format(p_eff(model_5_loo, model_5_loglik)))"
   ]
  },
  {
   "cell_type": "markdown",
   "metadata": {},
   "source": [
    "#### Model 6: Separate model + sum of scores\n",
    "\n",
    "$epitopes \\sim expit(\\alpha_{aa} + \\beta_{aa} \\times pred + \\gamma \\times \\frac{1}{\\sum{pred}})$"
   ]
  },
  {
   "cell_type": "code",
   "execution_count": null,
   "metadata": {},
   "outputs": [],
   "source": [
    "# %load \"models/separate_scoresum.stan\"\n",
    "data {\n",
    "    int<lower=0> n_classes;\n",
    "    int<lower=0> n_aa;\n",
    "    int aa[n_aa];\n",
    "    int<lower=0,upper=1> epitopes[n_aa]; // binarize to 0 or 1\n",
    "    vector[n_aa] scores; // output of bepipred\n",
    "    vector[n_aa] inv_score_sum; // Inverse of sum of scores in protein\n",
    "    \n",
    "}\n",
    "parameters {\n",
    "    vector[n_classes] alpha;\n",
    "    vector[n_classes] beta;\n",
    "    real gamma;\n",
    "    \n",
    "}\n",
    "model {\n",
    "    epitopes ~ bernoulli_logit(alpha[aa] + beta[aa] .* scores + gamma * inv_score_sum);\n",
    "}"
   ]
  },
  {
   "cell_type": "code",
   "execution_count": 51,
   "metadata": {},
   "outputs": [],
   "source": [
    "with open(\"models/separate_scoresum.stan\") as file:\n",
    "    model_6_code = file.read()"
   ]
  },
  {
   "cell_type": "code",
   "execution_count": 52,
   "metadata": {},
   "outputs": [
    {
     "name": "stderr",
     "output_type": "stream",
     "text": [
      "INFO:pystan:COMPILING THE C++ CODE FOR MODEL anon_model_ccf4d7a0d4c0c635667dfef7910aeb6e NOW.\n",
      "/Users/dpohl/anaconda3/envs/PyStan/lib/python3.6/site-packages/Cython/Compiler/Main.py:367: FutureWarning: Cython directive 'language_level' not set, using 2 for now (Py2). This will change in a later release! File: /var/folders/zq/wfnwl84j08q68c6t__f3vs200000gn/T/tmp89vfx6gy/stanfit4anon_model_ccf4d7a0d4c0c635667dfef7910aeb6e_8959638248668856726.pyx\n",
      "  tree = Parsing.p_module(s, pxd, full_module_name)\n"
     ]
    },
    {
     "name": "stdout",
     "output_type": "stream",
     "text": [
      "Inference for Stan model: anon_model_ccf4d7a0d4c0c635667dfef7910aeb6e.\n",
      "4 chains, each with iter=2000; warmup=1000; thin=1; \n",
      "post-warmup draws per chain=1000, total post-warmup draws=4000.\n",
      "\n",
      "            mean se_mean     sd   2.5%    25%    50%    75%  97.5%  n_eff   Rhat\n",
      "alpha[1]   -4.73  2.2e-3   0.19   -5.1  -4.86  -4.73  -4.61  -4.38   6835    1.0\n",
      "alpha[2]   -4.24  2.3e-3    0.2  -4.64  -4.37  -4.24   -4.1  -3.84   7473    1.0\n",
      "alpha[3]   -4.31  2.8e-3   0.21  -4.73  -4.46  -4.31  -4.17  -3.92   5649    1.0\n",
      "alpha[4]   -4.19  2.7e-3   0.22  -4.62  -4.33  -4.19  -4.05  -3.78   6395    1.0\n",
      "alpha[5]   -4.17  2.0e-3   0.16  -4.47  -4.27  -4.17  -4.06  -3.86   6476    1.0\n",
      "alpha[6]   -4.82  2.1e-3   0.17  -5.16  -4.94  -4.82   -4.7  -4.49   6764    1.0\n",
      "alpha[7]    -4.9  3.7e-3    0.3  -5.51   -5.1   -4.9  -4.69  -4.33   6639    1.0\n",
      "alpha[8]   -4.85  2.3e-3   0.18  -5.21  -4.97  -4.85  -4.72  -4.48   6703    1.0\n",
      "alpha[9]   -5.16  2.0e-3   0.17  -5.49  -5.27  -5.15  -5.04  -4.83   6935    1.0\n",
      "alpha[10]  -4.21  2.6e-3   0.22  -4.65  -4.36   -4.2  -4.05  -3.78   7560    1.0\n",
      "alpha[11]  -4.53  2.3e-3   0.19  -4.91  -4.66  -4.53   -4.4  -4.17   7216    1.0\n",
      "alpha[12]  -4.39  3.9e-3   0.31  -5.01  -4.59  -4.38  -4.18  -3.79   6319    1.0\n",
      "alpha[13]  -3.91  2.2e-3   0.18  -4.26  -4.03  -3.91  -3.79  -3.56   6242    1.0\n",
      "alpha[14]  -5.12  4.5e-3   0.39  -5.93  -5.38  -5.11  -4.86  -4.36   7496    1.0\n",
      "alpha[15]  -4.61  2.9e-3   0.24  -5.08  -4.77  -4.61  -4.44  -4.14   6851    1.0\n",
      "alpha[16]  -4.03  2.5e-3   0.21  -4.46  -4.17  -4.02  -3.89  -3.62   6894    1.0\n",
      "alpha[17]  -4.59  2.5e-3    0.2  -4.98  -4.73  -4.59  -4.46  -4.19   6805    1.0\n",
      "alpha[18]  -3.85  2.5e-3   0.21  -4.25  -3.99  -3.85  -3.71  -3.45   6654    1.0\n",
      "alpha[19]  -4.74  2.2e-3   0.17  -5.09  -4.85  -4.74  -4.62   -4.4   6584    1.0\n",
      "alpha[20]  -4.18  2.5e-3   0.21   -4.6  -4.32  -4.18  -4.03  -3.78   7346    1.0\n",
      "beta[1]     14.9    0.03   2.11  10.82   13.5  14.95   16.3  19.14   6779    1.0\n",
      "beta[2]     8.58    0.02   1.67   5.25   7.47    8.6   9.69  11.86   7461    1.0\n",
      "beta[3]     9.67    0.02   1.84   6.06   8.42   9.66  10.91  13.23   6128    1.0\n",
      "beta[4]      8.2    0.02   1.79   4.66    7.0   8.19   9.41  11.76   6232    1.0\n",
      "beta[5]     8.59    0.02   1.61   5.36   7.52    8.6   9.69  11.63   6242    1.0\n",
      "beta[6]    14.27    0.02   1.75  10.87  13.08  14.32  15.46   17.7   6645    1.0\n",
      "beta[7]    14.68    0.04   3.21   8.28  12.52  14.59   16.8   21.1   6619    1.0\n",
      "beta[8]     12.3    0.02   2.13   8.09  10.91  12.28  13.78  16.55   7230    1.0\n",
      "beta[9]    16.67    0.02   1.76  13.27  15.47  16.66  17.89   20.1   7420    1.0\n",
      "beta[10]    9.41    0.02   2.02   5.57   8.04   9.38  10.78  13.31   7590    1.0\n",
      "beta[11]   10.61    0.02   1.78   7.15   9.39   10.6  11.85  14.04   7219    1.0\n",
      "beta[12]    12.3    0.03   2.77   6.89  10.45  12.33   14.1  17.75   7242    1.0\n",
      "beta[13]    6.04    0.02   1.41   3.29   5.08   6.05   6.99   8.77   6070    1.0\n",
      "beta[14]   14.35    0.06   5.72   2.89  10.51  14.37  18.16  25.52   7774    1.0\n",
      "beta[15]   12.79    0.03   2.12   8.58  11.41  12.79  14.23   17.0   7147    1.0\n",
      "beta[16]    7.68    0.02   1.75   4.23   6.52   7.65   8.85  11.18   6802    1.0\n",
      "beta[17]   12.96    0.03   2.11    8.8  11.56  12.97  14.43  17.02   6449    1.0\n",
      "beta[18]    7.25    0.02   1.64   4.08   6.13   7.27   8.38  10.39   6873    1.0\n",
      "beta[19]   12.72    0.02   1.97   8.78  11.45  12.71  14.02   16.6   6655    1.0\n",
      "beta[20]    7.56    0.02   1.56   4.57   6.49   7.54   8.57  10.75   7542    1.0\n",
      "gamma      20.56  7.4e-3   0.68  19.23  20.09  20.56  21.02  21.89   8346    1.0\n",
      "lp__      -1.3e4    0.11   4.42 -1.3e4 -1.3e4 -1.3e4 -1.3e4 -1.3e4   1653    1.0\n",
      "\n",
      "Samples were drawn using NUTS at Thu May 16 17:34:35 2019.\n",
      "For each parameter, n_eff is a crude measure of effective sample size,\n",
      "and Rhat is the potential scale reduction factor on split chains (at \n",
      "convergence, Rhat=1).\n"
     ]
    }
   ],
   "source": [
    "model_6 = pystan.StanModel(model_code=model_6_code)\n",
    "fit_model_6 = model_6.sampling(data=standata)\n",
    "print(fit_model_6)"
   ]
  },
  {
   "cell_type": "code",
   "execution_count": 53,
   "metadata": {},
   "outputs": [
    {
     "name": "stdout",
     "output_type": "stream",
     "text": [
      "PSIS-LOO: -12538.31\n",
      "Number of effective parameters (p-eff): 37.00\n"
     ]
    }
   ],
   "source": [
    "extract_6 = fit_model_6.extract()\n",
    "n_obs = len(extract_6['gamma'])\n",
    "model_6_loglik = np.empty((n_obs, standata['n_aa']), dtype=np.float32)\n",
    "mask = standata['epitopes'] == 1\n",
    "for i in range(n_obs):\n",
    "    beta = extract_6['beta'][i][standata['aa'] - 1]\n",
    "    alpha = extract_6['alpha'][i][standata['aa'] - 1]\n",
    "    gamma = extract_6['gamma'][i]\n",
    "    ps = expit(alpha + beta*standata['scores'] + gamma*standata['inv_score_sum'])\n",
    "    ps[~mask] = 1-ps[~mask]\n",
    "    model_6_loglik[i] = np.log(ps)\n",
    "    \n",
    "model_6_loo, model_6_loos, model_6_ks = psis.psisloo(model_6_loglik)\n",
    "\n",
    "print(\"PSIS-LOO: {:.2f}\".format(model_6_loo))\n",
    "print(\"Number of effective parameters (p-eff): {:.2f}\".format(p_eff(model_6_loo, model_6_loglik)))"
   ]
  },
  {
   "cell_type": "markdown",
   "metadata": {},
   "source": [
    "#### Model 7: Model 6 w/o Bepipred\n",
    "\n",
    "$epitopes \\sim expit(\\alpha_{aa} + \\gamma \\times \\frac{1}{\\sum{length}})$"
   ]
  },
  {
   "cell_type": "code",
   "execution_count": null,
   "metadata": {},
   "outputs": [],
   "source": [
    "# %load \"models/linear.stan\"\n",
    "data {\n",
    "    int<lower=0> n_classes;\n",
    "    int<lower=0> n_aa;\n",
    "    int aa[n_aa];\n",
    "    int<lower=0,upper=1> epitopes[n_aa]; // binarize to 0 or 1\n",
    "    vector[n_aa] inv_length; // Inverse of protein length\n",
    "    \n",
    "}\n",
    "parameters {\n",
    "    vector[n_classes] alpha;\n",
    "    real gamma;\n",
    "    \n",
    "}\n",
    "model {\n",
    "    epitopes ~ bernoulli_logit(alpha[aa] + gamma * inv_length);\n",
    "}"
   ]
  },
  {
   "cell_type": "code",
   "execution_count": 55,
   "metadata": {},
   "outputs": [],
   "source": [
    "with open(\"models/linear.stan\") as file:\n",
    "    model_7_code = file.read()"
   ]
  },
  {
   "cell_type": "code",
   "execution_count": 56,
   "metadata": {},
   "outputs": [
    {
     "name": "stderr",
     "output_type": "stream",
     "text": [
      "INFO:pystan:COMPILING THE C++ CODE FOR MODEL anon_model_e52c19e55a7805f4a3b1270ae410bd62 NOW.\n",
      "/Users/dpohl/anaconda3/envs/PyStan/lib/python3.6/site-packages/Cython/Compiler/Main.py:367: FutureWarning: Cython directive 'language_level' not set, using 2 for now (Py2). This will change in a later release! File: /var/folders/zq/wfnwl84j08q68c6t__f3vs200000gn/T/tmpofixz9jz/stanfit4anon_model_e52c19e55a7805f4a3b1270ae410bd62_5526925197597725929.pyx\n",
      "  tree = Parsing.p_module(s, pxd, full_module_name)\n"
     ]
    },
    {
     "name": "stdout",
     "output_type": "stream",
     "text": [
      "Inference for Stan model: anon_model_e52c19e55a7805f4a3b1270ae410bd62.\n",
      "4 chains, each with iter=2000; warmup=1000; thin=1; \n",
      "post-warmup draws per chain=1000, total post-warmup draws=4000.\n",
      "\n",
      "            mean se_mean     sd   2.5%    25%    50%    75%  97.5%  n_eff   Rhat\n",
      "alpha[1]   -3.58  1.4e-3   0.08  -3.74  -3.63  -3.58  -3.52  -3.42   3718    1.0\n",
      "alpha[2]   -3.21  1.3e-3   0.07  -3.35  -3.26  -3.21  -3.16  -3.06   3097    1.0\n",
      "alpha[3]   -3.23  1.4e-3   0.08  -3.39  -3.28  -3.23  -3.18  -3.08   3007    1.0\n",
      "alpha[4]    -3.2  1.4e-3   0.08  -3.35  -3.25   -3.2  -3.15  -3.05   2856    1.0\n",
      "alpha[5]   -3.34  1.2e-3   0.07  -3.47  -3.38  -3.34  -3.29  -3.21   3126    1.0\n",
      "alpha[6]   -3.55  1.2e-3   0.07  -3.69   -3.6  -3.55   -3.5  -3.41   3384    1.0\n",
      "alpha[7]   -3.72  2.3e-3   0.15  -4.01  -3.81  -3.71  -3.61  -3.44   3970    1.0\n",
      "alpha[8]    -3.9  1.4e-3   0.08  -4.06  -3.95   -3.9  -3.84  -3.73   3335    1.0\n",
      "alpha[9]   -3.78  1.3e-3   0.07  -3.93  -3.83  -3.77  -3.73  -3.63   3167    1.0\n",
      "alpha[10]  -3.21  1.5e-3   0.09  -3.39  -3.27  -3.21  -3.15  -3.04   3728    1.0\n",
      "alpha[11]  -3.46  1.4e-3   0.08  -3.62  -3.52  -3.46  -3.41  -3.32   3163    1.0\n",
      "alpha[12]   -3.1  1.8e-3   0.11  -3.34  -3.18   -3.1  -3.03  -2.88   4083    1.0\n",
      "alpha[13]  -3.14  1.3e-3   0.07  -3.28  -3.19  -3.14   -3.1  -3.01   2745    1.0\n",
      "alpha[14]  -4.18  2.4e-3   0.15  -4.48  -4.29  -4.18  -4.08  -3.88   4159    1.0\n",
      "alpha[15]  -3.37  1.8e-3   0.11  -3.58  -3.44  -3.37  -3.29  -3.16   3525    1.0\n",
      "alpha[16]  -3.09  1.4e-3   0.08  -3.26  -3.14  -3.09  -3.04  -2.94   3359    1.0\n",
      "alpha[17]  -3.44  1.5e-3   0.09  -3.62   -3.5  -3.44  -3.38  -3.27   3314    1.0\n",
      "alpha[18]  -2.91  1.3e-3   0.07  -3.05  -2.96  -2.91  -2.86  -2.77   2903    1.0\n",
      "alpha[19]  -3.71  1.5e-3   0.08  -3.87  -3.77  -3.71  -3.66  -3.56   2694    1.0\n",
      "alpha[20]  -3.15  1.3e-3   0.07  -3.29  -3.19  -3.15   -3.1  -3.01   2847    1.0\n",
      "gamma     212.64    0.16   5.63 201.96 208.87 212.62  216.4 223.91   1212    1.0\n",
      "lp__      -1.3e4    0.08   3.35 -1.3e4 -1.3e4 -1.3e4 -1.3e4 -1.3e4   1747    1.0\n",
      "\n",
      "Samples were drawn using NUTS at Thu May 16 17:41:11 2019.\n",
      "For each parameter, n_eff is a crude measure of effective sample size,\n",
      "and Rhat is the potential scale reduction factor on split chains (at \n",
      "convergence, Rhat=1).\n"
     ]
    }
   ],
   "source": [
    "model_7 = pystan.StanModel(model_code=model_7_code)\n",
    "fit_model_7 = model_7.sampling(data=standata)\n",
    "print(fit_model_7)"
   ]
  },
  {
   "cell_type": "code",
   "execution_count": 57,
   "metadata": {},
   "outputs": [
    {
     "name": "stdout",
     "output_type": "stream",
     "text": [
      "PSIS-LOO: -12813.00\n",
      "Number of effective parameters (p-eff): 20.87\n"
     ]
    }
   ],
   "source": [
    "extract_7 = fit_model_7.extract()\n",
    "n_obs = len(extract_7['gamma'])\n",
    "model_7_loglik = np.empty((n_obs, standata['n_aa']), dtype=np.float32)\n",
    "mask = standata['epitopes'] == 1\n",
    "for i in range(n_obs):\n",
    "    alpha = extract_7['alpha'][i][standata['aa'] - 1]\n",
    "    gamma = extract_7['gamma'][i]\n",
    "    ps = expit(alpha + gamma * standata['inv_length'])\n",
    "    ps[~mask] = 1-ps[~mask]\n",
    "    model_7_loglik[i] = np.log(ps)\n",
    "    \n",
    "model_7_loo, model_7_loos, model_7_ks = psis.psisloo(model_7_loglik)\n",
    "\n",
    "print(\"PSIS-LOO: {:.2f}\".format(model_7_loo))\n",
    "print(\"Number of effective parameters (p-eff): {:.2f}\".format(p_eff(model_7_loo, model_7_loglik)))"
   ]
  },
  {
   "cell_type": "markdown",
   "metadata": {},
   "source": [
    "## Overview of results\n",
    "blabla"
   ]
  },
  {
   "cell_type": "markdown",
   "metadata": {},
   "source": [
    "Pareto smoothed importance sampling leave-one-out (PSIS-LOO) cross-validation was used to estimate the predictive performance of each model. The following is a summary of the PSIS-LOO values obtained for each respective model:"
   ]
  },
  {
   "cell_type": "code",
   "execution_count": 115,
   "metadata": {},
   "outputs": [
    {
     "data": {
      "image/png": "[encoded data removed]",
      "text/plain": [
       "<Figure size 864x360 with 1 Axes>"
      ]
     },
     "metadata": {},
     "output_type": "display_data"
    }
   ],
   "source": [
    "# PSIS-LOO summary\n",
    "loos = [model_null_loglik, model_0_loglik.sum(), model_1_loo, model_2_loo, model_3_loo, model_4_loo, model_5_loo, model_6_loo, model_7_loo]\n",
    "plt.figure(figsize=(12, 5))\n",
    "plt.bar(range(len(loos)), loos)\n",
    "for i, v in enumerate(loos):\n",
    "    plt.text(i - .25, v - 35, str(r'{:.0f}'.format(v)), color='black', fontweight='bold', fontsize=10)\n",
    "plt.ylim(min(loos) - 80, -12450)\n",
    "plt.xticks(range(len(loos)), ['Null'] + ['M'+str(i) for i in range(8)])\n",
    "setplot('PSIS LOO sum of models', 'Model', 'Log predictive density sum')"
   ]
  },
  {
   "cell_type": "code",
   "execution_count": 121,
   "metadata": {},
   "outputs": [
    {
     "data": {
      "text/plain": [
       "<matplotlib.legend.Legend at 0x1c213b3ba8>"
      ]
     },
     "execution_count": 121,
     "metadata": {},
     "output_type": "execute_result"
    },
    {
     "data": {
      "image/png": "[encoded data removed]",
      "text/plain": [
       "<Figure size 648x288 with 1 Axes>"
      ]
     },
     "metadata": {},
     "output_type": "display_data"
    }
   ],
   "source": [
    "p_nominal = [0, 0, 2, 40, 23, 24, 24, 41, 21]\n",
    "\n",
    "peffs = [0,\n",
    "         0,\n",
    "         p_eff(model_1_loo, model_1_loglik),\n",
    "         p_eff(model_2_loo, model_2_loglik),\n",
    "         p_eff(model_3_loo, model_3_loglik),\n",
    "         p_eff(model_4_loo, model_4_loglik),\n",
    "         p_eff(model_5_loo, model_5_loglik),\n",
    "         p_eff(model_6_loo, model_6_loglik),\n",
    "         p_eff(model_7_loo, model_7_loglik)\n",
    "        ]\n",
    "\n",
    "plt.figure(figsize=(9, 4))\n",
    "plt.bar(range(len(peffs)), p_nominal)\n",
    "plt.bar(range(len(peffs)), peffs)\n",
    "\n",
    "plt.ylim(0, 42)\n",
    "plt.xticks(range(len(peffs)), ['Null'] + ['M'+str(i) for i in range(8)])\n",
    "setplot('Effectiv number of parameters', 'Model', 'Effective parameter')\n",
    "plt.legend(['N_params', 'Neff_params'], fontsize=16)"
   ]
  },
  {
   "cell_type": "markdown",
   "metadata": {},
   "source": [
    "## Conclusion\n",
    "blabla"
   ]
  }
 ],
 "metadata": {
  "kernelspec": {
   "display_name": "Python 3",
   "language": "python",
   "name": "python3"
  }
 },
 "nbformat": 4,
 "nbformat_minor": 2
}
