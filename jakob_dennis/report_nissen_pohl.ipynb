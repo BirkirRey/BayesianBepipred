{
 "cells": [
  {
   "cell_type": "markdown",
   "metadata": {},
   "source": [
    "# 02936 Bayesian Data Analysis\n",
    "## Extending Bepipred epitope prediction model\n",
    "#### by Jakob Nissen (<span style=\"color:red\">your_student_number</span>) and Dennis Pohl (s190347)\n",
    "## Introduction\n",
    "In this project, we're exploring Bayesian extensions of an existing deep learning model, Bepipred, which predicts a property of proteins. Understanding this necessitates a brief introduction to the structure of proteins as well as the function of Bepipred, which we will cover in the next chapters.\n",
    "\n",
    "This project was done in loose collaboration with Birkir Reynisson (BR) and Martil Closter Jespersen (MCJ). We decided early in the project to split into two groups because smaller ground allow each group member to contribute more meaningfully. The data, the original Bepipred model and a description of the scientific problem was provided by MCJ. Early in the project, we held meetings with BR & MCJ to get an idea about possible approaches to the project. Other than the data, the model and the meetings, the two groups have worked completely independently.\n",
    "\n",
    "#### Proteins and amino acids\n",
    "Most biochemical reactions in the body are catalyzed by proteins. Proteins also serve as building blocks of tissues such as hair, nails, skin and muscle. For this reason, almost all molecular biological endeavours involves interaction with a protein, and ...\n",
    "\n",
    "#### Antibodies and epitopes\n",
    "Antibodies are a group of proteins that can specifically recognize and bind to different classes of antigens through epitope regions. Antigens are foreign proteins, polysaccharides or other molecules, often found on bacterial or viral surface structures that can enter our body and induce an immune response. Generally, the human body is capable of detecting antigens through B cells carrying antibodies on their surface which will recognize epitope regions (which are usually 5-8 amino acids in length) on the surface of the antigen. Epitopes can fold into many complex three dimensional conformations, thereby impairing the efficiency of an antibody to recognize and bind to the antigen. However, if an antibody was able to bind to an epitope it will render the antigen harmless by e.g. blocking its surface, thereby preventing interactions with the antigen's target receptor.\n",
    "\n",
    "#### Bepipred\n",
    "blabla\n",
    "\n",
    "#### Objectives of this project\n",
    "Description of what we try to do\n",
    "\n",
    "## Analysis\n",
    "short description\n",
    "#### Model 0: Null model\n",
    "#### Model 1: Logistic model\n",
    "logistic regression model\n",
    "#### Model 2: Pooled model\n",
    "#### Model 3: Separate model\n",
    "The separate model does not include any pooling and will generate an estimate for each amino acid. This model will treat the amino acids independently from each other, means each amino acid estimate is unbiased and only based on its own <span style=\"color:red\">(prediction score)</span>. This model has two parameters ($alpha$ and $beta$) for each amino acid estimate.\n",
    "#### Model 4: Hierarchical model\n",
    "#### Model 5: Custom model\n",
    "#### Model 6: Custom model\n",
    "\n",
    "## Overview of results\n",
    "blabla\n",
    "\n",
    "## Conclusion\n",
    "blabla"
   ]
  },
  {
   "cell_type": "code",
   "execution_count": null,
   "metadata": {},
   "outputs": [],
   "source": []
  },
  {
   "cell_type": "code",
   "execution_count": null,
   "metadata": {},
   "outputs": [],
   "source": []
  }
 ],
 "metadata": {
  "kernelspec": {
   "display_name": "Python 3",
   "language": "python",
   "name": "python3"
  },
  "language_info": {
   "codemirror_mode": {
    "name": "ipython",
    "version": 3
   },
   "file_extension": ".py",
   "mimetype": "text/x-python",
   "name": "python",
   "nbconvert_exporter": "python",
   "pygments_lexer": "ipython3",
   "version": "3.6.8"
  }
 },
 "nbformat": 4,
 "nbformat_minor": 2
}
