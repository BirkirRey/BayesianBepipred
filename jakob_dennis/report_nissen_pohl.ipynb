{
 "cells": [
  {
   "cell_type": "markdown",
   "metadata": {},
   "source": [
    "# 02936 Bayesian Data Analysis\n",
    "## Extending Bepipred epitope prediction model\n",
    "#### by Jakob Nissen (s170001) and Dennis Pohl (s190347)\n",
    "## Introduction\n",
    "In this project, we're exploring Bayesian extensions of an existing deep learning model, Bepipred, which predicts a property of proteins. Understanding this necessitates a brief introduction to the structure of proteins as well as the function of Bepipred, which we will cover in the next chapters.\n",
    "\n",
    "This project was done in loose collaboration with Birkir Reynisson (BR) and Martil Closter Jespersen (MCJ). We decided early in the project to split into two groups because smaller ground allow each group member to contribute more meaningfully. The data, the original Bepipred model and a description of the scientific problem was provided by MCJ. Early in the project, we held meetings with BR & MCJ to get an idea about possible approaches to the project. Other than sharing the data, the Bepipred model and the initial meetings, the two groups have worked completely independently.\n",
    "\n",
    "### Proteins and amino acids\n",
    "Most biochemical reactions in the body are catalyzed by proteins. Proteins also serve as building blocks of tissues such as hair, nails, skin and muscle. For this reason, almost all molecular biological object of study involves interaction of proteins.\n",
    "\n",
    "Proteins are synthesized in the body as a linear polymer of a kind of small polar molecule called amino acids. In natural proteins, 20 different amino acids are used. Hence, the chemical structure of a protein can conveniently be perfectly represented as a linear string of letters from a 20-character alphabet, by convention \"ACDEFGHIKLMNPQRSTVWY\". The linear chain of amino acids is also known as the primary protein structure.\n",
    "\n",
    "Hydrogen bonds in the polypeptide backbone of the amino acid string can introduce secondary structures. The most common secondary structures are $\\alpha$-helices, $\\beta$-sheets and loops. In brief, $\\alpha$-helices are helical coils whereas $\\beta$-sheets are formed by (multiple) polypeptide-chains which lie next to each other bound by hydrogen bonds. Loops are loose flexible turns formed by 2-16 amino acid residues and are of particular interest in this project, as they often contain and expose the epitope to the protein surface.\n",
    "\n",
    "During and immediately after synthesis, this chain of amino acid begins to electrostatically interact with itself and the surrounding water and ions. These forces fold the chain into a well-defined three-dimensional structure that is critical for the function of the protein. Although this process is deterministic for a given amino acid sequence, and relies on nothing other than the physiochemical properties of the protein chain, predicting the folding of an amino acid chain is one of the most fundamental unsolved problems in science.\n",
    "\n",
    "#### Antibodies and epitopes\n",
    "Antibodies are a group of proteins that can specifically recognize and bind to different classes of antigens through epitope regions. Antigens are foreign proteins, polysaccharides or other molecules, often found on bacterial or viral surface structures that can enter our body and induce an immune response. Generally, the human body is capable of detecting antigens through B cells carrying antibodies on their surface which will recognize epitope regions (which are usually 5-8 amino acids in length) on the surface of the antigen. Epitopes can fold into many complex three-dimensional conformations, thereby impairing the efficiency of an antibody to recognize and bind to the antigen. However, if an antibody was able to bind to an epitope it will render the antigen harmless by e.g. blocking its surface, thereby preventing interactions with the antigen's target receptor.\n",
    "\n",
    "### Bepipred\n",
    "Bepipred is a computational tool developed by Martin Closter Jespersen (MCJ) to predict which amino acids of a protein constitute epitopes, taking only the amino acid sequence as input. The input is thus a string of length N of the 20-letter amino acid alphabet. The output is a vector of length N of the prediction score in \\[0, 1), where 0 indicates low probability of the corresponding amino acid being an epitope.\n",
    "\n",
    "Bepipred is a convolutional neural network, that predicts the score of each amino acid based on a sliding window of size 9, i.e. the data of the central amino acid for which the score is predicted, as well as the 4 flanking amino acids on each side. Each sliding window leads to a prediction independent of the other sliding windows in the protein. Bepipred uses the features `rsa`, `seq`, `q3` and `disorder` (described in the dataset section).\n",
    "\n",
    "### Dataset\n",
    "Our dataset is a JSON file containing 190 proteins. The dataset have been curated such that no protein share a close evolutionary relationship with any other from the dataset, nor with any protein that Bepipred has been trained on.\n",
    "\n",
    "A total of 16 features per protein in the dataset is avaiable. We will focus on the attributes that are potentially relevant here:\n",
    "\n",
    "__epitope__:\n",
    "A vector of 1 where the amino acid is an epitope and 0 where it is not. These are the true labels.\n",
    "\n",
    "__preds__:\n",
    "A vector of floats \\[0, 1) with the output of Bepipred\n",
    "\n",
    "__disorder__:\n",
    "A vector of floats \\[0, 1) with the a score signifying the predicted freedom of movement of the given amino acid, where 0 indicates the amino acid is locked into place and 1 indicating the amino acid can move as freely as possible.\n",
    "\n",
    "__q3__:\n",
    "A string of characters from the alphabet \"CHE\", signifying the predicted local \"secondary\" structure classified in either coil (C), helix (H) or sheet (E).\n",
    "\n",
    "__q3_prob__:\n",
    "A vector of vectors, where each inner vector has three elements represents the probability of the local structure being coil, helix or sheet, respectively.\n",
    "\n",
    "__rsa__:\n",
    "The predicted relative exposed surface area of the amino acid. This is constrained in [0, 1], where 0 signifies an amino acid completely buried on the inside of the protein, and 1 signifying the amino acid free-floating in the solution.\n",
    "\n",
    "__seq__:\n",
    "A string of chracters from the alphabet \"ACDEFGHIKLMNPQRSTVWXY\" representing the amino acid sequence of the protein, as well as X for unknown amino acid.\n",
    "\n",
    "### Objectives of this project\n",
    "Proteins are large biomolecules consisting of long chains of amino acid residues which usually fold into highly complex 3-dimensional structures. Proteins perform many critical functions in our human body but its function highly depends on its tertiary structure. Predicting epitope regions of a protein remains a difficult task as the folding of a protein is highly complex. In this project we worked with the output produced by Bepipred, and focused in particular on the prediction of epitopes in proteins.\n",
    "\n",
    "The aim of this project is to enhance Bepipred's epitope prediction using Bayesian statistics. We started out with simple Bayesian models and implemented more sophisticated (multiparameter) models, by e.g. taking into consideration protein lengths or amino acid frequency. Each Bayesian model is cross-validated by computing Pareto smoothed importance sampling leave-one-out, or short PSIS-LOO, and we refined our models based on that. Finally we determine and propose the best performing model."
   ]
  },
  {
   "cell_type": "code",
   "execution_count": 4,
   "metadata": {},
   "outputs": [],
   "source": [
    "PSIS_DIRECTORY = '../../assignments'\n",
    "DATA_PATH = '../../bepipred3.json'"
   ]
  },
  {
   "cell_type": "code",
   "execution_count": 5,
   "metadata": {},
   "outputs": [
    {
     "ename": "ModuleNotFoundError",
     "evalue": "No module named 'psis'",
     "output_type": "error",
     "traceback": [
      "\u001b[0;31m---------------------------------------------------------------------------\u001b[0m",
      "\u001b[0;31mModuleNotFoundError\u001b[0m                       Traceback (most recent call last)",
      "\u001b[0;32m<ipython-input-5-c6db189f239f>\u001b[0m in \u001b[0;36m<module>\u001b[0;34m\u001b[0m\n\u001b[1;32m     10\u001b[0m \u001b[0;32mimport\u001b[0m \u001b[0msys\u001b[0m\u001b[0;34m\u001b[0m\u001b[0;34m\u001b[0m\u001b[0m\n\u001b[1;32m     11\u001b[0m \u001b[0msys\u001b[0m\u001b[0;34m.\u001b[0m\u001b[0mpath\u001b[0m\u001b[0;34m.\u001b[0m\u001b[0mappend\u001b[0m\u001b[0;34m(\u001b[0m\u001b[0mPSIS_DIRECTORY\u001b[0m\u001b[0;34m)\u001b[0m\u001b[0;34m\u001b[0m\u001b[0;34m\u001b[0m\u001b[0m\n\u001b[0;32m---> 12\u001b[0;31m \u001b[0;32mimport\u001b[0m \u001b[0mpsis\u001b[0m\u001b[0;34m\u001b[0m\u001b[0;34m\u001b[0m\u001b[0m\n\u001b[0m",
      "\u001b[0;31mModuleNotFoundError\u001b[0m: No module named 'psis'"
     ]
    }
   ],
   "source": [
    "import json\n",
    "import numpy as np\n",
    "import pystan\n",
    "import matplotlib.pyplot as plt\n",
    "\n",
    "from math import log\n",
    "from collections import Counter\n",
    "from scipy.special import logit, expit\n",
    "\n",
    "import sys\n",
    "sys.path.append(PSIS_DIRECTORY)\n",
    "import psis"
   ]
  },
  {
   "cell_type": "code",
   "execution_count": 14,
   "metadata": {},
   "outputs": [],
   "source": [
    "with open(DATA_PATH) as file:\n",
    "    data = json.load(file)"
   ]
  },
  {
   "cell_type": "markdown",
   "metadata": {},
   "source": [
    "### Data preparation\n",
    "\n",
    "Inspection of the data reveals that one protein contains one amino acid labeled 'X'. Since the sliding windows are predicted independently, we have decided to remove this amino acid instead of discarding the protein."
   ]
  },
  {
   "cell_type": "code",
   "execution_count": 11,
   "metadata": {},
   "outputs": [],
   "source": [
    "# Check that all data has the same amino acids, predictions and labels\n",
    "for protein in data:\n",
    "    assert len(protein['epitope']) == len(protein['preds']) == len(protein['seq'])\n",
    "\n",
    "# Remove 'X' from all proteins they are present in\n",
    "for protein in data:\n",
    "    if 'X' in protein['seq']:\n",
    "        x_positions = [i for i,n in enumerate(protein['seq']) if n == 'X']\n",
    "        for k, v in protein.items():\n",
    "            if not hasattr(v, \"__len__\") or len(v) != len(protein['seq']):\n",
    "                continue\n",
    "            newdata = [x for i,x in enumerate(v) if i not in x_positions]\n",
    "            if isinstance(v, str):\n",
    "                newdata = ''.join(newdata)\n",
    "            protein[k] = newdata"
   ]
  },
  {
   "cell_type": "markdown",
   "metadata": {},
   "source": [
    "## Analysis\n",
    "\n",
    "#### Null model\n",
    "\n",
    "$epitopes \\sim uniform(\\alpha)$ \n",
    "\n",
    "For a baseline, we simply predict a constant probability of each amino acid being an epitope. Hopefully, all models should perform better than this."
   ]
  },
  {
   "cell_type": "markdown",
   "metadata": {},
   "source": [
    "#### Model 0: Bepipred model\n",
    "\n",
    "$epitopes \\sim uniform(predictions)$\n",
    "\n",
    "As the purpose of our project is to enhance Bepipred's prediction, the second baseline to establish is a model which simply interpretates Bepipreds output scores as probabilities. Building a model to beat the performance of this baseline is the true goal of the project. "
   ]
  },
  {
   "cell_type": "markdown",
   "metadata": {},
   "source": [
    "#### Model 1: Logistic model\n",
    "\n",
    "$epitopes \\sim expit(\\alpha + \\beta \\times predictions)$\n",
    "\n",
    "Bepipred is a deep neural network, and is therefore fitted to minimize some loss function which is not necessarily related to the log likelihood. The next step towards a probabilistic model is a simple logistic regression that uses only Bepipreds output to calculate a probability of an amino acid being an epitope."
   ]
  },
  {
   "cell_type": "markdown",
   "metadata": {},
   "source": [
    "#### Model 2: Separate model\n",
    "\n",
    "$epitopes \\sim expit(\\alpha_{aa} + \\beta_{aa} \\times pred)$\n",
    "\n",
    "The separate model does not include any pooling and will generate an estimate for each amino acid. This model will treat the amino acids independently from each other, means each amino acid estimate is unbiased and only based on its own <span style=\"color:red\">(prediction score)</span>. This model has two parameters ($\\alpha$ and $\\beta$) for each amino acid estimate."
   ]
  },
  {
   "cell_type": "markdown",
   "metadata": {},
   "source": [
    "#### Model 3: Hierarchical model\n",
    "\n",
    "$\\alpha \\sim \\mathcal{N}(\\mu_{\\alpha}, \\sigma_{\\alpha})$\n",
    "\n",
    "$epitopes \\sim expit(\\alpha_{aa} + \\beta \\times pred)$\n",
    "\n",
    "This model is an extension of the previous, where we assume the different $\\alpha$ values are not truly independent, but in fact related by being from the same distribtuion, and thus can inform each other."
   ]
  },
  {
   "cell_type": "markdown",
   "metadata": {},
   "source": [
    "#### Model 4: Custom model\n",
    "\n",
    "$\\alpha \\sim \\mathcal{N}(\\mu_{\\alpha}, \\sigma_{\\alpha})$\n",
    "\n",
    "$epitopes \\sim expit(\\alpha_{aa} + \\beta \\times pred + \\gamma \\times \\frac{1}{len})$\n",
    "\n",
    "This model is identical to the previous model, except that a term is added to the logistic regression which takes the length of the protein into account.\n",
    "Studying the data, we can see that the long proteins have fewer epitopes per amino acid than short ones do (see figure below). The signal is remarkable, and because Bepipred predicts on only a small window of amino acids, we believe it is not able to take this into account."
   ]
  },
  {
   "cell_type": "code",
   "execution_count": 21,
   "metadata": {},
   "outputs": [],
   "source": [
    "def setplot(title, xlabel, ylabel):\n",
    "    plt.title(title, fontsize=20)\n",
    "    plt.tick_params(labelsize=12)\n",
    "    plt.xlabel(xlabel, fontsize=14)\n",
    "    plt.ylabel(ylabel, fontsize=14)"
   ]
  },
  {
   "cell_type": "code",
   "execution_count": 34,
   "metadata": {},
   "outputs": [
    {
     "data": {
      "image/png": "[encoded data removed]",
      "text/plain": [
       "<Figure size 432x288 with 1 Axes>"
      ]
     },
     "metadata": {
      "needs_background": "light"
     },
     "output_type": "display_data"
    }
   ],
   "source": [
    "xs = [len(protein['seq']) for protein in data]\n",
    "ys = [sum(protein['epitope'])/i for protein, i in zip(data, xs)]\n",
    "plt.plot(xs, ys, '.')\n",
    "setplot('Long proteins have relatively fewer epitopes', 'Epitopes / length', 'Length')"
   ]
  },
  {
   "cell_type": "markdown",
   "metadata": {},
   "source": [
    "#### Model 6: Custom model"
   ]
  },
  {
   "cell_type": "code",
   "execution_count": null,
   "metadata": {},
   "outputs": [],
   "source": []
  },
  {
   "cell_type": "markdown",
   "metadata": {},
   "source": [
    "#### Model 7:\n",
    "\n",
    "$epitopes \\sim \\gamma + \\delta(1 - \\gamma) \\times \\frac{1}{length} \\times expit(\\alpha_{aa} + \\beta_{aa} \\times pred)$"
   ]
  },
  {
   "cell_type": "code",
   "execution_count": null,
   "metadata": {},
   "outputs": [],
   "source": []
  },
  {
   "cell_type": "markdown",
   "metadata": {},
   "source": [
    "## Overview of results\n",
    "blabla"
   ]
  },
  {
   "cell_type": "markdown",
   "metadata": {},
   "source": [
    "<span style=\"color:red\">The following: Arbitrary PSIS-LOO values. Need to replace them</span>\n",
    "\n",
    "Pareto smoothed importance sampling leave-one-out (PSIS-LOO) cross-validation was used to estimate the predictive performance of each model. The following is a summary of the PSIS-LOO values obtained for each respective model:"
   ]
  },
  {
   "cell_type": "code",
   "execution_count": 6,
   "metadata": {},
   "outputs": [
    {
     "data": {
      "image/png": "[encoded data removed]",
      "text/plain": [
       "<Figure size 864x360 with 1 Axes>"
      ]
     },
     "metadata": {
      "needs_background": "light"
     },
     "output_type": "display_data"
    }
   ],
   "source": [
    "PSIS_LOO_comp = {\n",
    "    \"model 1\": -12977.486,\n",
    "    \"model 2\": -12450.450,\n",
    "    \"model 3\": -12789.789,\n",
    "    \"model 4\": -12123.123,\n",
    "    \"model 5\": -12874.673,\n",
    "    \"model 6\": -12674.673,\n",
    "    \"model 7\": -12574.673\n",
    "                }\n",
    "\n",
    "f = plt.figure(figsize = (12, 5))\n",
    "x = PSIS_LOO_comp.keys()\n",
    "y = PSIS_LOO_comp.values()\n",
    "maximum = max(PSIS_LOO_comp.values()) + 200\n",
    "minimum = min(PSIS_LOO_comp.values()) - 200\n",
    "\n",
    "plt.bar(x, y, alpha=0.7, color=['black', 'firebrick', 'lime', 'navy', 'orange', 'darkcyan', 'tan'])\n",
    "plt.ylim(maximum, minimum)\n",
    "plt.ylabel(\"PSIS-LOO\")\n",
    "plt.show()"
   ]
  },
  {
   "cell_type": "markdown",
   "metadata": {},
   "source": [
    "## Conclusion\n",
    "blabla"
   ]
  },
  {
   "cell_type": "code",
   "execution_count": 37,
   "metadata": {},
   "outputs": [
    {
     "data": {
      "text/plain": [
       "0.005"
      ]
     },
     "execution_count": 37,
     "metadata": {},
     "output_type": "execute_result"
    }
   ],
   "source": [
    "1/200"
   ]
  }
 ],
 "metadata": {
  "kernelspec": {
   "display_name": "Python 3",
   "language": "python",
   "name": "python3"
  },
  "language_info": {
   "codemirror_mode": {
    "name": "ipython",
    "version": 3
   },
   "file_extension": ".py",
   "mimetype": "text/x-python",
   "name": "python",
   "nbconvert_exporter": "python",
   "pygments_lexer": "ipython3",
   "version": "3.6.8"
  }
 },
 "nbformat": 4,
 "nbformat_minor": 2
}
