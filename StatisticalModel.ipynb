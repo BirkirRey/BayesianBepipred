{
 "cells": [
  {
   "cell_type": "markdown",
   "metadata": {},
   "source": [
    "# Statistical Model Construction\n",
    "Optimizing BepiPred performance based on errors in predictions"
   ]
  },
  {
   "cell_type": "code",
   "execution_count": 5,
   "metadata": {
    "collapsed": false
   },
   "outputs": [],
   "source": [
    "import json\n",
    "import os\n",
    "import matplotlib.pyplot as plt\n",
    "import matplotlib as mpl\n",
    "import seaborn as sns\n",
    "import pandas as pd\n",
    "import scipy.stats\n",
    "import numpy as np\n",
    "import utils"
   ]
  },
  {
   "cell_type": "code",
   "execution_count": 64,
   "metadata": {
    "collapsed": true
   },
   "outputs": [],
   "source": [
    "# Load in data\n",
    "with open('../bepipred3.json') as fi:\n",
    "    data = json.load(fi)"
   ]
  },
  {
   "cell_type": "code",
   "execution_count": 65,
   "metadata": {
    "collapsed": true
   },
   "outputs": [],
   "source": [
    "pdbs = dict()\n",
    "\n",
    "for chain in data:\n",
    "    pdbid, chainid, partition = chain['desc'].split(' ')\n",
    "\n",
    "    if pdbid not in pdbs:\n",
    "        pdbs[pdbid] = {'PDB': list(),'predictions': list(),'targets': list(),'aminoacid':list(), 'partition': list() }\n",
    "\n",
    "\n",
    "    preds = chain['preds']\n",
    "    pdbs[pdbid]['predictions'].extend(preds)\n",
    "    pdbs[pdbid]['targets'].extend(chain['epitope'])\n",
    "    pdbs[pdbid]['aminoacid'].extend(list(chain['seq'])) \n",
    "    pdbs[pdbid]['partition'].extend([ int(partition) for x in range(len(chain['preds'])) ])\n",
    "    pdbs[pdbid]['PDB'].extend([ pdbid for x in range(len(chain['preds'])) ])\n"
   ]
  },
  {
   "cell_type": "code",
   "execution_count": 67,
   "metadata": {
    "collapsed": false
   },
   "outputs": [
    {
     "data": {
      "text/plain": [
       "(0.30025515170948264, 8.916592157958962e-05)"
      ]
     },
     "execution_count": 67,
     "metadata": {},
     "output_type": "execute_result"
    }
   ],
   "source": [
    "pdbs_dataframe = pd.DataFrame.from_dict({'PDB':list(), 'predictions': list(),'targets': list(),'aminoacid':list(), 'partition': list() })\n",
    "for pdb in sorted(pdbs):\n",
    "    dataframe = pd.DataFrame.from_dict(pdbs[pdb])\n",
    "    pdbs_dataframe = pdbs_dataframe.append(dataframe)\n",
    "\n",
    "epitopes = pdbs_dataframe.groupby('PDB').targets.sum()\n",
    "pred_sum = pdbs_dataframe.groupby('PDB').predictions.sum()\n",
    "scipy.stats.pearsonr(epitopes, pred_sum)"
   ]
  },
  {
   "cell_type": "code",
   "execution_count": null,
   "metadata": {
    "collapsed": true
   },
   "outputs": [],
   "source": []
  },
  {
   "cell_type": "code",
   "execution_count": null,
   "metadata": {
    "collapsed": true
   },
   "outputs": [],
   "source": []
  },
  {
   "cell_type": "code",
   "execution_count": null,
   "metadata": {
    "collapsed": true
   },
   "outputs": [],
   "source": []
  },
  {
   "cell_type": "code",
   "execution_count": null,
   "metadata": {
    "collapsed": true
   },
   "outputs": [],
   "source": []
  },
  {
   "cell_type": "code",
   "execution_count": null,
   "metadata": {
    "collapsed": true
   },
   "outputs": [],
   "source": []
  },
  {
   "cell_type": "code",
   "execution_count": null,
   "metadata": {
    "collapsed": true
   },
   "outputs": [],
   "source": []
  }
 ],
 "metadata": {
  "kernelspec": {
   "display_name": "Python 3",
   "language": "python",
   "name": "python3"
  },
  "language_info": {
   "codemirror_mode": {
    "name": "ipython",
    "version": 3
   },
   "file_extension": ".py",
   "mimetype": "text/x-python",
   "name": "python",
   "nbconvert_exporter": "python",
   "pygments_lexer": "ipython3",
   "version": "3.5.2"
  }
 },
 "nbformat": 4,
 "nbformat_minor": 1
}
